{
 "cells": [
  {
   "cell_type": "markdown",
   "metadata": {},
   "source": [
    "# Laboratorium 7 - Dekompozycja spektralna"
   ]
  },
  {
   "cell_type": "markdown",
   "metadata": {},
   "source": [
    "##### Aleksandra Mazur"
   ]
  },
  {
   "cell_type": "markdown",
   "metadata": {},
   "source": [
    "## Zadanie 1 Metoda potęgowa"
   ]
  },
  {
   "cell_type": "markdown",
   "metadata": {},
   "source": [
    "Napisz funkcję obliczającą metodą potęgową dominującą wartość własną (największą co do modułu) i odpowiadający jej wektor własny dla danej macierzy rzeczywistej symetrycznej. Sprawdź poprawność działania programu porównując własną implementację z wynikami funkcji bibliotecznej. Przedstaw na wykresie zależność czasu obliczeń od rozmiaru macierzy (rozmiary macierzy 100x100, 500x500, ...).\n",
    "* Powtarzaj mnożenie wektora $x_i$ przez macierz ***A***: $$x_{i+1} = A x_i$$ dzieląc za każdym razem wektor wynikowy przez $||x_{i+1}||_{\\infty}$\n",
    "* Element wektora $x_{i}$ o największej wartości bezwzględnej zbiega do dominującej wartości własnej\n",
    "* Przeskalowany wektor $x_i$ zbiega do dominującego wektora własnego\n",
    "* Obliczenia powinny zatrzymać się po przekroczeniu maksymalnej liczby iteracji, albo w przypadku gdy $||x_i - x_{i+1}||<{\\epsilon}$ (kryterium małej poprawki)\n",
    "* Pod koniec obliczeń znormalizuj otrzymany wektor własny"
   ]
  },
  {
   "cell_type": "code",
   "execution_count": 1,
   "metadata": {
    "pycharm": {
     "name": "#%%\n"
    }
   },
   "outputs": [],
   "source": [
    "import numpy as np\n",
    "import time\n",
    "import matplotlib.pyplot as plt\n",
    "import scipy.linalg\n",
    "import scipy.sparse.linalg"
   ]
  },
  {
   "cell_type": "markdown",
   "metadata": {},
   "source": [
    "Funkcja ***get_random_symmetric_matrix*** zwraca symetryczną macierz o danym rozmiarze, wypełnioną losowymi wartościami."
   ]
  },
  {
   "cell_type": "code",
   "execution_count": 2,
   "metadata": {
    "pycharm": {
     "name": "#%%\n"
    }
   },
   "outputs": [],
   "source": [
    "def get_random_symmetric_matrix(matrix_size):\n",
    "    matrix = np.random.rand(matrix_size, matrix_size)\n",
    "    return (matrix + matrix.T)/2"
   ]
  },
  {
   "cell_type": "markdown",
   "metadata": {},
   "source": [
    "Poniżej przedstawiono przykładową, symetryczną macierz."
   ]
  },
  {
   "cell_type": "code",
   "execution_count": 3,
   "metadata": {
    "pycharm": {
     "name": "#%%\n"
    }
   },
   "outputs": [
    {
     "name": "stdout",
     "output_type": "stream",
     "text": [
      "[[0.41752661 0.20794627 0.73187812 0.63263782 0.67729113]\n",
      " [0.20794627 0.05598711 0.9293712  0.56583004 0.45938443]\n",
      " [0.73187812 0.9293712  0.78924978 0.45873826 0.35566719]\n",
      " [0.63263782 0.56583004 0.45873826 0.94216746 0.73790428]\n",
      " [0.67729113 0.45938443 0.35566719 0.73790428 0.16619325]]\n"
     ]
    }
   ],
   "source": [
    "test_matrix = get_random_symmetric_matrix(5)\n",
    "print(test_matrix)"
   ]
  },
  {
   "cell_type": "markdown",
   "metadata": {},
   "source": [
    "Pomocnicza funkcja ***max_abs*** przyjmuje macierz i zwraca największą, bezwzględną wartość występującą w danej macierzy."
   ]
  },
  {
   "cell_type": "code",
   "execution_count": 4,
   "metadata": {
    "pycharm": {
     "name": "#%%\n"
    }
   },
   "outputs": [],
   "source": [
    "def max_abs(A):\n",
    "    return np.amax(abs(A)) "
   ]
  },
  {
   "cell_type": "markdown",
   "metadata": {},
   "source": [
    "Funkcja ***library_power_method*** jako argument przyjmuje macierz i oblicza metodą potęgową dominującą wartość własną, używając funkcji bibliotecznych *numpy.linalg.eig* i *numpy.linalg.norm*. "
   ]
  },
  {
   "cell_type": "code",
   "execution_count": 5,
   "metadata": {
    "pycharm": {
     "name": "#%%\n"
    }
   },
   "outputs": [],
   "source": [
    "def library_power_method(matrix):\n",
    "    vectors = np.linalg.eig(matrix)[1].T\n",
    "    norms = map(np.linalg.norm, vectors)\n",
    "    norms = map(abs, norms)\n",
    "    max_index = np.argmax(norms)\n",
    "    val = max_abs(vectors[max_index])\n",
    "    vec = vectors[max_index]\n",
    "    return val, vec"
   ]
  },
  {
   "cell_type": "markdown",
   "metadata": {},
   "source": [
    "Funkcja ***my_power_method*** przyjmuje trzy argumenty: macierz *matrix*, dokładność obliczeń *eps* i maksymalną liczbę iteracji *max_iterations*. Używając metody potęgowej oblicza i zwraca wartość własną i odpowiadający jej wektor własny danej macierzy oraz ilość operacji potrzebną do uzyskania tego wyniku."
   ]
  },
  {
   "cell_type": "code",
   "execution_count": 6,
   "metadata": {
    "pycharm": {
     "name": "#%%\n"
    }
   },
   "outputs": [],
   "source": [
    "def my_power_method(matrix, eps = 1e-8, max_iterations = 1000):\n",
    "    A = np.ones((matrix.shape[0], 1))\n",
    "    B = np.random.rand(matrix.shape[0], 1)\n",
    "    \n",
    "    i = 0\n",
    "    while i < max_iterations:\n",
    "        if np.linalg.norm(B - A) < eps:\n",
    "            return max_abs(B), B.T[0], i\n",
    "        A = B\n",
    "        B = matrix.dot(A)\n",
    "        B /= np.linalg.norm(B) #  normalize\n",
    "        i += 1\n",
    "    \n",
    "    val = max_abs(A)\n",
    "    A = A / np.linalg.norm(A)\n",
    "    vec = A.T[0]\n",
    "    return val, vec, i"
   ]
  },
  {
   "cell_type": "markdown",
   "metadata": {},
   "source": [
    "Poniżej przetestowano powyższe funkcje dla wcześniej wygenerowanej macierzy."
   ]
  },
  {
   "cell_type": "code",
   "execution_count": 7,
   "metadata": {
    "pycharm": {
     "name": "#%%\n"
    }
   },
   "outputs": [
    {
     "name": "stdout",
     "output_type": "stream",
     "text": [
      "(0.5249981479736752, array([-0.42895626, -0.37075331, -0.50513381, -0.52499815, -0.38438949]))\n",
      "(0.524998148093138, array([0.42895626, 0.37075331, 0.50513381, 0.52499815, 0.38438949]), 13)\n"
     ]
    }
   ],
   "source": [
    "print(library_power_method(test_matrix))\n",
    "print(my_power_method(test_matrix))"
   ]
  },
  {
   "cell_type": "markdown",
   "metadata": {},
   "source": [
    "Jak widać powyżej funkcja *library_power_method* i funkcja *my_power_method* zwracają taką samą wartość własną oraz wektor własny (pomijając znaki) z dokładnością $10^{-8}$."
   ]
  },
  {
   "cell_type": "markdown",
   "metadata": {},
   "source": [
    "Funkcja ***compare_power_methods*** przyjmuje rozmiar macierzy *N*, wektory czasów *my_times* i *lib_times* osiąganych odpowiednio przez funkcje *my_power_method* i *library_power_method* oraz dokładność obliczeń *eps*. Tworzy ona symetryczną macierz o danym rozmiarze, a następnie porównuje czasy i wyniki działania wspomnianych wcześniej funkcji."
   ]
  },
  {
   "cell_type": "code",
   "execution_count": 8,
   "metadata": {
    "pycharm": {
     "name": "#%%\n"
    }
   },
   "outputs": [],
   "source": [
    "def compare_power_methods(N, my_times, lib_times, eps = 10 ** (-8)):\n",
    "    matrix = get_random_symmetric_matrix(N) \n",
    "    \n",
    "    start = time.time()\n",
    "    my_val, my_vec, my_iterations = my_power_method(matrix)\n",
    "    end = time.time()\n",
    "    my_time = end - start\n",
    "    \n",
    "    start = time.time()\n",
    "    lib_val, lib_vec = library_power_method(matrix)\n",
    "    end = time.time()\n",
    "    lib_time = end - start\n",
    "    \n",
    "    # compare vectors\n",
    "    same_vec = True\n",
    "    for vec_diff in abs(my_vec) - abs(lib_vec):\n",
    "        if vec_diff >= eps:\n",
    "            same_vec = False\n",
    "            break\n",
    "    \n",
    "    # compare values\n",
    "    same_val = abs(my_val - lib_val) < eps\n",
    "    \n",
    "    print(f\"Matrix {N}x{N}, values matching: {same_val and same_vec}\")\n",
    "    print(f\"My function time: {my_time}s\")\n",
    "    print(f\"Library function_time: {lib_time}s\")\n",
    "    print(f\"Number of iterations: {my_iterations}\")\n",
    "    print(\"\\n\")\n",
    "    \n",
    "    my_times.append(my_time)\n",
    "    lib_times.append(lib_time)"
   ]
  },
  {
   "cell_type": "code",
   "execution_count": 9,
   "metadata": {
    "pycharm": {
     "name": "#%%\n"
    }
   },
   "outputs": [],
   "source": [
    "def test_power_methods():\n",
    "    my_times = []\n",
    "    lib_times = []\n",
    "    sizes = [x * 100 for x in range(1, 11)]\n",
    "    for size in sizes:\n",
    "        compare_power_methods(size, my_times, lib_times)\n",
    "    \n",
    "    plt.plot(sizes, my_times, label='my function')\n",
    "    plt.legend()\n",
    "    plt.show()\n",
    "    \n",
    "    plt.plot(sizes, my_times, label='my function')\n",
    "    plt.plot(sizes, lib_times, label='library function')\n",
    "    plt.legend()\n",
    "    plt.show()\n",
    "    \n",
    "    return my_times, lib_times"
   ]
  },
  {
   "cell_type": "markdown",
   "metadata": {},
   "source": [
    "### Porównanie zaimplementowanej i bibliotecznej funkcji:"
   ]
  },
  {
   "cell_type": "code",
   "execution_count": 10,
   "metadata": {
    "pycharm": {
     "name": "#%%\n"
    }
   },
   "outputs": [
    {
     "name": "stdout",
     "output_type": "stream",
     "text": [
      "Matrix 100x100, values matching: True\n",
      "My function time: 0.000997781753540039s\n",
      "Library function_time: 0.007977962493896484s\n",
      "Number of iterations: 8\n",
      "\n",
      "\n",
      "Matrix 200x200, values matching: True\n",
      "My function time: 0.0010004043579101562s\n",
      "Library function_time: 0.026929140090942383s\n",
      "Number of iterations: 7\n",
      "\n",
      "\n",
      "Matrix 300x300, values matching: True\n",
      "My function time: 0.0s\n",
      "Library function_time: 0.04387950897216797s\n",
      "Number of iterations: 7\n",
      "\n",
      "\n",
      "Matrix 400x400, values matching: True\n",
      "My function time: 0.0s\n",
      "Library function_time: 0.07676243782043457s\n",
      "Number of iterations: 7\n",
      "\n",
      "\n",
      "Matrix 500x500, values matching: True\n",
      "My function time: 0.000997781753540039s\n",
      "Library function_time: 0.13862919807434082s\n",
      "Number of iterations: 6\n",
      "\n",
      "\n",
      "Matrix 600x600, values matching: True\n",
      "My function time: 0.0009677410125732422s\n",
      "Library function_time: 0.2563145160675049s\n",
      "Number of iterations: 6\n",
      "\n",
      "\n",
      "Matrix 700x700, values matching: True\n",
      "My function time: 0.002003192901611328s\n",
      "Library function_time: 0.46474671363830566s\n",
      "Number of iterations: 6\n",
      "\n",
      "\n",
      "Matrix 800x800, values matching: True\n",
      "My function time: 0.001997232437133789s\n",
      "Library function_time: 0.6013896465301514s\n",
      "Number of iterations: 6\n",
      "\n",
      "\n",
      "Matrix 900x900, values matching: True\n",
      "My function time: 0.0029942989349365234s\n",
      "Library function_time: 0.6582393646240234s\n",
      "Number of iterations: 6\n",
      "\n",
      "\n",
      "Matrix 1000x1000, values matching: True\n",
      "My function time: 0.0029954910278320312s\n",
      "Library function_time: 0.8407485485076904s\n",
      "Number of iterations: 6\n",
      "\n",
      "\n"
     ]
    },
    {
     "data": {
      "image/png": "[encoded data removed]",
      "text/plain": [
       "<Figure size 432x288 with 1 Axes>"
      ]
     },
     "metadata": {
      "needs_background": "light"
     },
     "output_type": "display_data"
    },
    {
     "data": {
      "image/png": "[encoded data removed]",
      "text/plain": [
       "<Figure size 432x288 with 1 Axes>"
      ]
     },
     "metadata": {
      "needs_background": "light"
     },
     "output_type": "display_data"
    }
   ],
   "source": [
    "my_times_1, lib_times_1 = test_power_methods()"
   ]
  },
  {
   "cell_type": "markdown",
   "metadata": {},
   "source": [
    "### Wnioski:\n",
    "* czas działania funkcji bibliotecznej rośnie wraz ze zwiększaniem rozmiaru macierzy\n",
    "* czas działania zaimplementowanej funkcji nie jest ani ściśle rosnący, ani malejący, ale wydaje się, że będzie rosnął wraz ze zwiększaniem rozmiaru macierzy\n",
    "* zaimplementowana funkcja ma krótszy czas działania niż funkcja biblioteczna\n",
    "* zaimplementowana funkcja i funkcja biblioteczna zwracają taki sam wynik z dokładnością $10^{-8}$\n",
    "* zaimplementowana funkcja potrzebuje około 6-8 operacji, aby osiągnąć wynik z podaną wyżej dokładnością dla macierzy o rozmiarach od 100 x 100 do 1000 x 1000"
   ]
  },
  {
   "cell_type": "markdown",
   "metadata": {},
   "source": [
    "## Zadanie 2  Odwrotna metoda potęgowa"
   ]
  },
  {
   "cell_type": "markdown",
   "metadata": {},
   "source": [
    "Opierając się na twierdzeniu transformacji widma macierzy:\n",
    "\n",
    "**Twierdzenie 1** Macierz $(A - \\sigma I)^{-1}$ (jeśli istnieje), to ma wartości własne równe $\\frac{1}{\\lambda _k- \\sigma}$ ($\\lambda _k$ jest k-tą wartością macierzy **A**) i wektory własne identyczne z macierzą **A**.\n",
    "\n",
    "oraz wykorzystując metodę potęgową i faktoryzację **LU** zaimplementuj odwrotną metodę potęgową pozwalającą na szybkie znalezienie wektorów własnych macierzy **A**, dla wartości $\\sigma$ bliskich odpowiadającej wartości własnej. Wykorzystaj fakt, że mnożenie wektora $x_i$ przez macierz $A^{-1} (x_{i+1} = A^{-1}x_i)$ odpowiada rozwiązaniu układu równań $A x_{i+1}=x_i$.\n"
   ]
  },
  {
   "cell_type": "markdown",
   "metadata": {},
   "source": [
    "Funkcja ***inverse_power_method*** wykorzystując odwrotną metodę potęgową, znajduje wartość własną i wektor własny danej macierzy *matrix* z dokładnością *eps*."
   ]
  },
  {
   "cell_type": "code",
   "execution_count": 11,
   "metadata": {
    "pycharm": {
     "name": "#%%\n"
    }
   },
   "outputs": [],
   "source": [
    "def inverse_power_method(matrix, sigma, eps = 1e-8, max_iterations = 1000):\n",
    "    A = np.random.rand(matrix.shape[0], 1)\n",
    "    A /= np.linalg.norm(A)\n",
    "    LU = scipy.linalg.lu_factor(matrix - sigma * np.identity(matrix.shape[0]))\n",
    "    \n",
    "    i = 0\n",
    "    while i < max_iterations:\n",
    "        B = A\n",
    "        A = scipy.linalg.lu_solve(LU, B)\n",
    "        A /= np.linalg.norm(A)\n",
    "        if np.linalg.norm(B - A) < eps or np.linalg.norm(B + A) < eps:\n",
    "            return matrix.dot(A)[0] / A[0], A, i\n",
    "        i += 1\n",
    "    \n",
    "    print(\"Max number of iterations exceeded\")"
   ]
  },
  {
   "cell_type": "markdown",
   "metadata": {},
   "source": [
    "Funkcja ***compare_inverse_power_methods*** przyjmuje rozmiar macierzy *N*, wektory czasów *my_times* i *lib_times* osiąganych odpowiednio przez funkcję *inverse_power_method* i funkcję biblioteczną *scipy.sparse.linalg.eigs* oraz dokładność obliczeń *eps*. Tworzy ona symetryczną macierz o danym rozmiarze, a następnie porównuje czasy i wyniki działania wspomnianych wcześniej funkcji."
   ]
  },
  {
   "cell_type": "code",
   "execution_count": 12,
   "metadata": {
    "pycharm": {
     "name": "#%%\n"
    }
   },
   "outputs": [],
   "source": [
    "def compare_inverse_power_methods(N, my_times, lib_times, eps = 10 ** (-8)):\n",
    "    matrix = get_random_symmetric_matrix(N) \n",
    "    \n",
    "    start = time.time()\n",
    "    lib_val, lib_vec = scipy.sparse.linalg.eigs(matrix, k=1, sigma=eps)\n",
    "    end = time.time()\n",
    "    lib_time = end - start\n",
    "    \n",
    "    start = time.time()\n",
    "    my_val, my_vec, my_iterations = inverse_power_method(matrix, eps + lib_val)\n",
    "    end = time.time()\n",
    "    my_time = end - start\n",
    "    \n",
    "    # compare vectors\n",
    "    same_vec = True\n",
    "    for vec in abs(my_vec) - abs(lib_vec):\n",
    "        if vec >= eps:\n",
    "            same_vec = False\n",
    "            break\n",
    "    \n",
    "    #compare values\n",
    "    same_val = abs(my_val - lib_val) < eps\n",
    "    \n",
    "    print(f\"Matrix {N}x{N}, values matching: {same_val and same_vec}\")\n",
    "    print(f\"My function time: {my_time}s\")\n",
    "    print(f\"Library function_time: {lib_time}s\")\n",
    "    print(f\"Number of iterations: {my_iterations}\")\n",
    "    print(\"\\n\")\n",
    "    \n",
    "    my_times.append(my_time)\n",
    "    lib_times.append(lib_time)"
   ]
  },
  {
   "cell_type": "code",
   "execution_count": 13,
   "metadata": {
    "pycharm": {
     "name": "#%%\n"
    }
   },
   "outputs": [],
   "source": [
    "def test_inverse_power_methods():\n",
    "    my_times = []\n",
    "    lib_times = []\n",
    "    sizes = [x * 100 for x in range(1, 11)]\n",
    "    for size in sizes:\n",
    "        compare_inverse_power_methods(size, my_times, lib_times)\n",
    "    \n",
    "    plt.plot(sizes, my_times, label='my function')\n",
    "    plt.legend()\n",
    "    plt.show()\n",
    "    \n",
    "    plt.plot(sizes, my_times, label='my function')\n",
    "    plt.plot(sizes, lib_times, label='library function')\n",
    "    plt.legend()\n",
    "    plt.show()\n",
    "    \n",
    "    return my_times, lib_times"
   ]
  },
  {
   "cell_type": "markdown",
   "metadata": {},
   "source": [
    "### Porównanie zaimplementowanej i bibliotecznej funkcji:"
   ]
  },
  {
   "cell_type": "code",
   "execution_count": 14,
   "metadata": {
    "pycharm": {
     "name": "#%%\n"
    }
   },
   "outputs": [
    {
     "name": "stdout",
     "output_type": "stream",
     "text": [
      "Matrix 100x100, values matching: True\n",
      "My function time: 0.0009975433349609375s\n",
      "Library function_time: 0.004986763000488281s\n",
      "Number of iterations: 2\n",
      "\n",
      "\n",
      "Matrix 200x200, values matching: True\n",
      "My function time: 0.0039899349212646484s\n",
      "Library function_time: 0.0029952526092529297s\n",
      "Number of iterations: 2\n",
      "\n",
      "\n",
      "Matrix 300x300, values matching: True\n",
      "My function time: 0.009972572326660156s\n",
      "Library function_time: 0.004983186721801758s\n",
      "Number of iterations: 2\n",
      "\n",
      "\n",
      "Matrix 400x400, values matching: True\n",
      "My function time: 0.01296377182006836s\n",
      "Library function_time: 0.0069828033447265625s\n",
      "Number of iterations: 2\n",
      "\n",
      "\n",
      "Matrix 500x500, values matching: True\n",
      "My function time: 0.02193903923034668s\n",
      "Library function_time: 0.007979869842529297s\n",
      "Number of iterations: 2\n",
      "\n",
      "\n",
      "Matrix 600x600, values matching: True\n",
      "My function time: 0.03886294364929199s\n",
      "Library function_time: 0.0159912109375s\n",
      "Number of iterations: 2\n",
      "\n",
      "\n",
      "Matrix 700x700, values matching: True\n",
      "My function time: 0.051856040954589844s\n",
      "Library function_time: 0.021945953369140625s\n",
      "Number of iterations: 2\n",
      "\n",
      "\n",
      "Matrix 800x800, values matching: True\n",
      "My function time: 0.056845903396606445s\n",
      "Library function_time: 0.023937702178955078s\n",
      "Number of iterations: 2\n",
      "\n",
      "\n",
      "Matrix 900x900, values matching: True\n",
      "My function time: 0.09574222564697266s\n",
      "Library function_time: 0.03989458084106445s\n",
      "Number of iterations: 2\n",
      "\n",
      "\n",
      "Matrix 1000x1000, values matching: True\n",
      "My function time: 0.09773826599121094s\n",
      "Library function_time: 0.04587745666503906s\n",
      "Number of iterations: 2\n",
      "\n",
      "\n"
     ]
    },
    {
     "data": {
      "image/png": "[encoded data removed]",
      "text/plain": [
       "<Figure size 432x288 with 1 Axes>"
      ]
     },
     "metadata": {
      "needs_background": "light"
     },
     "output_type": "display_data"
    },
    {
     "data": {
      "image/png": "[encoded data removed]",
      "text/plain": [
       "<Figure size 432x288 with 1 Axes>"
      ]
     },
     "metadata": {
      "needs_background": "light"
     },
     "output_type": "display_data"
    }
   ],
   "source": [
    "my_times_2, lib_times_2 = test_inverse_power_methods()"
   ]
  },
  {
   "cell_type": "markdown",
   "metadata": {},
   "source": [
    "## Wnioski:\n",
    "* czasy działania obu funkcji rosną wraz ze zwiększaniem rozmiaru macierzy\n",
    "* funkcja biblioteczna działa minimalnie wolniej od zaimplementowanej funkcji dla małych rozmiarów macierzy (do 200), a dla większych rozmiarów - szybciej\n",
    "* różnica między czasami wykonania obu funkcji rośnie wraz ze zwiększaniem rozmiaru macierzy\n",
    "* zaimplementowana funkcja i funkcja biblioteczna zwracają taki sam wynik z dokładnością $10^{-8}$\n",
    "* zaimplementowana funkcja potrzebuje około 2 operacji, aby osiągnąć wynik z podaną wyżej dokładnością dla macierzy o rozmiarach od 100 x 100 do 1000 x 1000"
   ]
  },
  {
   "cell_type": "markdown",
   "metadata": {},
   "source": [
    "## Podsumowanie"
   ]
  },
  {
   "cell_type": "code",
   "execution_count": 15,
   "metadata": {
    "pycharm": {
     "name": "#%%\n"
    }
   },
   "outputs": [],
   "source": [
    "def compare_times(my_times_1, lib_times_1, my_times_2, lib_times_2):\n",
    "    sizes = [x * 100 for x in range(1, 11)]\n",
    "    \n",
    "    plt.plot(sizes, my_times_1, label='my function')\n",
    "    plt.plot(sizes, my_times_2, label='my inverse function')\n",
    "    plt.legend()\n",
    "    plt.show()\n",
    "    \n",
    "    plt.plot(sizes, lib_times_1, label='library function')\n",
    "    plt.plot(sizes, lib_times_2, label='library inverse function')\n",
    "    plt.legend()\n",
    "    plt.show()"
   ]
  },
  {
   "cell_type": "code",
   "execution_count": 16,
   "metadata": {
    "pycharm": {
     "name": "#%%\n"
    }
   },
   "outputs": [
    {
     "data": {
      "image/png": "[encoded data removed]",
      "text/plain": [
       "<Figure size 432x288 with 1 Axes>"
      ]
     },
     "metadata": {
      "needs_background": "light"
     },
     "output_type": "display_data"
    },
    {
     "data": {
      "image/png": "[encoded data removed]",
      "text/plain": [
       "<Figure size 432x288 with 1 Axes>"
      ]
     },
     "metadata": {
      "needs_background": "light"
     },
     "output_type": "display_data"
    }
   ],
   "source": [
    "compare_times(my_times_1, lib_times_1, my_times_2, lib_times_2)"
   ]
  },
  {
   "cell_type": "markdown",
   "metadata": {},
   "source": [
    "## Wnioski:\n",
    "* zaimplementowana funkcja wykorzystująca odwrotną metodę potęgową działa wolniej niż zaimplementowana funkcja używająca metody potęgowej\n",
    "* funkcja biblioteczna wykorzystująca odwrotną metodę potęgową działa szybciej niż funkcja biblioteczna używająca metody potęgowej\n",
    "* wartości i wektory własne macierzy znajdują szerokie zastosowanie, m.in. w algebrze i analizie liniowej, równaniach różniczkowych, podstawach automatyki czy sterowaniu cyfrowym."
   ]
  }
 ],
 "metadata": {
  "kernelspec": {
   "display_name": "Python 3",
   "language": "python",
   "name": "python3"
  },
  "language_info": {
   "codemirror_mode": {
    "name": "ipython",
    "version": 3
   },
   "file_extension": ".py",
   "mimetype": "text/x-python",
   "name": "python",
   "nbconvert_exporter": "python",
   "pygments_lexer": "ipython3",
   "version": "3.7.6"
  },
  "pycharm": {
   "stem_cell": {
    "cell_type": "raw",
    "metadata": {
     "collapsed": false
    },
    "source": []
   }
  }
 },
 "nbformat": 4,
 "nbformat_minor": 1
}
