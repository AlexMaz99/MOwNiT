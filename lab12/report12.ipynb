{
 "cells": [
  {
   "cell_type": "markdown",
   "metadata": {
    "collapsed": true
   },
   "source": [
    "# Laboratorium 12 - Równania różniczkowe i zagadnienie początkowe"
   ]
  },
  {
   "cell_type": "markdown",
   "metadata": {},
   "source": [
    "##### Aleksandra Mazur"
   ]
  },
  {
   "cell_type": "markdown",
   "metadata": {},
   "source": [
    "## Zadanie 1 Metoda Rungego-Kutty"
   ]
  },
  {
   "cell_type": "markdown",
   "metadata": {},
   "source": [
    "#### Zaimplementuj metodę Rungego-Kutty czwartego rzędu (rozdział 10.2, Kincaid i Cheney). "
   ]
  },
  {
   "cell_type": "markdown",
   "metadata": {},
   "source": [
    "Metoda Rungego-Kutty to metoda numeryczna do iteracyjnego rozwiązywania równań różniczkowych zwyczajnych. Jest stosowana głównie w symulacjach fizycznych. Metoda Rungego-Kutty 4. rzędu jest powszechnie stosowana ze względu na prostotę implementacji, relatywnie proste wzory, dużą szybkość i wysoki rząd metody."
   ]
  },
  {
   "cell_type": "markdown",
   "metadata": {},
   "source": [
    "W zadaniach skorzystano z następujących bibliotek:\n",
    "* math\n",
    "* sympy\n",
    "* numpy\n",
    "* matplotlib"
   ]
  },
  {
   "cell_type": "code",
   "execution_count": 1,
   "metadata": {},
   "outputs": [],
   "source": [
    "import math\n",
    "import sympy\n",
    "import numpy as np\n",
    "import matplotlib.pyplot as plt"
   ]
  },
  {
   "cell_type": "markdown",
   "metadata": {},
   "source": [
    "Funkcja **runge_kutta** implementuje metodę *Rungego-Kutty czwartego rzędu*.\n",
    "\n",
    "Przyjmuje następujące argumenty:\n",
    "* f - funkcja\n",
    "* t - początek przedziału\n",
    "* x - wartość funkcji w punkcie t\n",
    "* h - rozmiar kroku\n",
    "* n - liczba kroków\n",
    "\n",
    "Funkcja wyznacza dla każdego *j* od 1 do *n* przybliżoną wartość rozwiązania *x*, generując kolejne punkty. Zwraca liczbę kroków *j*, koniec przedziału *t* i uzyskaną wartość *x*."
   ]
  },
  {
   "cell_type": "code",
   "execution_count": 2,
   "metadata": {},
   "outputs": [],
   "source": [
    "def runge_kutta(f, t, x, h, n):\n",
    "    t_a = t\n",
    "    \n",
    "    j = 1\n",
    "    for j in range(1, n + 1):\n",
    "        k1 = h * f(t, x) \n",
    "        k2 = h * f(t + 0.5 * h, x + 0.5 * k1) \n",
    "        k3 = h * f(t + 0.5 * h, x + 0.5 * k2) \n",
    "        k4 = h * f(t + h, x + k3)\n",
    "        \n",
    "        x = x + (k1 + 2 * k2 + 2 * k3 + k4) / 6.0\n",
    "        t = t_a + j * h \n",
    "    return j, t, x"
   ]
  },
  {
   "cell_type": "markdown",
   "metadata": {},
   "source": [
    "Rząd tej metody jest równy 4, ponieważ błąd wzoru przybliżonego $ x(t + h) \\approx x(t) + \\frac{1}{6}(k1 + 2k2 + 2k3 + k4)$ wynosi $O(h^5)$."
   ]
  },
  {
   "cell_type": "markdown",
   "metadata": {},
   "source": [
    "#### 1. Opisz zalety metody Rungego-Kutty w porównaniu do metody z szeregami Taylora."
   ]
  },
  {
   "cell_type": "markdown",
   "metadata": {},
   "source": [
    "Metoda Rungego-Kutty jest dokładniejsza, stabilniejsza i łatwiejsza do zaprogramowania w porównaniu z metodą z szeregami Taylora. Nie wymaga wcześniejszego znania i obliczenia wyższych pochodnych funkcji.  Jest łatwiejsza do automatycznej kontroli błędów. Można w niej łatwo sterować wielkością błędu lokalnego, zmniejszając i zwiększając *h*."
   ]
  },
  {
   "cell_type": "markdown",
   "metadata": {},
   "source": [
    "#### 2. Rozwiąż zagadnienie początkowe dane równaniem $x' = x/t + tsec(x/t)$ z warunkiem początkowym $x(0) = 0$. Przedłuż rozwiązanie do $t = 1$ z krokiem $h = 2^{-7}$. Porównaj wynik z dokładnym rozwiązaniem: $x(t) = t ∗ arcsin(t)$."
   ]
  },
  {
   "cell_type": "markdown",
   "metadata": {},
   "source": [
    "**df1** to funkcja $x' = x/t + tsec(x/t)$\n",
    "\n",
    "**f1** to funkcja $x(t) = t ∗ arcsin(t)$"
   ]
  },
  {
   "cell_type": "code",
   "execution_count": 3,
   "metadata": {},
   "outputs": [],
   "source": [
    "def df1(t, x):\n",
    "    return x / t + t * sympy.sec(x / t)\n",
    "def f1(t):\n",
    "    return t * np.arcsin(t)"
   ]
  },
  {
   "cell_type": "markdown",
   "metadata": {},
   "source": [
    "Funkcja **solve2** rozwiązuje problem przedstawiony w poleceniu, korzystając z funkcji **runge_kutta** dla $h = 2^{-7}$ i wypisuje uzyskane rezultaty oraz porównuje je z dokładnym rozwiązaniem. Za początek przedziału przyjęto punkt $10^{-20}$ z uwagi na dzielenie przez 0."
   ]
  },
  {
   "cell_type": "code",
   "execution_count": 4,
   "metadata": {},
   "outputs": [],
   "source": [
    "def solve2():\n",
    "    a = 10 **(-20) # początek przedziału\n",
    "    x = 0 # wartość funkcji w punkcie 0\n",
    "    h = 2 ** (-7) # krok\n",
    "    t = 1 # koniec przedziału\n",
    "    n = (int)((t - a) / h) # liczba kroków\n",
    "    \n",
    "    j, t, x = runge_kutta(df1, a, x, h, n)\n",
    "    \n",
    "    print(\"Implemented function:\")\n",
    "    print(\"Number of steps (j): \", j)\n",
    "    print(\"End of interval (t): \", t)\n",
    "    print(\"Counted result (x): \", x)\n",
    "    \n",
    "    print(\"\")\n",
    "    \n",
    "    real_x = f1(1)\n",
    "    print(\"Real result:\")\n",
    "    print(real_x)\n",
    "    \n",
    "    print(\"\")\n",
    "    \n",
    "    print(\"Absolute error: \", abs(real_x - x))\n",
    "    print(\"Relative error: \", 100 * abs(real_x - x)/real_x, \"%\")"
   ]
  },
  {
   "cell_type": "code",
   "execution_count": 5,
   "metadata": {},
   "outputs": [
    {
     "name": "stdout",
     "output_type": "stream",
     "text": [
      "Implemented function:\n",
      "Number of steps (j):  128\n",
      "End of interval (t):  1.0\n",
      "Counted result (x):  1.51912512047707\n",
      "\n",
      "Real result:\n",
      "1.5707963267948966\n",
      "\n",
      "Absolute error:  0.0516712063178248\n",
      "Relative error:  3.28949116040120 %\n"
     ]
    }
   ],
   "source": [
    "solve2()"
   ]
  },
  {
   "cell_type": "markdown",
   "metadata": {},
   "source": [
    "### Wnioski:\n",
    "Obliczona wartość nie wiele się różni od prawidłowego rozwiązania. Błąd bezwzględny jest mały - ok. 0.05, a błąd względny wynosi ok. 3 %. W zadanym przydziale i z danym rozmiarem kroku, algorytm wykonał 128 iteracji, zakańczając działanie na końcu przedziału. Metoda Rungego-Kutty daje zatem zadawalające rezultaty."
   ]
  },
  {
   "cell_type": "markdown",
   "metadata": {},
   "source": [
    "#### 3. Używając tej samej metody rozwiąż zagadnienie początkowe dane równaniem $x' = 100(sin(t) − x)$ z warunkiem początkowym $x(0) = 0$ na przedziale [0, 3] używając kroków o rozmiarach h = 0.015, 0.02, 0.025, 0.03. Opisz z czego wynikają różnice w rozwiązaniach."
   ]
  },
  {
   "cell_type": "markdown",
   "metadata": {},
   "source": [
    "**f2** to funkcja $x' = 100(sin(t) − x)$"
   ]
  },
  {
   "cell_type": "code",
   "execution_count": 6,
   "metadata": {},
   "outputs": [],
   "source": [
    "def f2(t, x):\n",
    "    return 100 * (math.sin(t) - x)"
   ]
  },
  {
   "cell_type": "markdown",
   "metadata": {},
   "source": [
    "Funkcja **solve3** rozwiązuje problem przedstawiony w poleceniu, korzystając z funkcji **runge_kutta** dla różnych wartości *h* i wypisuje uzyskane rezultaty."
   ]
  },
  {
   "cell_type": "code",
   "execution_count": 7,
   "metadata": {},
   "outputs": [],
   "source": [
    "def solve3(hs):\n",
    "    a = 0 # początek przedziału\n",
    "    b = 3 # koniec przedziału\n",
    "    x = 0 # wartość funkcji w punkcie 0\n",
    "    \n",
    "    for h in hs:\n",
    "        n = (int)((b - a) / h) # liczba kroków\n",
    "        \n",
    "        j, t, x_res = runge_kutta(f2, a, x, h, n)\n",
    "        \n",
    "        print(\"For h = \", h)\n",
    "        print(\"Number of steps (j): \", j)\n",
    "        print(\"End of interval (t): \", t)\n",
    "        print(\"Counted result (x): \", x_res)\n",
    "        print(\"\")"
   ]
  },
  {
   "cell_type": "code",
   "execution_count": 8,
   "metadata": {},
   "outputs": [
    {
     "name": "stdout",
     "output_type": "stream",
     "text": [
      "For h =  0.015\n",
      "Number of steps (j):  200\n",
      "End of interval (t):  3.0\n",
      "Counted result (x):  0.15100302946456207\n",
      "\n",
      "For h =  0.02\n",
      "Number of steps (j):  150\n",
      "End of interval (t):  3.0\n",
      "Counted result (x):  0.15099613280114313\n",
      "\n",
      "For h =  0.025\n",
      "Number of steps (j):  120\n",
      "End of interval (t):  3.0\n",
      "Counted result (x):  0.15094316610112551\n",
      "\n",
      "For h =  0.03\n",
      "Number of steps (j):  100\n",
      "End of interval (t):  3.0\n",
      "Counted result (x):  672890582787.5087\n",
      "\n"
     ]
    }
   ],
   "source": [
    "solve3([0.015, 0.02, 0.025, 0.03])"
   ]
  },
  {
   "cell_type": "markdown",
   "metadata": {},
   "source": [
    "### Wnioski:\n",
    "Zwiększając rozmiar kroku, maleje ich liczba, co jest oczywiste ze względu na fakt, że są to wielkości odwrotnie proporcjonalne. Dla pierwszych 3 wartości *h* (0.015, 0.02, 0.025) uzyskana wartość jest bardzo podobna. Jednak dla h = 0.03 rezultat znacznie się różni, ponieważ wartość kroku jest za duża, aby uzyskać dokładny wynik, a stabilność algorytmu jest tracona.\n",
    "\n",
    "Wyjaśnienie tego problemu znaleziono w książce \"A First Course In Numerical Analysis\" - drugie wydanie, Anthony Ralston, Philip Rabinowitz (http://www.ru.ac.bd/wp-content/uploads/sites/25/2019/03/205_08_Ralston_-PA-first-course-in-numerical-analysis.pdf) na stronie 228. \n",
    "\n",
    "Dokładnym rozwiązaniem jest funkcja $$y(x) = \\frac{sinx - 0.01 cosx + 0.01 e^{-100x}}{1.0001}$$\n",
    "Jeżeli krok *h* jest mały to składnik $0.01e^{-100x}$ nie wnosi nic do rozwiązania, ale wpływa na przedział stabilności obliczeń. Aby zachować tą stabilność *h* musi być z przedziału (0, 0.0278), co wyjaśnia dlaczego dla h = 0.03 stabilność nie jest zachowana, a dla h = 0.025 - jest."
   ]
  },
  {
   "cell_type": "code",
   "execution_count": 9,
   "metadata": {},
   "outputs": [
    {
     "name": "stdout",
     "output_type": "stream",
     "text": [
      "For h =  0.0277\n",
      "Number of steps (j):  108\n",
      "End of interval (t):  2.9916\n",
      "Counted result (x):  0.15570748820181943\n",
      "\n",
      "For h =  0.0278\n",
      "Number of steps (j):  107\n",
      "End of interval (t):  2.9745999999999997\n",
      "Counted result (x):  0.1718740864267439\n",
      "\n",
      "For h =  0.028\n",
      "Number of steps (j):  107\n",
      "End of interval (t):  2.996\n",
      "Counted result (x):  0.2174692460774293\n",
      "\n"
     ]
    }
   ],
   "source": [
    "solve3([0.0277, 0.0278, 0.028])"
   ]
  },
  {
   "cell_type": "markdown",
   "metadata": {},
   "source": [
    "Jak widać dla h = 0.0277 uzyskana wartość jest poprawna, a dla h >= 0.0278 stabilność jest tracona i błąd rozwiązania się zwiększa."
   ]
  },
  {
   "cell_type": "markdown",
   "metadata": {},
   "source": [
    "## Zadanie 2 Adaptacyjna metoda Rungego-Kutty-Fehlberga"
   ]
  },
  {
   "cell_type": "markdown",
   "metadata": {},
   "source": [
    "#### Zaimplementuj adaptacyjną metodę Rungego-Kutty-Fehlberga (rozdział 10.3, Kincaid i Cheney) i użyj jej do rozwiązania zagadnienia początkowego: $x' = 3x/t + 9/2t − 13$ z warunkiem brzegowym $x(3) = 6$ w punkcie $x(1/2)$ z dokładnością do 9 miejsc po przecinku. Porównaj wynik z rozwiązaniem analitycznym $x = t^3 −9/2t^2 + 13/2t$. W jaki sposób metoda adaptacyjna pozwala nam zwiększyć dokładność rozwiązania? Jakie są tego wady?"
   ]
  },
  {
   "cell_type": "markdown",
   "metadata": {},
   "source": [
    "Poniższe funkcje zaimplementowano na podstawie algorytmów przedstawionych w rozdziale 10.3 *Kincaid i Cheney*.\n",
    "\n",
    "Funkcja **rk45** to implementacja metody *Rungego-Kutty-Fehlberga* (rzędu piątego), która stosuje metodę *Rungego-Kutty* rzędu czwartego, wymagającej obliczania pięciu wartości funkcji i metody rzędu piątego, w której trzeba obliczać sześć takich wartości.\n",
    "\n",
    "Funkcja przyjmuje:\n",
    "* f - funkcja f(t,x) równania różniczkowego\n",
    "* t, x -wartości\n",
    "* h - wartość kroku\n",
    "\n",
    "Funkcja zwraca:\n",
    "* t, x - obliczone wartości\n",
    "* eps - błąd rozwiązania"
   ]
  },
  {
   "cell_type": "code",
   "execution_count": 10,
   "metadata": {},
   "outputs": [],
   "source": [
    "def rk45(f, t, x, h):\n",
    "    c20 = 0.25 \n",
    "    c21 = 0.25\n",
    "    c30 = 0.375 \n",
    "    c31 = 0.09375\n",
    "    c32 = 0.28125\n",
    "    c40 = 12/13\n",
    "    c41 = 1932/2197\n",
    "    c42 = -7200/2197\n",
    "    c43 = 7296/2197\n",
    "    c51 = 439/216\n",
    "    c52 = -8\n",
    "    c53 = 3680/513\n",
    "    c54 = -845/4104\n",
    "    c60 = 0.5\n",
    "    c61 = -8/27\n",
    "    c62 = 2\n",
    "    c63 = -3544/2565\n",
    "    c64 = 1859/4104\n",
    "    c65 = -0.275\n",
    "    a1 = 25/216\n",
    "    a2 = 0\n",
    "    a3 = 1408/2565\n",
    "    a4 = 2197/4104\n",
    "    a5 = -0.2\n",
    "    b1 = 16/135\n",
    "    b2 = 0\n",
    "    b3 = 6656/12825\n",
    "    b4 = 28561/56430\n",
    "    b5 = -0.18\n",
    "    b6 = 2/55\n",
    "    \n",
    "    K1 = h * f (t, x)\n",
    "    K2 = h * f(t + c20 * h, x + c21 * K1)\n",
    "    K3 = h * f(t + c30 * h, x + c31 * K1 + c32 * K2)\n",
    "    K4 = h * f(t + c40 * h, x + c41 * K1 + c42 * K2 + c43 * K3)\n",
    "    K5 = h * f(t + h, x + c51 * K1 + c52 * K2 + c53 * K3 + c54 * K4)\n",
    "    K6 = h * f(t + c60 * h, x + c61 * K1 + c62 * K2 + c63 * K3 + c64 * K4 + c65 * K5)\n",
    "    \n",
    "    x4 = x + a1 * K1 + a3 * K3 + a4 * K4 + a5 * K5\n",
    "    x = x + b1 * K1 + b3 * K3 + b4 * K4 + b5 * K5 + b6 * K6\n",
    "    x4 = round(x4, 9)\n",
    "    x = round(x, 9)\n",
    "    t = t + h\n",
    "    eps = abs(x - x4)\n",
    "    \n",
    "    return t, x, eps"
   ]
  },
  {
   "cell_type": "markdown",
   "metadata": {},
   "source": [
    "Funkcja **rk45_adaptive** to algorytm adaptacyjny *Rungego-Kutty-Fehlberga*, rozwiązujący zagadnienie początkowe $x' = f(t, x)$. \n",
    "\n",
    "Funkcja przyjmuje następujące argumenty:\n",
    "* f - funkcja f(t,x) równania różniczkowego\n",
    "* t, x - wartości początkowe\n",
    "* h - początkowa wartość kroku\n",
    "* itmax - maksymalna liczba iteracji\n",
    "* eps_max, eps_min - górna i dolna granica dopuszczalnego błędu\n",
    "* h_max, h_min - górna i dolna granica wartości kroku\n",
    "* iflag - flaga błędu (0 - pomyślne przejście do następnego punktu t, 1 - maksymalna liczba iteracji została osiągnięta)\n",
    "\n",
    "Funkcja zwraca:\n",
    "* k - liczba iteracji\n",
    "* t - koniec przedziału\n",
    "* x - uzyskana wartość\n",
    "* eps - błąd\n",
    "* xs - wszystkie wartości x uzyskane w każdej iteracji"
   ]
  },
  {
   "cell_type": "code",
   "execution_count": 11,
   "metadata": {},
   "outputs": [],
   "source": [
    "def rk45_adaptive(f, t, x, h, t_b, itmax, eps_max, eps_min, h_min, h_max, iflag=1):\n",
    "    delta = 0.5 * 10**(-5)\n",
    "    k=0\n",
    "    xs = []\n",
    "    \n",
    "    while k <= itmax:\n",
    "        k = k + 1\n",
    "        if abs(h) < h_min:\n",
    "            h = np.sign(h) * h_min\n",
    "        if abs(h) > h_max:\n",
    "            h = np.sign(h) * h_max\n",
    "        d = abs(t_b - t)\n",
    "        \n",
    "        if d <= abs(h):\n",
    "            iflag = 0\n",
    "            if d <= delta * max(abs(t_b), abs(t)):\n",
    "                break\n",
    "            h = np.sign(h) * d\n",
    "        \n",
    "        x_save = x\n",
    "        t_save = t\n",
    "        t, x, eps = rk45(f, t, x, h)\n",
    "\n",
    "        if iflag == 0:\n",
    "            break\n",
    "        if eps < eps_min:\n",
    "            h = 2 * h\n",
    "        if eps > eps_max:\n",
    "            h = h/2\n",
    "            x = x_save\n",
    "            t = t_save\n",
    "            k = k - 1\n",
    "            \n",
    "        xs.append(x)\n",
    "        \n",
    "            \n",
    "    return k, t, x, eps, xs"
   ]
  },
  {
   "cell_type": "markdown",
   "metadata": {},
   "source": [
    "**df3** to funkcja $x' = 3x/t + 9/2t − 13$\n",
    "\n",
    "**f3** to funkcja $x = t^3 −9/2t^2 + 13/2t$"
   ]
  },
  {
   "cell_type": "code",
   "execution_count": 12,
   "metadata": {},
   "outputs": [],
   "source": [
    "def df3(t, x):\n",
    "    return 3 * x / t + 9 * t / 2 - 13\n",
    "def f3 (t):\n",
    "    return t ** 3 - 9 * t ** 2 / 2 + 13 * t / 2"
   ]
  },
  {
   "cell_type": "markdown",
   "metadata": {},
   "source": [
    "Funkcja **solve_rk45** rozwiązuje problem przedstawiony w treści zadania korzystając z zaimplementowanych funkcji, wypisuje osiągnięte rezultaty, liczy błąd obliczeń oraz rysuje wykres otrzymywanych wartości x przy każdej iteracji."
   ]
  },
  {
   "cell_type": "code",
   "execution_count": 13,
   "metadata": {},
   "outputs": [],
   "source": [
    "def solve_rk45():\n",
    "    k, t, x, eps, xs = rk45_adaptive(f=df3, \n",
    "                                      t=3, # początek przedziału\n",
    "                                      x=6, # wartość funkcji dla t\n",
    "                                      h=(0.5-3)/50000, \n",
    "                                      t_b=0.5, # koniec przedziału\n",
    "                                      itmax=50000, \n",
    "                                      eps_max=10**(-5), \n",
    "                                      eps_min=10**(-8), \n",
    "                                      h_min=10**(-8), \n",
    "                                      h_max=1.0, \n",
    "                                      iflag=1)\n",
    "    real_x = f3(0.5)\n",
    "    print(\"Real value: \", real_x)\n",
    "    print(\"Counted_value: \", x)\n",
    "    print(\"Absolute error: \", abs(real_x - x))\n",
    "    print(\"Relative error: \", 100 * abs(real_x - x) / real_x, \"%\")\n",
    "    print(\"Number of iteratons = \", k)\n",
    "    print(\"End of interval = \", t)\n",
    "    print(\"eps = \", eps)\n",
    "\n",
    "    plt.plot([i for i in range(0, len(xs))], xs)\n",
    "    plt.xlabel('Iteration')\n",
    "    plt.ylabel('Value')\n",
    "    plt.show()"
   ]
  },
  {
   "cell_type": "code",
   "execution_count": 14,
   "metadata": {},
   "outputs": [
    {
     "name": "stdout",
     "output_type": "stream",
     "text": [
      "Real value:  2.25\n",
      "Counted_value:  2.250002799\n",
      "Absolute error:  2.79900000021982e-06\n",
      "Relative error:  0.0001244000000097698 %\n",
      "Number of iteratons =  36\n",
      "End of interval =  0.5\n",
      "eps =  2.759999997437035e-07\n"
     ]
    },
    {
     "data": {
      "image/png": "[encoded data removed]",
      "text/plain": [
       "<Figure size 432x288 with 1 Axes>"
      ]
     },
     "metadata": {
      "needs_background": "light"
     },
     "output_type": "display_data"
    }
   ],
   "source": [
    "solve_rk45()"
   ]
  },
  {
   "cell_type": "markdown",
   "metadata": {},
   "source": [
    "### Wnioski:\n",
    "Uzyskany rezultat jest bardzo dokładny. Błąd bezwzględny i względny są małe. Liczba iteracji potrzebna do osiągnięcia tego rezultatu wynosi 36, co też nie jest dużą liczbą. Algorytm prawidłowo zakończył się na końcu przedziału, czyli w punkcie 0.5. Na wykresie przedstawiono dodatkowo wartości uzyskiwane przy każdej iteracji algorytmu. Widać, że wartości te wykazywały tendencję malejącą. Osiągnięty rezultat zależy od liczby iteracji i długości kroku. Wynik ten jest bardzo zadowalający.\n",
    "\n",
    "W metodzie adaptacyjnej *Rungego-Kutty-Fehlberga* możemy w łatwy sposób oszacować błąd. Jego zakres jest podany jako argument funkcji i dzięki temu, jeżeli obliczony błąd jest za duży lub za mały to wartość kroku *h* jest odpowiednio dzielona przez 2 lub podwajana. Wykonując jedno dodatkowe obliczenie, błąd w rozwiązaniu można oszacować i kontrolować za pomocą wbudowanej metody wyższego rzędu, która umożliwia określenie adaptacyjnego rozmiaru kroku. Metoda ta zapewnia lepszą precyzję obliczeń, a rozmiary kroków mogą być automatycznie dopasowywane.\n",
    "\n",
    "Wadą tego rozwiązania jest możliwość zapętlenia. Należy ustawić granice (eps_min, eps_max, h_min, h_max) ostrożnie, aby procedura adaptacyjna nie wpadła w pętlę, próbując wielokrotnie zmniejszyć o połowę i podwoić rozmiaru kroku. Ilość wykonywanych iteracji może być też duża, co wpłynie na bardzo duży czas obliczeniowy."
   ]
  }
 ],
 "metadata": {
  "kernelspec": {
   "display_name": "Python 3",
   "language": "python",
   "name": "python3"
  },
  "language_info": {
   "codemirror_mode": {
    "name": "ipython",
    "version": 3
   },
   "file_extension": ".py",
   "mimetype": "text/x-python",
   "name": "python",
   "nbconvert_exporter": "python",
   "pygments_lexer": "ipython3",
   "version": "3.7.6"
  }
 },
 "nbformat": 4,
 "nbformat_minor": 1
}
