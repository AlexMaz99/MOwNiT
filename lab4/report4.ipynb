{
 "cells": [
  {
   "cell_type": "markdown",
   "metadata": {
    "collapsed": true
   },
   "source": [
    "# Laboratorium 4 - Singular Value Decomposition"
   ]
  },
  {
   "cell_type": "markdown",
   "metadata": {},
   "source": [
    "##### Aleksandra Mazur"
   ]
  },
  {
   "cell_type": "markdown",
   "metadata": {},
   "source": [
    "## Zadanie 1 Wyszukiwarka"
   ]
  },
  {
   "cell_type": "markdown",
   "metadata": {},
   "source": [
    "#### 1. \n",
    "Przygotuj duży (> 1000 elementów) zbiór dokumentów tekstowych w języku angielskim\n",
    "(np. wybrany korpus tekstów, podzbiór artykułów Wikipedii, zbiór dokumentów\n",
    "HTML uzyskanych za pomoca Web crawlera, zbiór rozdziałów wyciętych z\n",
    "różnych książek)."
   ]
  },
  {
   "cell_type": "markdown",
   "metadata": {},
   "source": [
    "Ze strony https://ebible.org/find/details.php?id=eng-web&all=1 pobrano zbiór dokumentów tekstowych w języku angielskim, liczący 1100 plików."
   ]
  },
  {
   "cell_type": "markdown",
   "metadata": {},
   "source": [
    "Poniżej przedstawiono kilka przykładowych plików."
   ]
  },
  {
   "cell_type": "code",
   "execution_count": 1,
   "metadata": {},
   "outputs": [],
   "source": [
    "import numpy as np\n",
    "import os\n",
    "import io\n",
    "\n",
    "files = os.listdir('documents/')"
   ]
  },
  {
   "cell_type": "code",
   "execution_count": 2,
   "metadata": {},
   "outputs": [],
   "source": [
    "def show_two_files(files):\n",
    "    i = 0\n",
    "    for file in files:\n",
    "        f = io.open('documents/' + file, encoding=\"utf8\")\n",
    "        text_from_file = f.read()\n",
    "        print(\"File number: \", i)\n",
    "        print(text_from_file)\n",
    "        i += 1\n",
    "        if i == 2:\n",
    "            break"
   ]
  },
  {
   "cell_type": "code",
   "execution_count": 3,
   "metadata": {},
   "outputs": [
    {
     "name": "stdout",
     "output_type": "stream",
     "text": [
      "File number:  0\n",
      "﻿This set of files contains a script of canonical text, chapter by chapter,\n",
      "for the purpose of reading to make an audio recording.\n",
      "All footnotes, introductions, and verse numbers have been stripped out.\n",
      "\n",
      "\n",
      "File number:  1\n",
      "﻿The First Book of Moses, Commonly Called Genesis.\n",
      "Chapter 1.\n",
      "In the beginning, God created the heavens and the earth. \n",
      "The earth was formless and empty. Darkness was on the surface of the deep and God’s Spirit was hovering over the surface of the waters. \n",
      "God said, “Let there be light,” and there was light. \n",
      "God saw the light, and saw that it was good. God divided the light from the darkness. \n",
      "God called the light “day”, and the darkness he called “night”. There was evening and there was morning, the first day. \n",
      "God said, “Let there be an expanse in the middle of the waters, and let it divide the waters from the waters.” \n",
      "God made the expanse, and divided the waters which were under the expanse from the waters which were above the expanse; and it was so. \n",
      "God called the expanse “sky”. There was evening and there was morning, a second day. \n",
      "God said, “Let the waters under the sky be gathered together to one place, and let the dry land appear;” and it was so. \n",
      "God called the dry land “earth”, and the gathering together of the waters he called “seas”. God saw that it was good. \n",
      "God said, “Let the earth yield grass, herbs yielding seeds, and fruit trees bearing fruit after their kind, with their seeds in it, on the earth;” and it was so. \n",
      "The earth yielded grass, herbs yielding seed after their kind, and trees bearing fruit, with their seeds in it, after their kind; and God saw that it was good. \n",
      "There was evening and there was morning, a third day. \n",
      "God said, “Let there be lights in the expanse of the sky to divide the day from the night; and let them be for signs to mark seasons, days, and years; \n",
      "and let them be for lights in the expanse of the sky to give light on the earth;” and it was so. \n",
      "God made the two great lights: the greater light to rule the day, and the lesser light to rule the night. He also made the stars. \n",
      "God set them in the expanse of the sky to give light to the earth, \n",
      "and to rule over the day and over the night, and to divide the light from the darkness. God saw that it was good. \n",
      "There was evening and there was morning, a fourth day. \n",
      "God said, “Let the waters abound with living creatures, and let birds fly above the earth in the open expanse of the sky.” \n",
      "God created the large sea creatures and every living creature that moves, with which the waters swarmed, after their kind, and every winged bird after its kind. God saw that it was good. \n",
      "God blessed them, saying, “Be fruitful, and multiply, and fill the waters in the seas, and let birds multiply on the earth.” \n",
      "There was evening and there was morning, a fifth day. \n",
      "God said, “Let the earth produce living creatures after their kind, livestock, creeping things, and animals of the earth after their kind;” and it was so. \n",
      "God made the animals of the earth after their kind, and the livestock after their kind, and everything that creeps on the ground after its kind. God saw that it was good. \n",
      "God said, “Let’s make man in our image, after our likeness. Let them have dominion over the fish of the sea, and over the birds of the sky, and over the livestock, and over all the earth, and over every creeping thing that creeps on the earth.” \n",
      "God created man in his own image. In God’s image he created him; male and female he created them. \n",
      "God blessed them. God said to them, “Be fruitful, multiply, fill the earth, and subdue it. Have dominion over the fish of the sea, over the birds of the sky, and over every living thing that moves on the earth.” \n",
      "God said, “Behold, I have given you every herb yielding seed, which is on the surface of all the earth, and every tree, which bears fruit yielding seed. It will be your food. \n",
      "To every animal of the earth, and to every bird of the sky, and to everything that creeps on the earth, in which there is life, I have given every green herb for food;” and it was so. \n",
      "God saw everything that he had made, and, behold, it was very good. There was evening and there was morning, a sixth day. \n",
      "\n"
     ]
    }
   ],
   "source": [
    "show_two_files(files)"
   ]
  },
  {
   "cell_type": "markdown",
   "metadata": {},
   "source": [
    "#### 2. \n",
    "Określ słownik słów kluczowych (termów) potrzebny do wyznaczenia wektorów\n",
    "cech bag-of-words (indeksacja). Przykładowo zbiorem takim może być unia wszystkich\n",
    "słów występujących we wszystkich tekstach."
   ]
  },
  {
   "cell_type": "code",
   "execution_count": 4,
   "metadata": {},
   "outputs": [],
   "source": [
    "import re\n",
    "import nltk\n",
    "nltk.download('punkt')"
   ]
  },
  {
   "cell_type": "markdown",
   "metadata": {},
   "source": [
    "Słownik słów kluczowych określono jako unię wszystkich słów występujących we wszystkich tekstach."
   ]
  },
  {
   "cell_type": "code",
   "execution_count": 5,
   "metadata": {},
   "outputs": [],
   "source": [
    "def create_dictionary(files):\n",
    "    words_with_quantity = {}\n",
    "    dictionary = []\n",
    "    \n",
    "    for file in files:\n",
    "        f = io.open('documents/' + file, encoding=\"utf8\")\n",
    "        text_from_file = f.read()\n",
    "        f.close()\n",
    "        sentences = text_from_file.split('\\n')\n",
    "        \n",
    "        for sentence in sentences:\n",
    "            sentence = sentence.lower()\n",
    "            sentence = re.sub(r'[^\\w\\s]', '', sentence)\n",
    "            sentence = re.sub('[0-9]', '', sentence)\n",
    "            words = nltk.word_tokenize(sentence)\n",
    "            dictionary.extend(words)\n",
    "            \n",
    "            for word in words:\n",
    "                if word in words_with_quantity.keys():\n",
    "                    words_with_quantity[word] += 1\n",
    "                else:\n",
    "                    words_with_quantity[word] = 1\n",
    "                    \n",
    "    dictionary = sorted(list(set(dictionary)))\n",
    "    return dictionary, words_with_quantity"
   ]
  },
  {
   "cell_type": "code",
   "execution_count": 6,
   "metadata": {},
   "outputs": [],
   "source": [
    "dictionary, words_with_quantity = create_dictionary(files)"
   ]
  },
  {
   "cell_type": "markdown",
   "metadata": {},
   "source": [
    "Poniżej przedstawiono 10 słów, które najczęściej pojawiały się w plikach tekstowych wraz z ilością ich występowania."
   ]
  },
  {
   "cell_type": "code",
   "execution_count": 8,
   "metadata": {},
   "outputs": [],
   "source": [
    "def show_most_popular_words(quantity, words_with_quantity):\n",
    "    words_list = sorted(words_with_quantity.items(), key = lambda x: x[1], reverse=True)\n",
    "    print(\"Liczba słów w słowniku: \", len(words_with_quantity))\n",
    "    print(quantity, \" najpopularniejszych słów:\")\n",
    "    for i, element in enumerate(words_list):\n",
    "        print(element[0], \" -> \", element[1])\n",
    "        if i == quantity - 1:\n",
    "            break"
   ]
  },
  {
   "cell_type": "code",
   "execution_count": 9,
   "metadata": {},
   "outputs": [
    {
     "name": "stdout",
     "output_type": "stream",
     "text": [
      "Liczba słów w słowniku:  13675\n",
      "10  najpopularniejszych słów:\n",
      "the  ->  53774\n",
      "of  ->  31534\n",
      "and  ->  30339\n",
      "to  ->  19633\n",
      "you  ->  12157\n",
      "in  ->  12045\n",
      "he  ->  9289\n",
      "will  ->  9088\n",
      "a  ->  8511\n",
      "for  ->  8391\n"
     ]
    }
   ],
   "source": [
    "show_most_popular_words(10, words_with_quantity)"
   ]
  },
  {
   "cell_type": "markdown",
   "metadata": {},
   "source": [
    "#### 3.\n",
    "Dla każdego dokumentu j wyznacz wektor cech bag-of-words dj zawierający częstości\n",
    "występowania poszczególnych słów (termów) w tekście."
   ]
  },
  {
   "cell_type": "code",
   "execution_count": 10,
   "metadata": {},
   "outputs": [],
   "source": [
    "def create_vector(file, dictionary):\n",
    "    bow = {}\n",
    "    for word in dictionary:\n",
    "        bow[word] = 0\n",
    "    f = io.open('documents/' + file, encoding=\"utf8\")\n",
    "    text_from_file = f.read()\n",
    "    f.close()\n",
    "    sentences = text_from_file.split('\\n')\n",
    "\n",
    "    for sentence in sentences:\n",
    "        sentence = sentence.lower()\n",
    "        sentence = re.sub(r'[^\\w\\s]', '', sentence)\n",
    "        sentence = re.sub('[0-9]', '', sentence)\n",
    "        words = nltk.word_tokenize(sentence)\n",
    "        dictionary.extend(words)\n",
    "\n",
    "        for word in words:\n",
    "            bow[word] += 1\n",
    "    return bow"
   ]
  },
  {
   "cell_type": "code",
   "execution_count": 11,
   "metadata": {},
   "outputs": [],
   "source": [
    "def bag_of_words(quantity, files, dictionary):\n",
    "    for i, file in enumerate(files):\n",
    "        print (\"\\nFile number: \", i)\n",
    "        bow = create_vector(file, dictionary)\n",
    "        bow_sorted = sorted(bow.items(), key = lambda x: x[1], reverse=True)\n",
    "        for element in bow_sorted:\n",
    "            if (element[1] == 0):\n",
    "                break\n",
    "            print(element[0], \" -> \", element[1])\n",
    "\n",
    "        if i == quantity -1:\n",
    "            break"
   ]
  },
  {
   "cell_type": "markdown",
   "metadata": {},
   "source": [
    "Poniżej znajdują się wektory cech bag-of-words dla dwóch pierwszych plików. Przy wyświetlaniu pominięto słowa, które nie występowały w danym tekście."
   ]
  },
  {
   "cell_type": "code",
   "execution_count": 12,
   "metadata": {},
   "outputs": [
    {
     "name": "stdout",
     "output_type": "stream",
     "text": [
      "\n",
      "File number:  0\n",
      "of  ->  3\n",
      "chapter  ->  2\n",
      "a  ->  1\n",
      "all  ->  1\n",
      "an  ->  1\n",
      "and  ->  1\n",
      "audio  ->  1\n",
      "been  ->  1\n",
      "by  ->  1\n",
      "canonical  ->  1\n",
      "contains  ->  1\n",
      "files  ->  1\n",
      "footnotes  ->  1\n",
      "for  ->  1\n",
      "have  ->  1\n",
      "introductions  ->  1\n",
      "make  ->  1\n",
      "numbers  ->  1\n",
      "out  ->  1\n",
      "purpose  ->  1\n",
      "reading  ->  1\n",
      "recording  ->  1\n",
      "script  ->  1\n",
      "set  ->  1\n",
      "stripped  ->  1\n",
      "text  ->  1\n",
      "the  ->  1\n",
      "this  ->  1\n",
      "to  ->  1\n",
      "verse  ->  1\n",
      "\n",
      "File number:  1\n",
      "the  ->  87\n",
      "and  ->  52\n",
      "god  ->  30\n",
      "was  ->  29\n",
      "earth  ->  20\n",
      "it  ->  18\n",
      "of  ->  18\n",
      "there  ->  17\n",
      "let  ->  14\n",
      "to  ->  14\n",
      "in  ->  13\n",
      "that  ->  12\n",
      "after  ->  11\n",
      "over  ->  11\n",
      "waters  ->  11\n",
      "day  ->  10\n",
      "kind  ->  10\n",
      "light  ->  10\n",
      "said  ->  10\n",
      "their  ->  10\n",
      "be  ->  9\n",
      "every  ->  9\n",
      "expanse  ->  9\n",
      "on  ->  9\n",
      "sky  ->  9\n",
      "saw  ->  8\n",
      "them  ->  8\n",
      "good  ->  7\n",
      "called  ->  6\n",
      "evening  ->  6\n",
      "he  ->  6\n",
      "morning  ->  6\n",
      "so  ->  6\n",
      "which  ->  6\n",
      "a  ->  5\n",
      "created  ->  5\n",
      "from  ->  5\n",
      "made  ->  5\n",
      "birds  ->  4\n",
      "darkness  ->  4\n",
      "fruit  ->  4\n",
      "have  ->  4\n",
      "living  ->  4\n",
      "night  ->  4\n",
      "with  ->  4\n",
      "yielding  ->  4\n",
      "creatures  ->  3\n",
      "creeps  ->  3\n",
      "divide  ->  3\n",
      "everything  ->  3\n",
      "for  ->  3\n",
      "image  ->  3\n",
      "lights  ->  3\n",
      "livestock  ->  3\n",
      "multiply  ->  3\n",
      "rule  ->  3\n",
      "sea  ->  3\n",
      "seed  ->  3\n",
      "seeds  ->  3\n",
      "surface  ->  3\n",
      "above  ->  2\n",
      "all  ->  2\n",
      "animals  ->  2\n",
      "bearing  ->  2\n",
      "behold  ->  2\n",
      "bird  ->  2\n",
      "blessed  ->  2\n",
      "creeping  ->  2\n",
      "divided  ->  2\n",
      "dominion  ->  2\n",
      "dry  ->  2\n",
      "fill  ->  2\n",
      "first  ->  2\n",
      "fish  ->  2\n",
      "food  ->  2\n",
      "fruitful  ->  2\n",
      "give  ->  2\n",
      "given  ->  2\n",
      "gods  ->  2\n",
      "grass  ->  2\n",
      "herb  ->  2\n",
      "herbs  ->  2\n",
      "i  ->  2\n",
      "is  ->  2\n",
      "its  ->  2\n",
      "land  ->  2\n",
      "man  ->  2\n",
      "moves  ->  2\n",
      "our  ->  2\n",
      "seas  ->  2\n",
      "thing  ->  2\n",
      "together  ->  2\n",
      "trees  ->  2\n",
      "under  ->  2\n",
      "were  ->  2\n",
      "abound  ->  1\n",
      "also  ->  1\n",
      "an  ->  1\n",
      "animal  ->  1\n",
      "appear  ->  1\n",
      "bears  ->  1\n",
      "beginning  ->  1\n",
      "book  ->  1\n",
      "chapter  ->  1\n",
      "commonly  ->  1\n",
      "creature  ->  1\n",
      "days  ->  1\n",
      "deep  ->  1\n",
      "empty  ->  1\n",
      "female  ->  1\n",
      "fifth  ->  1\n",
      "fly  ->  1\n",
      "formless  ->  1\n",
      "fourth  ->  1\n",
      "gathered  ->  1\n",
      "gathering  ->  1\n",
      "genesis  ->  1\n",
      "great  ->  1\n",
      "greater  ->  1\n",
      "green  ->  1\n",
      "ground  ->  1\n",
      "had  ->  1\n",
      "heavens  ->  1\n",
      "him  ->  1\n",
      "his  ->  1\n",
      "hovering  ->  1\n",
      "large  ->  1\n",
      "lesser  ->  1\n",
      "lets  ->  1\n",
      "life  ->  1\n",
      "likeness  ->  1\n",
      "make  ->  1\n",
      "male  ->  1\n",
      "mark  ->  1\n",
      "middle  ->  1\n",
      "moses  ->  1\n",
      "one  ->  1\n",
      "open  ->  1\n",
      "own  ->  1\n",
      "place  ->  1\n",
      "produce  ->  1\n",
      "saying  ->  1\n",
      "seasons  ->  1\n",
      "second  ->  1\n",
      "set  ->  1\n",
      "signs  ->  1\n",
      "sixth  ->  1\n",
      "spirit  ->  1\n",
      "stars  ->  1\n",
      "subdue  ->  1\n",
      "swarmed  ->  1\n",
      "things  ->  1\n",
      "third  ->  1\n",
      "tree  ->  1\n",
      "two  ->  1\n",
      "very  ->  1\n",
      "will  ->  1\n",
      "winged  ->  1\n",
      "years  ->  1\n",
      "yield  ->  1\n",
      "yielded  ->  1\n",
      "you  ->  1\n",
      "your  ->  1\n"
     ]
    }
   ],
   "source": [
    "bag_of_words(2, files, dictionary)"
   ]
  },
  {
   "cell_type": "markdown",
   "metadata": {},
   "source": [
    "#### 4.\n",
    "Zbuduj rzadką macierz wektorów cech term-by-document matrix w której wektory\n",
    "cech ułożone są kolumnowo A m×n = [d1|d2| . . . |dn] (m jest liczbą termów w\n",
    "słowniku, a n liczbą dokumentów)"
   ]
  },
  {
   "cell_type": "code",
   "execution_count": 13,
   "metadata": {},
   "outputs": [],
   "source": [
    "def create_matrix(files, dictionary):\n",
    "    matrix = []\n",
    "    vector = {}\n",
    "    for file in files:\n",
    "        vector = create_vector(file, dictionary)\n",
    "        matrix.append(vector)\n",
    "    return matrix"
   ]
  },
  {
   "cell_type": "code",
   "execution_count": 14,
   "metadata": {},
   "outputs": [],
   "source": [
    "matrix = create_matrix(files, dictionary)"
   ]
  },
  {
   "cell_type": "code",
   "execution_count": 15,
   "metadata": {},
   "outputs": [
    {
     "name": "stdout",
     "output_type": "stream",
     "text": [
      "Liczba wierszy:  1100\n",
      "Liczba kolumn:  13675\n"
     ]
    }
   ],
   "source": [
    "print(\"Liczba wierszy: \", len(matrix))\n",
    "print(\"Liczba kolumn: \", len(matrix[0]))"
   ]
  },
  {
   "cell_type": "markdown",
   "metadata": {},
   "source": [
    "Jak widać liczba wierszy macierzy odpowiada liczbie plików tekstowych, a liczba kolumn zgadza się z ilością słów znajdujących się w zdefiniowanym wcześniej słowniku."
   ]
  },
  {
   "cell_type": "markdown",
   "metadata": {},
   "source": [
    "#### 5.\n",
    "Przetwórz wstępnie otrzymany zbiór danych mnożąc elementy bag-of-words przez\n",
    "inverse document frequency. Operacja ta pozwoli na redukcje znaczenia często występujących\n",
    "słów."
   ]
  },
  {
   "cell_type": "code",
   "execution_count": null,
   "outputs": [],
   "source": [
    "def count_documents_with_word(word):\n",
    "    counter = 0\n",
    "    for doc in range(len(matrix)):\n",
    "        arr = matrix[doc]\n",
    "        if arr.get(word) != 0:\n",
    "            counter += 1\n",
    "    return counter"
   ],
   "metadata": {
    "collapsed": false,
    "pycharm": {
     "name": "#%%\n"
    }
   }
  },
  {
   "cell_type": "code",
   "execution_count": null,
   "outputs": [],
   "source": [
    "import math\n",
    "\n",
    "def inverse_document_frequency(words_with_quantity):\n",
    "    dict = words_with_quantity.keys()\n",
    "    number_of_documents = len(matrix)\n",
    "    for word in dict:\n",
    "        documents_with_word = count_documents_with_word(word)\n",
    "        if documents_with_word == 0:\n",
    "            idf = 0\n",
    "        else:\n",
    "            idf = float(math.log(number_of_documents/documents_with_word))\n",
    "        for doc in range(len(matrix)):\n",
    "            line = matrix[doc]\n",
    "            line[word] = line.get(word) * idf"
   ],
   "metadata": {
    "collapsed": false,
    "pycharm": {
     "name": "#%%\n"
    }
   }
  },
  {
   "cell_type": "code",
   "execution_count": null,
   "outputs": [],
   "source": [
    "inverse_document_frequency(words_with_quantity)"
   ],
   "metadata": {
    "collapsed": false,
    "pycharm": {
     "name": "#%%\n"
    }
   }
  },
  {
   "cell_type": "code",
   "execution_count": null,
   "outputs": [],
   "source": [
    "vector = matrix[1]\n",
    "list_words = sorted(vector.items() ,  key=lambda x: x[1], reverse=True)\n",
    "\n",
    "for elem in list_words :\n",
    "    if elem[1] == 0:\n",
    "        break\n",
    "    print(elem[0] , \" -> \" , elem[1] )"
   ],
   "metadata": {
    "collapsed": false,
    "pycharm": {
     "name": "#%%\n"
    }
   }
  },
  {
   "cell_type": "code",
   "execution_count": 20,
   "metadata": {},
   "outputs": [],
   "source": [
    "vector = matrix[1]\n",
    "list_words = sorted(vector.items() ,  key=lambda x: x[1], reverse=True)\n",
    "\n",
    "for elem in list_words :\n",
    "    if elem[1] == 0:\n",
    "        break\n",
    "    print(elem[0] , \" -> \" , elem[1] )"
   ]
  },
  {
   "cell_type": "code",
   "execution_count": 21,
   "metadata": {},
   "outputs": [],
   "source": [
    "import math\n",
    "\n",
    "def inverse_document_frequency(words_with_quantity):\n",
    "    dict = words_with_quantity.keys()\n",
    "    number_of_documents = len(matrix)\n",
    "    for word in dict:\n",
    "        documents_with_word = count_documents_with_word(word)\n",
    "        if documents_with_word == 0:\n",
    "            idf = 0\n",
    "        else:\n",
    "            idf = float(math.log(number_of_documents/documents_with_word))\n",
    "        for doc in range(len(matrix)):\n",
    "            line = matrix[doc]\n",
    "            line[word] = line.get(word) * idf"
   ]
  },
  {
   "cell_type": "code",
   "execution_count": 22,
   "metadata": {},
   "outputs": [],
   "source": [
    "inverse_document_frequency(words_with_quantity)"
   ]
  },
  {
   "cell_type": "code",
   "execution_count": 19,
   "metadata": {},
   "outputs": [
    {
     "name": "stdout",
     "output_type": "stream",
     "text": [
      "expanse  ->  48.54264791717126\n",
      "kind  ->  32.18875824868201\n",
      "yielding  ->  23.61781268047341\n",
      "waters  ->  22.4424291137921\n",
      "light  ->  20.332521592104612\n",
      "sky  ->  19.94016344403974\n",
      "earth  ->  19.495738771115274\n",
      "seeds  ->  17.71335951035506\n",
      "creeps  ->  16.180882639057085\n",
      "lights  ->  16.180882639057085\n",
      "created  ->  15.982014845080709\n",
      "evening  ->  15.292308975197725\n",
      "god  ->  12.756123031962455\n",
      "creatures  ->  12.338081102670891\n",
      "was  ->  12.170030862203218\n",
      "let  ->  11.58077464152981\n",
      "morning  ->  11.382719909315288\n",
      "saw  ->  11.326534403089699\n",
      "birds  ->  11.193491357581983\n",
      "divide  ->  10.80560423137292\n",
      "after  ->  10.53866159225495\n",
      "image  ->  10.343152191891145\n",
      "darkness  ->  10.148629360527513\n",
      "moves  ->  10.114310619462298\n",
      "everything  ->  10.096437897180227\n",
      "multiply  ->  10.096437897180227\n",
      "fruit  ->  9.591581091193483\n",
      "living  ->  9.591581091193483\n",
      "surface  ->  9.589208907048427\n",
      "rule  ->  9.273127360074948\n",
      "seed  ->  9.273127360074948\n",
      "herb  ->  9.210340371976184\n",
      "herbs  ->  9.210340371976184\n",
      "over  ->  9.191038646879326\n",
      "every  ->  9.081936283319035\n",
      "creeping  ->  8.590030515368504\n",
      "seas  ->  8.014666370464942\n",
      "bearing  ->  7.917086042126078\n",
      "good  ->  7.664877644322717\n",
      "livestock  ->  7.6114720203956345\n",
      "called  ->  7.169537812836109\n",
      "bird  ->  7.074659111973471\n",
      "fish  ->  7.074659111973471\n",
      "fruitful  ->  7.074659111973471\n",
      "night  ->  7.0241655465039035\n",
      "grass  ->  6.679007625313631\n",
      "there  ->  6.5562621738037405\n",
      "day  ->  6.521797420717224\n",
      "formless  ->  6.309918278226516\n",
      "hovering  ->  6.309918278226516\n",
      "lesser  ->  6.309918278226516\n",
      "dominion  ->  6.305835714152807\n",
      "divided  ->  6.182084906716632\n",
      "said  ->  6.011482620592764\n",
      "fill  ->  5.851056029761485\n",
      "dry  ->  5.751862147482741\n",
      "swarmed  ->  5.616771097666572\n",
      "commonly  ->  5.393627546352362\n",
      "winged  ->  5.393627546352362\n",
      "abound  ->  5.211305989558407\n",
      "yielded  ->  5.211305989558407\n",
      "sea  ->  5.0992816521821585\n",
      "trees  ->  5.074314680263757\n",
      "gathering  ->  4.923623917106626\n",
      "subdue  ->  4.8058408814502425\n",
      "animals  ->  4.660473248649112\n",
      "creature  ->  4.518158808998462\n",
      "bears  ->  4.364008129171204\n",
      "likeness  ->  4.364008129171204\n",
      "seasons  ->  4.364008129171204\n",
      "fly  ->  4.169852114730245\n",
      "food  ->  4.151623547258515\n",
      "mark  ->  4.112693700890297\n",
      "above  ->  4.080441657053109\n",
      "yield  ->  3.958543021063039\n",
      "appear  ->  3.8675712428573124\n",
      "produce  ->  3.8250116284385163\n",
      "blessed  ->  3.7111419639460177\n",
      "sixth  ->  3.707228592782133\n",
      "empty  ->  3.6018680771243066\n",
      "green  ->  3.447717397297048\n",
      "signs  ->  3.419546520330352\n",
      "greater  ->  3.365479299060076\n",
      "first  ->  3.331054758170288\n",
      "made  ->  3.278381245652258\n",
      "under  ->  3.255574102204594\n",
      "stars  ->  3.2188758248682006\n",
      "female  ->  3.174424062297367\n",
      "large  ->  3.174424062297367\n",
      "thing  ->  3.1212954965293367\n",
      "fifth  ->  3.1112451606758356\n",
      "genesis  ->  3.091042453358316\n",
      "gods  ->  3.044853070888941\n",
      "deep  ->  2.9426224482400425\n",
      "their  ->  2.8768207245178083\n",
      "fourth  ->  2.828678188890825\n",
      "animal  ->  2.8134107167600364\n",
      "it  ->  2.8102017456194814\n",
      "beginning  ->  2.783557753610355\n",
      "together  ->  2.6663690716118844\n",
      "given  ->  2.65262331303636\n",
      "male  ->  2.6086163041140233\n",
      "so  ->  2.601504230232996\n",
      "lets  ->  2.4491885671859213\n",
      "heavens  ->  2.428354480283079\n",
      "our  ->  2.395860979739947\n",
      "tree  ->  2.378092645502191\n",
      "third  ->  2.3491051086289385\n",
      "open  ->  2.2668670103919664\n",
      "book  ->  2.1432530544247896\n",
      "second  ->  2.1432530544247896\n",
      "which  ->  2.1400496636323942\n",
      "ground  ->  1.9726275373940265\n",
      "its  ->  1.9495738771115274\n",
      "middle  ->  1.9031990309622635\n",
      "moses  ->  1.8269157262126328\n",
      "gathered  ->  1.8101086078962514\n",
      "spirit  ->  1.7560413866259759\n",
      "very  ->  1.675189289996881\n",
      "years  ->  1.6417732930770368\n",
      "give  ->  1.6296026714077443\n",
      "them  ->  1.5522092219478605\n",
      "behold  ->  1.5177971162454515\n",
      "life  ->  1.4462373970869242\n",
      "land  ->  1.3972333127289616\n",
      "on  ->  1.3478972904034525\n",
      "two  ->  1.3331845358059422\n",
      "be  ->  1.2439591273404116\n",
      "that  ->  1.1797762658954822\n",
      "were  ->  1.1726663525482717\n",
      "own  ->  1.1508629790119875\n",
      "things  ->  1.094982520617531\n",
      "man  ->  0.9648886624555316\n",
      "place  ->  0.9323277307839721\n",
      "saying  ->  0.9208465484100158\n",
      "days  ->  0.9072408963542372\n",
      "set  ->  0.8982722263714767\n",
      "have  ->  0.8834936111186824\n",
      "make  ->  0.8418581370913855\n",
      "great  ->  0.8189165678489787\n",
      "an  ->  0.7301884522402944\n",
      "had  ->  0.7022796641232177\n",
      "he  ->  0.6869579953265932\n",
      "also  ->  0.6574290979578661\n",
      "from  ->  0.6340042344784789\n",
      "i  ->  0.5948527278529181\n",
      "one  ->  0.42381424677636087\n",
      "with  ->  0.2902827713393415\n",
      "your  ->  0.2601848229945589\n",
      "all  ->  0.24741930865204578\n",
      "a  ->  0.24690623957962515\n",
      "and  ->  0.2369024598647544\n",
      "him  ->  0.2345722471378325\n",
      "to  ->  0.2180529649965992\n",
      "is  ->  0.2107210313156527\n",
      "will  ->  0.19845093872383823\n",
      "the  ->  0.15832579437777325\n",
      "you  ->  0.15399917615300435\n",
      "in  ->  0.1306543660955196\n",
      "his  ->  0.1124563386392954\n",
      "for  ->  0.08575964328425008\n",
      "of  ->  0.049157973202171204\n"
     ]
    }
   ],
   "source": [
    "vector = matrix[1]\n",
    "list_words = sorted(vector.items() ,  key=lambda x: x[1], reverse=True)\n",
    "\n",
    "for elem in list_words :\n",
    "    if elem[1] == 0:\n",
    "        break\n",
    "    print(elem[0] , \" -> \" , elem[1] )"
   ]
  }
 ],
 "metadata": {
  "kernelspec": {
   "display_name": "Python 3",
   "language": "python",
   "name": "python3"
  },
  "language_info": {
   "codemirror_mode": {
    "name": "ipython",
    "version": 3
   },
   "file_extension": ".py",
   "mimetype": "text/x-python",
   "name": "python",
   "nbconvert_exporter": "python",
   "pygments_lexer": "ipython3",
   "version": "3.7.6"
  },
  "pycharm": {
   "stem_cell": {
    "cell_type": "raw",
    "source": [],
    "metadata": {
     "collapsed": false
    }
   }
  }
 },
 "nbformat": 4,
 "nbformat_minor": 1
}