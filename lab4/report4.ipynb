{
 "cells": [
  {
   "cell_type": "markdown",
   "metadata": {
    "collapsed": true
   },
   "source": [
    "# Laboratorium 4 - Singular Value Decomposition"
   ]
  },
  {
   "cell_type": "markdown",
   "metadata": {},
   "source": [
    "##### Aleksandra Mazur"
   ]
  },
  {
   "cell_type": "markdown",
   "metadata": {},
   "source": [
    "## Zadanie 1 Wyszukiwarka"
   ]
  },
  {
   "cell_type": "markdown",
   "metadata": {},
   "source": [
    "#### 1. \n",
    "Przygotuj duży (> 1000 elementów) zbiór dokumentów tekstowych w języku angielskim\n",
    "(np. wybrany korpus tekstów, podzbiór artykułów Wikipedii, zbiór dokumentów\n",
    "HTML uzyskanych za pomoca Web crawlera, zbiór rozdziałów wyciętych z\n",
    "różnych książek)."
   ]
  },
  {
   "cell_type": "markdown",
   "metadata": {},
   "source": [
    "Ze strony https://ebible.org/find/details.php?id=eng-web&all=1 pobrano zbiór dokumentów tekstowych w języku angielskim, liczący 1100 plików."
   ]
  },
  {
   "cell_type": "markdown",
   "metadata": {},
   "source": [
    "Poniżej przedstawiono kilka przykładowych plików."
   ]
  },
  {
   "cell_type": "code",
   "execution_count": 1,
   "metadata": {},
   "outputs": [],
   "source": [
    "import numpy as np\n",
    "import os\n",
    "import io\n",
    "\n",
    "files = os.listdir('documents/')"
   ]
  },
  {
   "cell_type": "code",
   "execution_count": 2,
   "metadata": {},
   "outputs": [],
   "source": [
    "def show_two_files(files):\n",
    "    i = 0\n",
    "    for file in files:\n",
    "        f = io.open('documents/' + file, encoding=\"utf8\")\n",
    "        text_from_file = f.read()\n",
    "        print(\"File number: \", i)\n",
    "        print(text_from_file)\n",
    "        i += 1\n",
    "        if i == 2:\n",
    "            break"
   ]
  },
  {
   "cell_type": "code",
   "execution_count": 3,
   "metadata": {},
   "outputs": [
    {
     "name": "stdout",
     "output_type": "stream",
     "text": [
      "File number:  0\n",
      "﻿This set of files contains a script of canonical text, chapter by chapter,\n",
      "for the purpose of reading to make an audio recording.\n",
      "All footnotes, introductions, and verse numbers have been stripped out.\n",
      "\n",
      "\n",
      "File number:  1\n",
      "﻿The First Book of Moses, Commonly Called Genesis.\n",
      "Chapter 1.\n",
      "In the beginning, God created the heavens and the earth. \n",
      "The earth was formless and empty. Darkness was on the surface of the deep and God’s Spirit was hovering over the surface of the waters. \n",
      "God said, “Let there be light,” and there was light. \n",
      "God saw the light, and saw that it was good. God divided the light from the darkness. \n",
      "God called the light “day”, and the darkness he called “night”. There was evening and there was morning, the first day. \n",
      "God said, “Let there be an expanse in the middle of the waters, and let it divide the waters from the waters.” \n",
      "God made the expanse, and divided the waters which were under the expanse from the waters which were above the expanse; and it was so. \n",
      "God called the expanse “sky”. There was evening and there was morning, a second day. \n",
      "God said, “Let the waters under the sky be gathered together to one place, and let the dry land appear;” and it was so. \n",
      "God called the dry land “earth”, and the gathering together of the waters he called “seas”. God saw that it was good. \n",
      "God said, “Let the earth yield grass, herbs yielding seeds, and fruit trees bearing fruit after their kind, with their seeds in it, on the earth;” and it was so. \n",
      "The earth yielded grass, herbs yielding seed after their kind, and trees bearing fruit, with their seeds in it, after their kind; and God saw that it was good. \n",
      "There was evening and there was morning, a third day. \n",
      "God said, “Let there be lights in the expanse of the sky to divide the day from the night; and let them be for signs to mark seasons, days, and years; \n",
      "and let them be for lights in the expanse of the sky to give light on the earth;” and it was so. \n",
      "God made the two great lights: the greater light to rule the day, and the lesser light to rule the night. He also made the stars. \n",
      "God set them in the expanse of the sky to give light to the earth, \n",
      "and to rule over the day and over the night, and to divide the light from the darkness. God saw that it was good. \n",
      "There was evening and there was morning, a fourth day. \n",
      "God said, “Let the waters abound with living creatures, and let birds fly above the earth in the open expanse of the sky.” \n",
      "God created the large sea creatures and every living creature that moves, with which the waters swarmed, after their kind, and every winged bird after its kind. God saw that it was good. \n",
      "God blessed them, saying, “Be fruitful, and multiply, and fill the waters in the seas, and let birds multiply on the earth.” \n",
      "There was evening and there was morning, a fifth day. \n",
      "God said, “Let the earth produce living creatures after their kind, livestock, creeping things, and animals of the earth after their kind;” and it was so. \n",
      "God made the animals of the earth after their kind, and the livestock after their kind, and everything that creeps on the ground after its kind. God saw that it was good. \n",
      "God said, “Let’s make man in our image, after our likeness. Let them have dominion over the fish of the sea, and over the birds of the sky, and over the livestock, and over all the earth, and over every creeping thing that creeps on the earth.” \n",
      "God created man in his own image. In God’s image he created him; male and female he created them. \n",
      "God blessed them. God said to them, “Be fruitful, multiply, fill the earth, and subdue it. Have dominion over the fish of the sea, over the birds of the sky, and over every living thing that moves on the earth.” \n",
      "God said, “Behold, I have given you every herb yielding seed, which is on the surface of all the earth, and every tree, which bears fruit yielding seed. It will be your food. \n",
      "To every animal of the earth, and to every bird of the sky, and to everything that creeps on the earth, in which there is life, I have given every green herb for food;” and it was so. \n",
      "God saw everything that he had made, and, behold, it was very good. There was evening and there was morning, a sixth day. \n",
      "\n"
     ]
    }
   ],
   "source": [
    "show_two_files(files)"
   ]
  },
  {
   "cell_type": "markdown",
   "metadata": {},
   "source": [
    "#### 2. \n",
    "Określ słownik słów kluczowych (termów) potrzebny do wyznaczenia wektorów\n",
    "cech bag-of-words (indeksacja). Przykładowo zbiorem takim może być unia wszystkich\n",
    "słów występujących we wszystkich tekstach."
   ]
  },
  {
   "cell_type": "code",
   "execution_count": 4,
   "metadata": {},
   "outputs": [],
   "source": [
    "import re\n",
    "import nltk\n",
    "nltk.download('punkt')"
   ]
  },
  {
   "cell_type": "markdown",
   "metadata": {},
   "source": [
    "Słownik słów kluczowych określono jako unię wszystkich słów występujących we wszystkich tekstach."
   ]
  },
  {
   "cell_type": "code",
   "execution_count": 5,
   "metadata": {},
   "outputs": [],
   "source": [
    "def create_dictionary(files):\n",
    "    words_with_quantity = {}\n",
    "    dictionary = []\n",
    "    \n",
    "    for file in files:\n",
    "        f = io.open('documents/' + file, encoding=\"utf8\")\n",
    "        text_from_file = f.read()\n",
    "        f.close()\n",
    "        sentences = text_from_file.split('\\n')\n",
    "        \n",
    "        for sentence in sentences:\n",
    "            sentence = sentence.lower()\n",
    "            sentence = re.sub(r'[^\\w\\s]', '', sentence)\n",
    "            sentence = re.sub('[0-9]', '', sentence)\n",
    "            words = nltk.word_tokenize(sentence)\n",
    "            dictionary.extend(words)\n",
    "            \n",
    "            for word in words:\n",
    "                if word in words_with_quantity.keys():\n",
    "                    words_with_quantity[word] += 1\n",
    "                else:\n",
    "                    words_with_quantity[word] = 1\n",
    "                    \n",
    "    dictionary = sorted(list(set(dictionary)))\n",
    "    return dictionary, words_with_quantity"
   ]
  },
  {
   "cell_type": "code",
   "execution_count": 6,
   "metadata": {},
   "outputs": [],
   "source": [
    "dictionary, words_with_quantity = create_dictionary(files)"
   ]
  },
  {
   "cell_type": "markdown",
   "metadata": {},
   "source": [
    "Poniżej przedstawiono 10 słów, które najczęściej pojawiały się w plikach tekstowych wraz z ilością ich występowania."
   ]
  },
  {
   "cell_type": "code",
   "execution_count": 8,
   "metadata": {},
   "outputs": [],
   "source": [
    "def show_most_popular_words(quantity, words_with_quantity):\n",
    "    words_list = sorted(words_with_quantity.items(), key = lambda x: x[1], reverse=True)\n",
    "    print(\"Liczba słów w słowniku: \", len(words_with_quantity))\n",
    "    print(quantity, \" najpopularniejszych słów:\")\n",
    "    for i, element in enumerate(words_list):\n",
    "        print(element[0], \" -> \", element[1])\n",
    "        if i == quantity - 1:\n",
    "            break"
   ]
  },
  {
   "cell_type": "code",
   "execution_count": 9,
   "metadata": {},
   "outputs": [
    {
     "name": "stdout",
     "output_type": "stream",
     "text": [
      "Liczba słów w słowniku:  13675\n",
      "10  najpopularniejszych słów:\n",
      "the  ->  53774\n",
      "of  ->  31534\n",
      "and  ->  30339\n",
      "to  ->  19633\n",
      "you  ->  12157\n",
      "in  ->  12045\n",
      "he  ->  9289\n",
      "will  ->  9088\n",
      "a  ->  8511\n",
      "for  ->  8391\n"
     ]
    }
   ],
   "source": [
    "show_most_popular_words(10, words_with_quantity)"
   ]
  },
  {
   "cell_type": "markdown",
   "metadata": {},
   "source": [
    "#### 3.\n",
    "Dla każdego dokumentu j wyznacz wektor cech bag-of-words dj zawierający częstości\n",
    "występowania poszczególnych słów (termów) w tekście."
   ]
  },
  {
   "cell_type": "code",
   "execution_count": 10,
   "metadata": {},
   "outputs": [],
   "source": [
    "def create_vector(file, dictionary):\n",
    "    bow = {}\n",
    "    for word in dictionary:\n",
    "        bow[word] = 0\n",
    "    f = io.open('documents/' + file, encoding=\"utf8\")\n",
    "    text_from_file = f.read()\n",
    "    f.close()\n",
    "    sentences = text_from_file.split('\\n')\n",
    "\n",
    "    for sentence in sentences:\n",
    "        sentence = sentence.lower()\n",
    "        sentence = re.sub(r'[^\\w\\s]', '', sentence)\n",
    "        sentence = re.sub('[0-9]', '', sentence)\n",
    "        words = nltk.word_tokenize(sentence)\n",
    "        dictionary.extend(words)\n",
    "\n",
    "        for word in words:\n",
    "            bow[word] += 1\n",
    "    return bow"
   ]
  },
  {
   "cell_type": "code",
   "execution_count": 11,
   "metadata": {},
   "outputs": [],
   "source": [
    "def bag_of_words(quantity, files, dictionary):\n",
    "    for i, file in enumerate(files):\n",
    "        print (\"\\nFile number: \", i)\n",
    "        bow = create_vector(file, dictionary)\n",
    "        bow_sorted = sorted(bow.items(), key = lambda x: x[1], reverse=True)\n",
    "        for element in bow_sorted:\n",
    "            if (element[1] == 0):\n",
    "                break\n",
    "            print(element[0], \" -> \", element[1])\n",
    "\n",
    "        if i == quantity -1:\n",
    "            break"
   ]
  },
  {
   "cell_type": "markdown",
   "metadata": {},
   "source": [
    "Poniżej znajdują się wektory cech bag-of-words dla dwóch pierwszych plików. Przy wyświetlaniu pominięto słowa, które nie występowały w danym tekście."
   ]
  },
  {
   "cell_type": "code",
   "execution_count": 12,
   "metadata": {},
   "outputs": [
    {
     "name": "stdout",
     "output_type": "stream",
     "text": [
      "\n",
      "File number:  0\n",
      "of  ->  3\n",
      "chapter  ->  2\n",
      "a  ->  1\n",
      "all  ->  1\n",
      "an  ->  1\n",
      "and  ->  1\n",
      "audio  ->  1\n",
      "been  ->  1\n",
      "by  ->  1\n",
      "canonical  ->  1\n",
      "contains  ->  1\n",
      "files  ->  1\n",
      "footnotes  ->  1\n",
      "for  ->  1\n",
      "have  ->  1\n",
      "introductions  ->  1\n",
      "make  ->  1\n",
      "numbers  ->  1\n",
      "out  ->  1\n",
      "purpose  ->  1\n",
      "reading  ->  1\n",
      "recording  ->  1\n",
      "script  ->  1\n",
      "set  ->  1\n",
      "stripped  ->  1\n",
      "text  ->  1\n",
      "the  ->  1\n",
      "this  ->  1\n",
      "to  ->  1\n",
      "verse  ->  1\n",
      "\n",
      "File number:  1\n",
      "the  ->  87\n",
      "and  ->  52\n",
      "god  ->  30\n",
      "was  ->  29\n",
      "earth  ->  20\n",
      "it  ->  18\n",
      "of  ->  18\n",
      "there  ->  17\n",
      "let  ->  14\n",
      "to  ->  14\n",
      "in  ->  13\n",
      "that  ->  12\n",
      "after  ->  11\n",
      "over  ->  11\n",
      "waters  ->  11\n",
      "day  ->  10\n",
      "kind  ->  10\n",
      "light  ->  10\n",
      "said  ->  10\n",
      "their  ->  10\n",
      "be  ->  9\n",
      "every  ->  9\n",
      "expanse  ->  9\n",
      "on  ->  9\n",
      "sky  ->  9\n",
      "saw  ->  8\n",
      "them  ->  8\n",
      "good  ->  7\n",
      "called  ->  6\n",
      "evening  ->  6\n",
      "he  ->  6\n",
      "morning  ->  6\n",
      "so  ->  6\n",
      "which  ->  6\n",
      "a  ->  5\n",
      "created  ->  5\n",
      "from  ->  5\n",
      "made  ->  5\n",
      "birds  ->  4\n",
      "darkness  ->  4\n",
      "fruit  ->  4\n",
      "have  ->  4\n",
      "living  ->  4\n",
      "night  ->  4\n",
      "with  ->  4\n",
      "yielding  ->  4\n",
      "creatures  ->  3\n",
      "creeps  ->  3\n",
      "divide  ->  3\n",
      "everything  ->  3\n",
      "for  ->  3\n",
      "image  ->  3\n",
      "lights  ->  3\n",
      "livestock  ->  3\n",
      "multiply  ->  3\n",
      "rule  ->  3\n",
      "sea  ->  3\n",
      "seed  ->  3\n",
      "seeds  ->  3\n",
      "surface  ->  3\n",
      "above  ->  2\n",
      "all  ->  2\n",
      "animals  ->  2\n",
      "bearing  ->  2\n",
      "behold  ->  2\n",
      "bird  ->  2\n",
      "blessed  ->  2\n",
      "creeping  ->  2\n",
      "divided  ->  2\n",
      "dominion  ->  2\n",
      "dry  ->  2\n",
      "fill  ->  2\n",
      "first  ->  2\n",
      "fish  ->  2\n",
      "food  ->  2\n",
      "fruitful  ->  2\n",
      "give  ->  2\n",
      "given  ->  2\n",
      "gods  ->  2\n",
      "grass  ->  2\n",
      "herb  ->  2\n",
      "herbs  ->  2\n",
      "i  ->  2\n",
      "is  ->  2\n",
      "its  ->  2\n",
      "land  ->  2\n",
      "man  ->  2\n",
      "moves  ->  2\n",
      "our  ->  2\n",
      "seas  ->  2\n",
      "thing  ->  2\n",
      "together  ->  2\n",
      "trees  ->  2\n",
      "under  ->  2\n",
      "were  ->  2\n",
      "abound  ->  1\n",
      "also  ->  1\n",
      "an  ->  1\n",
      "animal  ->  1\n",
      "appear  ->  1\n",
      "bears  ->  1\n",
      "beginning  ->  1\n",
      "book  ->  1\n",
      "chapter  ->  1\n",
      "commonly  ->  1\n",
      "creature  ->  1\n",
      "days  ->  1\n",
      "deep  ->  1\n",
      "empty  ->  1\n",
      "female  ->  1\n",
      "fifth  ->  1\n",
      "fly  ->  1\n",
      "formless  ->  1\n",
      "fourth  ->  1\n",
      "gathered  ->  1\n",
      "gathering  ->  1\n",
      "genesis  ->  1\n",
      "great  ->  1\n",
      "greater  ->  1\n",
      "green  ->  1\n",
      "ground  ->  1\n",
      "had  ->  1\n",
      "heavens  ->  1\n",
      "him  ->  1\n",
      "his  ->  1\n",
      "hovering  ->  1\n",
      "large  ->  1\n",
      "lesser  ->  1\n",
      "lets  ->  1\n",
      "life  ->  1\n",
      "likeness  ->  1\n",
      "make  ->  1\n",
      "male  ->  1\n",
      "mark  ->  1\n",
      "middle  ->  1\n",
      "moses  ->  1\n",
      "one  ->  1\n",
      "open  ->  1\n",
      "own  ->  1\n",
      "place  ->  1\n",
      "produce  ->  1\n",
      "saying  ->  1\n",
      "seasons  ->  1\n",
      "second  ->  1\n",
      "set  ->  1\n",
      "signs  ->  1\n",
      "sixth  ->  1\n",
      "spirit  ->  1\n",
      "stars  ->  1\n",
      "subdue  ->  1\n",
      "swarmed  ->  1\n",
      "things  ->  1\n",
      "third  ->  1\n",
      "tree  ->  1\n",
      "two  ->  1\n",
      "very  ->  1\n",
      "will  ->  1\n",
      "winged  ->  1\n",
      "years  ->  1\n",
      "yield  ->  1\n",
      "yielded  ->  1\n",
      "you  ->  1\n",
      "your  ->  1\n"
     ]
    }
   ],
   "source": [
    "bag_of_words(2, files, dictionary)"
   ]
  },
  {
   "cell_type": "markdown",
   "metadata": {},
   "source": [
    "#### 4.\n",
    "Zbuduj rzadką macierz wektorów cech term-by-document matrix w której wektory\n",
    "cech ułożone są kolumnowo A m×n = [d1|d2| . . . |dn] (m jest liczbą termów w\n",
    "słowniku, a n liczbą dokumentów)"
   ]
  },
  {
   "cell_type": "code",
   "execution_count": 13,
   "metadata": {},
   "outputs": [],
   "source": [
    "def create_matrix(files, dictionary):\n",
    "    matrix = []\n",
    "    vector = {}\n",
    "    for file in files:\n",
    "        vector = create_vector(file, dictionary)\n",
    "        matrix.append(vector)\n",
    "    return matrix"
   ]
  },
  {
   "cell_type": "code",
   "execution_count": 14,
   "metadata": {},
   "outputs": [],
   "source": [
    "matrix = create_matrix(files, dictionary)"
   ]
  },
  {
   "cell_type": "code",
   "execution_count": 15,
   "metadata": {},
   "outputs": [
    {
     "name": "stdout",
     "output_type": "stream",
     "text": [
      "Liczba wierszy:  1100\n",
      "Liczba kolumn:  13675\n"
     ]
    }
   ],
   "source": [
    "print(\"Liczba wierszy: \", len(matrix))\n",
    "print(\"Liczba kolumn: \", len(matrix[0]))"
   ]
  },
  {
   "cell_type": "markdown",
   "metadata": {},
   "source": [
    "Jak widać liczba wierszy macierzy odpowiada liczbie plików tekstowych, a liczba kolumn zgadza się z ilością słów znajdujących się w zdefiniowanym wcześniej słowniku."
   ]
  },
  {
   "cell_type": "markdown",
   "metadata": {},
   "source": [
    "#### 5.\n",
    "Przetwórz wstępnie otrzymany zbiór danych mnożąc elementy bag-of-words przez\n",
    "inverse document frequency. Operacja ta pozwoli na redukcje znaczenia często występujących\n",
    "słów."
   ]
  },
  {
   "cell_type": "code",
   "execution_count": 24,
   "metadata": {
    "pycharm": {
     "name": "#%%\n"
    }
   },
   "outputs": [],
   "source": [
    "def count_documents_with_word(word):\n",
    "    counter = 0\n",
    "    for doc in range(len(matrix)):\n",
    "        arr = matrix[doc]\n",
    "        if arr.get(word) != 0:\n",
    "            counter += 1\n",
    "    return counter"
   ]
  },
  {
   "cell_type": "code",
   "execution_count": 25,
   "metadata": {},
   "outputs": [],
   "source": [
    "import math\n",
    "\n",
    "def inverse_document_frequency(words_with_quantity):\n",
    "    dict = words_with_quantity.keys()\n",
    "    number_of_documents = len(matrix)\n",
    "    for word in dict:\n",
    "        documents_with_word = count_documents_with_word(word)\n",
    "        if documents_with_word == 0:\n",
    "            idf = 0\n",
    "        else:\n",
    "            idf = float(math.log(number_of_documents/documents_with_word))\n",
    "        for doc in range(len(matrix)):\n",
    "            line = matrix[doc]\n",
    "            line[word] = line.get(word) * idf"
   ]
  },
  {
   "cell_type": "code",
   "execution_count": 26,
   "metadata": {},
   "outputs": [],
   "source": [
    "inverse_document_frequency(words_with_quantity)"
   ]
  },
  {
   "cell_type": "code",
   "execution_count": 27,
   "metadata": {},
   "outputs": [
    {
     "name": "stdout",
     "output_type": "stream",
     "text": [
      "expanse  ->  261.820962978939\n",
      "yielding  ->  139.45026895248265\n",
      "seeds  ->  104.587701714362\n",
      "kind  ->  103.61161575920939\n",
      "creeps  ->  87.273654326313\n",
      "lights  ->  87.273654326313\n",
      "moves  ->  51.14963965348391\n",
      "created  ->  51.084959701676034\n",
      "creatures  ->  50.742748432028186\n",
      "waters  ->  45.78751132068939\n",
      "sky  ->  44.17890201944654\n",
      "herb  ->  42.415184883827195\n",
      "herbs  ->  42.415184883827195\n",
      "light  ->  41.34114342934003\n",
      "formless  ->  39.81506867789708\n",
      "hovering  ->  39.81506867789708\n",
      "lesser  ->  39.81506867789708\n",
      "evening  ->  38.97578563215215\n",
      "divide  ->  38.92036093502145\n",
      "creeping  ->  36.894312127481044\n",
      "image  ->  35.660265754874196\n",
      "everything  ->  33.979352737205694\n",
      "multiply  ->  33.979352737205694\n",
      "seas  ->  32.117438514930846\n",
      "swarmed  ->  31.548117563582544\n",
      "bearing  ->  31.340125699213782\n",
      "birds  ->  31.323562193065637\n",
      "surface  ->  30.650975821005623\n",
      "commonly  ->  29.091218108771\n",
      "winged  ->  29.091218108771\n",
      "rule  ->  28.663630345390192\n",
      "seed  ->  28.663630345390192\n",
      "abound  ->  27.15771011680733\n",
      "yielded  ->  27.15771011680733\n",
      "darkness  ->  25.74866947434027\n",
      "bird  ->  25.02540077531463\n",
      "fish  ->  25.02540077531463\n",
      "fruitful  ->  25.02540077531463\n",
      "gathering  ->  24.242072477104397\n",
      "subdue  ->  23.096106577818443\n",
      "fruit  ->  22.99960695723509\n",
      "living  ->  22.99960695723509\n",
      "grass  ->  22.30457142949881\n",
      "morning  ->  21.59438542232044\n",
      "creature  ->  20.413759023330396\n",
      "dominion  ->  19.88178202694252\n",
      "livestock  ->  19.311502105755203\n",
      "divided  ->  19.109086896926794\n",
      "bears  ->  19.044566951472348\n",
      "likeness  ->  19.044566951472348\n",
      "seasons  ->  19.044566951472348\n",
      "earth  ->  19.004191511578366\n",
      "fly  ->  17.3876666587203\n",
      "fill  ->  17.117428331704115\n",
      "mark  ->  16.91424947734273\n",
      "dry  ->  16.541959081822384\n",
      "saw  ->  16.036297698046816\n",
      "yield  ->  15.670062849606891\n",
      "appear  ->  14.958107318576856\n",
      "produce  ->  14.63071395768987\n",
      "sixth  ->  13.743543839141394\n",
      "empty  ->  12.97345364500715\n",
      "trees  ->  12.874334737170136\n",
      "night  ->  12.33472540617312\n",
      "green  ->  11.88675525162473\n",
      "signs  ->  11.69329840470342\n",
      "greater  ->  11.3264509124019\n",
      "animals  ->  10.860005450687002\n",
      "stars  ->  10.361161575920939\n",
      "after  ->  10.096671650551787\n",
      "female  ->  10.076968127292517\n",
      "large  ->  10.076968127292517\n",
      "fifth  ->  9.679846449828807\n",
      "let  ->  9.57959580699285\n",
      "genesis  ->  9.554543448463397\n",
      "every  ->  9.16461851714075\n",
      "sea  ->  8.667557789427201\n",
      "deep  ->  8.659026872886221\n",
      "food  ->  8.617989039075686\n",
      "called  ->  8.567045408281128\n",
      "good  ->  8.392907043205451\n",
      "above  ->  8.325002058307161\n",
      "fourth  ->  8.001420296306677\n",
      "animal  ->  7.915279861180222\n",
      "beginning  ->  7.748193767684326\n",
      "over  ->  7.67956285531176\n",
      "blessed  ->  6.886287338280552\n",
      "male  ->  6.804879022089507\n",
      "lets  ->  5.998524637634226\n",
      "heavens  ->  5.8969054819109035\n",
      "tree  ->  5.655324630591609\n",
      "first  ->  5.547962900964458\n",
      "third  ->  5.518294811386577\n",
      "god  ->  5.423955826885434\n",
      "under  ->  5.299381367472623\n",
      "open  ->  5.138686042803411\n",
      "was  ->  5.107229351275131\n",
      "thing  ->  4.87124278832716\n",
      "gods  ->  4.635565111650908\n",
      "book  ->  4.59353365530119\n",
      "second  ->  4.59353365530119\n",
      "day  ->  4.253384159687383\n",
      "ground  ->  3.8912594012852213\n",
      "middle  ->  3.622166551455699\n",
      "said  ->  3.6137923297688843\n",
      "together  ->  3.5547620130242112\n",
      "given  ->  3.5182052204319976\n",
      "moses  ->  3.3376210706830314\n",
      "gathered  ->  3.276493172380105\n",
      "spirit  ->  3.08368135154328\n",
      "our  ->  2.870074917120229\n",
      "very  ->  2.8062591573202544\n",
      "years  ->  2.695419545861018\n",
      "there  ->  2.5285043348029266\n",
      "made  ->  2.14955671836889\n",
      "life  ->  2.091602608732762\n",
      "its  ->  1.9004191511578366\n",
      "two  ->  1.7773810065121056\n",
      "give  ->  1.3278024333296283\n",
      "own  ->  1.3244855964603464\n",
      "things  ->  1.1989867204579217\n",
      "behold  ->  1.1518540430415043\n",
      "so  ->  1.1279707099866956\n",
      "land  ->  0.9761304650997741\n",
      "place  ->  0.8692349975887909\n",
      "saying  ->  0.8479583657186396\n",
      "their  ->  0.8276097481015168\n",
      "days  ->  0.8230860440176397\n",
      "set  ->  0.8068929926703695\n",
      "which  ->  0.7633020938021873\n",
      "make  ->  0.708725122986978\n",
      "were  ->  0.6875731871994337\n",
      "great  ->  0.670624345097551\n",
      "an  ->  0.5331751757850767\n",
      "had  ->  0.49319672664101954\n",
      "man  ->  0.46550506546761244\n",
      "it  ->  0.43873521394904336\n",
      "also  ->  0.4322130188416935\n",
      "them  ->  0.3011691835874978\n",
      "on  ->  0.2018696783863299\n",
      "have  ->  0.1951402402218824\n",
      "one  ->  0.1796185157706141\n",
      "i  ->  0.17692488391702893\n",
      "be  ->  0.17193714561039092\n",
      "that  ->  0.11598933646419063\n",
      "from  ->  0.08039227386732839\n",
      "he  ->  0.07865188122385526\n",
      "your  ->  0.06769614211670995\n",
      "him  ->  0.05502413912729237\n",
      "will  ->  0.0393827750803726\n",
      "all  ->  0.030608157146928147\n",
      "you  ->  0.02371574625580406\n",
      "is  ->  0.022201676519366144\n",
      "with  ->  0.021066021834112107\n",
      "his  ->  0.012646428100155883\n",
      "a  ->  0.012192538228670252\n",
      "to  ->  0.0033962211102720086\n",
      "for  ->  0.002451572138747273\n",
      "in  ->  0.001313120259986312\n",
      "and  ->  0.0010792841440379146\n",
      "the  ->  0.0002881270938546314\n",
      "of  ->  0.00013425035163029903\n"
     ]
    }
   ],
   "source": [
    "vector = matrix[1]\n",
    "list_words = sorted(vector.items() ,  key=lambda x: x[1], reverse=True)\n",
    "\n",
    "for elem in list_words :\n",
    "    if elem[1] == 0:\n",
    "        break\n",
    "    print(elem[0] , \" -> \" , elem[1] )"
   ]
  }
 ],
 "metadata": {
  "kernelspec": {
   "display_name": "Python 3",
   "language": "python",
   "name": "python3"
  },
  "language_info": {
   "codemirror_mode": {
    "name": "ipython",
    "version": 3
   },
   "file_extension": ".py",
   "mimetype": "text/x-python",
   "name": "python",
   "nbconvert_exporter": "python",
   "pygments_lexer": "ipython3",
   "version": "3.7.6"
  },
  "pycharm": {
   "stem_cell": {
    "cell_type": "raw",
    "metadata": {
     "collapsed": false
    },
    "source": []
   }
  }
 },
 "nbformat": 4,
 "nbformat_minor": 1
}
