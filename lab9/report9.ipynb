{
 "cells": [
  {
   "cell_type": "markdown",
   "metadata": {
    "collapsed": true
   },
   "source": [
    "# Laboratorium 9 - Faktoryzacja QR\n"
   ]
  },
  {
   "cell_type": "markdown",
   "metadata": {},
   "source": [
    "##### Aleksandra Mazur"
   ]
  },
  {
   "cell_type": "markdown",
   "metadata": {},
   "source": [
    "## Zadanie 1 Faktoryzacja QR metodą Grama-Schmidta"
   ]
  },
  {
   "cell_type": "markdown",
   "metadata": {},
   "source": [
    "Do wykonania zadań użyto następujących bibliotek:\n",
    "* numpy\n",
    "* matplotlib\n",
    "* time\n",
    "* scipy"
   ]
  },
  {
   "cell_type": "code",
   "execution_count": 1,
   "metadata": {},
   "outputs": [],
   "source": [
    "import numpy as np\n",
    "import matplotlib.pyplot as plt\n",
    "import time\n",
    "import scipy.linalg"
   ]
  },
  {
   "cell_type": "markdown",
   "metadata": {},
   "source": [
    "**Faktoryzacja QR** to w algebrze liniowej rozkład macierzy **A** do postaci iloczynu dwóch macierzy **A = QR**, gdzie **Q** jest macierzą ortogonalną$(Q^{T}Q=I)$ i **R** jest macierzą trójkątną górną."
   ]
  },
  {
   "cell_type": "markdown",
   "metadata": {},
   "source": [
    "### 1. Napisz funkcję dokonujaca faktoryzacji QR macierzy $A \\in R^{n×n}$, $A = [a_1, a_2, . . . , a_n]$ ($a_i$ to kolejne kolumny macierzy A) klasyczną metodą ortogonalizacji Grama-Schmidta."
   ]
  },
  {
   "cell_type": "markdown",
   "metadata": {},
   "source": [
    "Poniżej została zaimplementowana funkcja ***gram_schmidt_QR***, która jako argument przyjmuje macierz *A*. Funkcja ta korzystając z metody Grama-Schmidta dokonuje faktoryzacji QR macierzy *A*. Kolejne kroki odpowiadają tym, które zostały przedstawione w poleceniu zadania. Funkcja ta zwraca macierz ortogonalną *Q* i macierz trójkątną górną *R*."
   ]
  },
  {
   "cell_type": "code",
   "execution_count": 2,
   "metadata": {},
   "outputs": [],
   "source": [
    "def gram_schmidt_QR(A):\n",
    "    n = A.shape[0] # size of matrix A\n",
    "    \n",
    "    A = np.array(A)\n",
    "    Q = np.zeros(A.shape)\n",
    "    R = np.zeros(A.shape)\n",
    "    \n",
    "    Q[:, 0] = A[:, 0] / np.linalg.norm(A[:, 0]) # step (1) u1 = a1 / || a1 || \n",
    "\n",
    "    for k in range(1, n):\n",
    "        Q[:, k] = A[:, k] # step (2) uk = ak\n",
    "\n",
    "        for i in range(k):\n",
    "            Q[:, k] -= np.inner(Q[:, i], A[:, k]) * Q[:, i] # step(2) uk -= suma (od i = 1 do i = k - 1) z <ui, ak> ui\n",
    "    \n",
    "        Q[:, k] = Q[:, k] / np.linalg.norm(Q[:, k]) # step (3) uk = uk \\ || uk ||\n",
    "\n",
    "    for i in range(n):\n",
    "        for j in range(i, n):\n",
    "            R[i, j] = np.inner(Q[:, i], A[:, j])\n",
    "\n",
    "    return Q, R"
   ]
  },
  {
   "cell_type": "markdown",
   "metadata": {},
   "source": [
    "Poniżej przedstawiono przykład działania funckji ***gram_schmidt_QR*** dla losowej macierzy."
   ]
  },
  {
   "cell_type": "code",
   "execution_count": 3,
   "metadata": {},
   "outputs": [
    {
     "name": "stdout",
     "output_type": "stream",
     "text": [
      "A:\n",
      "[[0.38004971 0.70671437 0.20901851 0.76028404]\n",
      " [0.66490691 0.30378181 0.88242214 0.36691096]\n",
      " [0.46333884 0.38192734 0.12673449 0.01730884]\n",
      " [0.44783895 0.03450061 0.40823685 0.18744403]]\n",
      "Q:\n",
      "[[ 0.37971162  0.83104211  0.13855709  0.38208642]\n",
      " [ 0.6643154  -0.24876404  0.61602475 -0.34251279]\n",
      " [ 0.46292665  0.13744957 -0.72045776 -0.49774205]\n",
      " [ 0.44744055 -0.47811409 -0.28680316  0.69924804]]\n",
      "R:\n",
      "[[ 1.0008904   0.66239591  0.90690387  0.62431606]\n",
      " [ 0.          0.54773993 -0.2235759   0.45331326]\n",
      " [ 0.          0.          0.3641644   0.26513915]\n",
      " [ 0.          0.          0.          0.28727704]]\n",
      "QR:\n",
      "[[0.38004971 0.70671437 0.20901851 0.76028404]\n",
      " [0.66490691 0.30378181 0.88242214 0.36691096]\n",
      " [0.46333884 0.38192734 0.12673449 0.01730884]\n",
      " [0.44783895 0.03450061 0.40823685 0.18744403]]\n"
     ]
    }
   ],
   "source": [
    "A = np.random.rand(4,4)\n",
    "print(\"A:\")\n",
    "print(A)\n",
    "Q, R = gram_schmidt_QR(A)\n",
    "print(\"Q:\")\n",
    "print(Q)\n",
    "print(\"R:\")\n",
    "print(R)\n",
    "print(\"QR:\")\n",
    "print(np.matmul(Q,R))"
   ]
  },
  {
   "cell_type": "markdown",
   "metadata": {},
   "source": [
    "Jak widać powyżej *R* jest macierzą trójkątną górną, a równanie *A = QR* jest spełnione."
   ]
  },
  {
   "cell_type": "markdown",
   "metadata": {},
   "source": [
    "### 2. Przetestuj zaimplementowaną metodę porównując wyniki uzyskane z jej pomocą z wynikami zwracanymi przez funkcję biblioteczną. W testach wykorzystaj 4-5 macierzy losowych o różnym rozmiarze."
   ]
  },
  {
   "cell_type": "markdown",
   "metadata": {},
   "source": [
    "Funkcja pomocniczna ***exec_QR*** przyjmuje funkcję *qr_function* i macierz *A*, następnie dokonuje faktoryzacji danej macierzy, używając przyjętej funkcji i mierzy czas działania. Funkcja zwraca macierz *Q*, macierz *R* i czas działania."
   ]
  },
  {
   "cell_type": "code",
   "execution_count": 4,
   "metadata": {},
   "outputs": [],
   "source": [
    "def exec_QR(qr_function, A):\n",
    "    start = time.time()\n",
    "    Q, R = qr_function(A)\n",
    "    end = time.time()\n",
    "    return Q, R, end - start"
   ]
  },
  {
   "cell_type": "markdown",
   "metadata": {},
   "source": [
    "Funkcja ***test_gram_schmidt_QR*** tworzy losową macierz o rozmiarze *n* przekazanym jako jej parametr. Następnie dokonuje faktoryzacji QR zaimplementowaną przeze mnie funkcją, a także funkcją biblioteczną ***numpy.linalg.qr***. Wypisuje osiągnięte rezultaty, sprawdza poprawność wyników i zwraca czasy działania obu funkcji."
   ]
  },
  {
   "cell_type": "code",
   "execution_count": 5,
   "metadata": {},
   "outputs": [],
   "source": [
    "def test_gram_schmidt_QR(n):\n",
    "    print(\"Matrix \", n, \" x \", n)\n",
    "    A = np.random.rand(n, n) # generate random matrix n x n\n",
    "    \n",
    "    my_Q, my_R, my_time = exec_QR(gram_schmidt_QR, A)\n",
    "    lib_Q, lib_R, lib_time = exec_QR(np.linalg.qr, A)\n",
    "    \n",
    "    print(\"My time: \" + str(my_time))\n",
    "    print(\"Lib time: \" + str(lib_time))\n",
    "    print(\"Time difference: \", abs(my_time - lib_time))\n",
    "    \n",
    "    print(\"A = QR => \", np.allclose(my_Q.dot(my_R), A))\n",
    "    \n",
    "    print(\"Lib Q = my Q => \", np.allclose(np.abs(my_Q), np.abs(lib_Q)))\n",
    "    print(\"Lib R = my R => \", np.allclose(np.abs(my_R), np.abs(lib_R)))\n",
    "    print(\"\")\n",
    "\n",
    "    return my_time, lib_time"
   ]
  },
  {
   "cell_type": "markdown",
   "metadata": {},
   "source": [
    "Funkcja ***test*** wywołuje funkcję ***test_gram_schmidt_QR*** dla różnych rozmiarów macierzy oraz tworzy wykres zależności czasu działania zaimplementowanej funkcji i funkcji bibliotecznej w zależności od rozmiaru macierzy."
   ]
  },
  {
   "cell_type": "code",
   "execution_count": 6,
   "metadata": {},
   "outputs": [
    {
     "name": "stdout",
     "output_type": "stream",
     "text": [
      "Matrix  50  x  50\n",
      "My time: 0.02891826629638672\n",
      "Lib time: 0.0029916763305664062\n",
      "Time difference:  0.025926589965820312\n",
      "A = QR =>  True\n",
      "Lib Q = my Q =>  True\n",
      "Lib R = my R =>  True\n",
      "\n",
      "Matrix  100  x  100\n",
      "My time: 0.05584573745727539\n",
      "Lib time: 0.000997304916381836\n",
      "Time difference:  0.054848432540893555\n",
      "A = QR =>  True\n",
      "Lib Q = my Q =>  True\n",
      "Lib R = my R =>  True\n",
      "\n",
      "Matrix  200  x  200\n",
      "My time: 0.27526164054870605\n",
      "Lib time: 0.001996278762817383\n",
      "Time difference:  0.27326536178588867\n",
      "A = QR =>  True\n",
      "Lib Q = my Q =>  True\n",
      "Lib R = my R =>  True\n",
      "\n",
      "Matrix  350  x  350\n",
      "My time: 0.7550113201141357\n",
      "Lib time: 0.006949186325073242\n",
      "Time difference:  0.7480621337890625\n",
      "A = QR =>  True\n",
      "Lib Q = my Q =>  True\n",
      "Lib R = my R =>  True\n",
      "\n",
      "Matrix  500  x  500\n",
      "My time: 1.8436648845672607\n",
      "Lib time: 0.01692509651184082\n",
      "Time difference:  1.82673978805542\n",
      "A = QR =>  True\n",
      "Lib Q = my Q =>  True\n",
      "Lib R = my R =>  True\n",
      "\n"
     ]
    },
    {
     "data": {
      "image/png": "[encoded data removed]",
      "text/plain": [
       "<Figure size 432x288 with 1 Axes>"
      ]
     },
     "metadata": {
      "needs_background": "light"
     },
     "output_type": "display_data"
    }
   ],
   "source": [
    "def test():\n",
    "    my_times = []\n",
    "    lib_times = []\n",
    "    sizes = [50, 100, 200, 350, 500]\n",
    "    for n in sizes:\n",
    "        my_time, lib_time = test_gram_schmidt_QR(n)\n",
    "        my_times.append(my_time)\n",
    "        lib_times.append(lib_time)\n",
    "    \n",
    "    plt.plot(sizes, my_times, label='my function')\n",
    "    plt.plot(sizes, lib_times, label='library function')\n",
    "    plt.legend()\n",
    "    plt.show()\n",
    "\n",
    "test()"
   ]
  },
  {
   "cell_type": "markdown",
   "metadata": {},
   "source": [
    "Jak widać powyżej zaimplementowana funkcja działa poprawnie, zwracając wyniki zgodne z wynikami funkcji bibliotecznej. Czas działania obu funkcji rośnie wraz ze zwiększaniem rozmiaru macierzy, jednak w przypadku funkcji bibliotecznej jest to prawie niezauważalna różnica. Zaimplementowana funkcja jest stosunkowo wolniejsza od funkcji bibliotecznej."
   ]
  },
  {
   "cell_type": "markdown",
   "metadata": {},
   "source": [
    "### 3. Wygeneruj 30-50 przykładowych macierzy 8 × 8 o różnym wskaźniku uwarunkowania $cond(A_i)$ (stosunek największej do najmniejszej wartości osobliwej). Wykorzystaj w tym celu SVD oraz biblioteczną funkcję realizujacą dekompozycję QR (potrzebne bedą dwie losowe macierze ortogonalne oraz diagonalna macierz odpowiednio szybko malejących wartości osobliwych)."
   ]
  },
  {
   "cell_type": "markdown",
   "metadata": {},
   "source": [
    "Funkcja ***generate_matrices*** generuje 50 macierzy 8 x 8 o różnym wskaźniku uwarunkowania $cond(A_i)$ używając SVD."
   ]
  },
  {
   "cell_type": "code",
   "execution_count": 7,
   "metadata": {},
   "outputs": [],
   "source": [
    "def generate_matrices():\n",
    "    conds = []\n",
    "    matrices = []\n",
    "    cond = 0\n",
    "    while cond < 50:\n",
    "        A = np.random.rand(8, 8)\n",
    "        U, S, VH = scipy.linalg.svd(A)\n",
    "        S[0] = S[-1] * np.random.randint(low=1e8, high=1e9)\n",
    "        if S[0] / S[-1] not in conds:\n",
    "            conds.append(S[0]/S[-1])\n",
    "            A = U @ np.diag(S) @ VH\n",
    "            matrices.append(A)\n",
    "            cond += 1\n",
    "    return matrices, conds"
   ]
  },
  {
   "cell_type": "code",
   "execution_count": 8,
   "metadata": {},
   "outputs": [],
   "source": [
    "matrices, conds = generate_matrices()"
   ]
  },
  {
   "cell_type": "markdown",
   "metadata": {},
   "source": [
    "### 4. Dla każdej z uzyskanych w ten sposób macierzy $A_i$ wyznacz faktoryzację QR korzystając z zaimplementowanej funkcji $(A_i = Q_iR_i)$. Przedstaw zależność $||I−Q_i^TQ_i||$ od $cond(A_i)$."
   ]
  },
  {
   "cell_type": "code",
   "execution_count": 9,
   "metadata": {},
   "outputs": [],
   "source": [
    "def factorization_matrices(matrices, conds):\n",
    "    I_QTQ = []\n",
    "    I = np.identity(8)\n",
    "    for matrix in matrices: \n",
    "        Q, R = gram_schmidt_QR(matrix)\n",
    "        I_QTQ.append(np.linalg.norm(abs(I - Q.T @ Q)))\n",
    "\n",
    "    plt.scatter(conds, I_QTQ)\n",
    "    plt.xlabel(\"conds\")\n",
    "    plt.ylabel(\"I - Q^TQ\")"
   ]
  },
  {
   "cell_type": "code",
   "execution_count": 10,
   "metadata": {},
   "outputs": [
    {
     "data": {
      "image/png": "[encoded data removed]",
      "text/plain": [
       "<Figure size 432x288 with 1 Axes>"
      ]
     },
     "metadata": {
      "needs_background": "light"
     },
     "output_type": "display_data"
    }
   ],
   "source": [
    "factorization_matrices(matrices, conds)"
   ]
  },
  {
   "cell_type": "markdown",
   "metadata": {},
   "source": [
    "### 5. Zinterpretuj wyniki. Jaka jest przyczyna uzyskanych rozbieżnosci? Od czego zalezy wielkość rozbieżności?"
   ]
  },
  {
   "cell_type": "markdown",
   "metadata": {},
   "source": [
    "Można zauważyć, że im wyższy jest wskaźnik uwarunkowania macierzy, tym większa staje się rozbieżność. \n",
    "Rozbieżność jest spowodowana niedokładnościami w obliczeniach numerycznych (zaokrągleniami do postaci zmiennopozycyjnej), co mogło wpłynąć na utratę ortogonalności macierzy *Q*."
   ]
  },
  {
   "cell_type": "markdown",
   "metadata": {},
   "source": [
    "## Zadanie 2 - rozwiązywanie układów równań metodą QR"
   ]
  },
  {
   "cell_type": "markdown",
   "metadata": {},
   "source": [
    "### Napisz funkcję rozwiązującą nadokreślony układ równań liniowych metodą QR korzystając z własności macierzy ortogonalnych: $A^T = A^{−1}$, a także z mechanizmu back substitution. Następnie wykorzystaj ją do rozwiązania problemu aproksymacji średniokwadratowej dla zbioru punktów podanego tabeli poniżej. Przyjmij model postaci: $$ f(x) = \\alpha_0 + \\alpha_1x + \\alpha_2x^2 $$ Przedstaw wizualizację uzyskanego wyniku (punkty oraz funkcja aproksymująca f).\n",
    "| x | -5 | -4 | -3 | -2| -1| 0| 1| 2| 3| 4| 5|\n",
    "| --|----|----|----|----|----|----|----|----|----|----|----|\n",
    "|y  | 2  | 7 | 9| 12 | 13 | 14 | 14 | 13 | 10| 8| 4|"
   ]
  },
  {
   "cell_type": "markdown",
   "metadata": {},
   "source": [
    "Funkcja ***solve_QR*** rozwiązuje układ równań w postaci $$Ax=B$$ korzystając z następujących przekształceń:\n",
    "$$ A^TAx = A^T B$$\n",
    "następnie obliczamy Q i R, takie że $$ A^TA = QR $$\n",
    "i podstawiamy do wcześniejszego równania\n",
    "$$ QRx = A^TB $$\n",
    "mnożymy przez macierz $Q^T$\n",
    "$$ Q^TQRx = Q^TA^TB$$\n",
    "a ponieważ $Q^TQ = I$, co wynika z ortogonalności macierzy Q, to mamy do rozwiązania:\n",
    "$$ Rx = Q^TA^TB$$"
   ]
  },
  {
   "cell_type": "code",
   "execution_count": 11,
   "metadata": {},
   "outputs": [],
   "source": [
    "def solve_QR(A, B):\n",
    "    B = A.T @ B\n",
    "    A = A.T @ A\n",
    "    Q, R = gram_schmidt_QR(A)\n",
    "    return scipy.linalg.solve_triangular(R, Q.T @ B)"
   ]
  },
  {
   "cell_type": "markdown",
   "metadata": {},
   "source": [
    "Funkcja ***find_approximation*** korzystając z powyższej funkcji ***solve_QR***, znajduje funkcję aproksymującą przechodzącą w pobliżu punktów znajdujących się w tabeli i przedstawia wizualizację tych punktów oraz znalezionej funkcji aproksymującej."
   ]
  },
  {
   "cell_type": "code",
   "execution_count": 12,
   "metadata": {},
   "outputs": [],
   "source": [
    "def find_approximation():\n",
    "    X = np.array([-5, -4, -3, -2, -1, 0, 1, 2, 3, 4, 5])\n",
    "    Y = np.array([2, 7, 9, 12, 13, 14, 14, 13, 10, 8, 4])\n",
    "    plt.scatter(X,Y)\n",
    "\n",
    "    A = np.array([[1, x_i, x_i**2] for x_i in X])\n",
    "    B = Y\n",
    "\n",
    "    print(\"A:\")\n",
    "    print(A)\n",
    "    print(\"B: \")\n",
    "    print(B)\n",
    "\n",
    "    x = [a_0, a_1, a_2] = solve_QR(A, B)\n",
    "\n",
    "    result = [a_0 + a_1 * x_i + a_2 * x_i**2 for x_i in X]\n",
    "    plt.plot(X, result)\n",
    "    plt.show()"
   ]
  },
  {
   "cell_type": "code",
   "execution_count": 13,
   "metadata": {},
   "outputs": [
    {
     "name": "stdout",
     "output_type": "stream",
     "text": [
      "A:\n",
      "[[ 1 -5 25]\n",
      " [ 1 -4 16]\n",
      " [ 1 -3  9]\n",
      " [ 1 -2  4]\n",
      " [ 1 -1  1]\n",
      " [ 1  0  0]\n",
      " [ 1  1  1]\n",
      " [ 1  2  4]\n",
      " [ 1  3  9]\n",
      " [ 1  4 16]\n",
      " [ 1  5 25]]\n",
      "B: \n",
      "[ 2  7  9 12 13 14 14 13 10  8  4]\n"
     ]
    },
    {
     "data": {
      "image/png": "[encoded data removed]",
      "text/plain": [
       "<Figure size 432x288 with 1 Axes>"
      ]
     },
     "metadata": {
      "needs_background": "light"
     },
     "output_type": "display_data"
    }
   ],
   "source": [
    "find_approximation()"
   ]
  },
  {
   "cell_type": "markdown",
   "metadata": {},
   "source": [
    "## Wnioski:\n",
    "* Jak widać aproksymacja funkcji wykorzystująca metodę QR działa zadowalająco. Funkcja aproksymująca przechodzi przez zadane punkty lub jest w ich pobliżu.\n",
    "* Zastosowanie metody QR pozwala na rozwiązanie układu równań w szybkim czasie. R jest macierzą trójkątną górną, co umożlwia użycie *back substitution*.\n",
    "* Na bazie rozkładu QR możliwa jest realizacja metody najmniejszych kwadratów oraz różnych metod rozwiązywania układów równań liniowych. Oprócz metody Grama-Schmidta istnieje transformacja Householdera, pozwalająca na znalezienie rozkładu QR dowolnej macierzy prostokątnej."
   ]
  }
 ],
 "metadata": {
  "kernelspec": {
   "display_name": "Python 3",
   "language": "python",
   "name": "python3"
  },
  "language_info": {
   "codemirror_mode": {
    "name": "ipython",
    "version": 3
   },
   "file_extension": ".py",
   "mimetype": "text/x-python",
   "name": "python",
   "nbconvert_exporter": "python",
   "pygments_lexer": "ipython3",
   "version": "3.7.6"
  }
 },
 "nbformat": 4,
 "nbformat_minor": 1
}
