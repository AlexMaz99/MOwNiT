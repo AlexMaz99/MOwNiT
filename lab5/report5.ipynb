{
 "cells": [
  {
   "cell_type": "markdown",
   "source": [
    "# Laboratorium 5 - Równania nieliniowe"
   ],
   "metadata": {
    "collapsed": false
   }
  },
  {
   "cell_type": "markdown",
   "source": [
    "##### Aleksandra Mazur"
   ],
   "metadata": {
    "collapsed": false
   }
  },
  {
   "cell_type": "markdown",
   "source": [
    "## Funkcje do testów"
   ],
   "metadata": {
    "collapsed": false
   }
  },
  {
   "cell_type": "code",
   "execution_count": null,
   "outputs": [],
   "source": [
    "from mpmath import mp, plot\n",
    "from matplotlib import pyplot as plt\n",
    "import numpy as np"
   ],
   "metadata": {
    "collapsed": false,
    "pycharm": {
     "name": "#%%\n"
    }
   }
  },
  {
   "cell_type": "markdown",
   "source": [
    "**$$f_1(x) = cos(x)cosh(x) - 1, x \\in [\\frac{3}{2}\\pi, 2\\pi]$$** "
   ],
   "metadata": {
    "collapsed": false
   }
  },
  {
   "cell_type": "code",
   "execution_count": null,
   "outputs": [],
   "source": [
    "def f1(x):\n",
    "    return mp.cos(x) * mp.cosh(x) - 1\n",
    "def d_f1(x):\n",
    "    return mp.cos(x) * mp.sinh(x) - mp.sin(x) * mp.cosh(x)\n",
    "domain_f1 = [1.5 * mp.pi, 2 * mp.pi]"
   ],
   "metadata": {
    "collapsed": false,
    "pycharm": {
     "name": "#%%\n"
    }
   }
  },
  {
   "cell_type": "code",
   "execution_count": null,
   "outputs": [],
   "source": [
    "plot(f1, xlim = domain_f1)"
   ],
   "metadata": {
    "collapsed": false,
    "pycharm": {
     "name": "#%%\n"
    }
   }
  },
  {
   "cell_type": "markdown",
   "source": [
    "**$$f_2(x) = \\frac{1}{x} - tan(x), x \\in [0, \\frac{\\pi}{2}]$$** "
   ],
   "metadata": {
    "collapsed": false
   }
  },
  {
   "cell_type": "code",
   "execution_count": null,
   "outputs": [],
   "source": [
    "def f2(x):\n",
    "    return 1/x - mp.tan(x)\n",
    "def d_f2(x):\n",
    "    return -1 / x ** 2 - mp.sec(x) ** 2\n",
    "domain_f2 = [1e-7, mp.pi / 2]"
   ],
   "metadata": {
    "collapsed": false,
    "pycharm": {
     "name": "#%%\n"
    }
   }
  },
  {
   "cell_type": "markdown",
   "source": [
    "Przedział $[0, \\frac{\\pi}{2}],$ zastąpiono przedziałem $[10^{-7}, \\frac{\\pi}{2}],$  ponieważ 0 nie należy do dziedziny funkcji."
   ],
   "metadata": {
    "collapsed": false
   }
  },
  {
   "cell_type": "code",
   "execution_count": null,
   "outputs": [],
   "source": [
    "plot(f2, xlim = [0, mp.pi/2], ylim = [-10, 10])"
   ],
   "metadata": {
    "collapsed": false,
    "pycharm": {
     "name": "#%%\n"
    }
   }
  },
  {
   "cell_type": "markdown",
   "source": [
    "**$$f_3(x) = 2^{-x} + e^x + 2cos(x), x \\in [1, 3]$$** "
   ],
   "metadata": {
    "collapsed": false
   }
  },
  {
   "cell_type": "code",
   "execution_count": null,
   "outputs": [],
   "source": [
    "def f3(x):\n",
    "    return 2 ** (-x) + mp.e ** x + 2 * mp.cos(x) - 6\n",
    "def d_f3(x):\n",
    "    return mp.e ** x - 2 ** (-x) * mp.log(2) - 2 * mp.sin(x)\n",
    "domain_f3 = [1, 3]"
   ],
   "metadata": {
    "collapsed": false,
    "pycharm": {
     "name": "#%%\n"
    }
   }
  },
  {
   "cell_type": "code",
   "execution_count": null,
   "outputs": [],
   "source": [
    "plot(f3, xlim = domain_f3)"
   ],
   "metadata": {
    "collapsed": false,
    "pycharm": {
     "name": "#%%\n"
    }
   }
  },
  {
   "cell_type": "markdown",
   "source": [
    "## Zadanie 1 Metoda bisekcji"
   ],
   "metadata": {
    "collapsed": false
   }
  },
  {
   "cell_type": "markdown",
   "source": [
    "Metoda bisekcji, zwana też metodą równego podziału to jedna z metod rozwiązywania równań nieliniowych, polegająca na cyklicznym połowieniu zadanego z góry przedziału (w którym znajduje się pierwiastek) aż do osiągnięcia zadanej dokładności."
   ],
   "metadata": {
    "collapsed": false
   }
  },
  {
   "cell_type": "markdown",
   "source": [
    "Opiera się ona na **twierdzeniu Bolzana-Cauchy'ego**, które brzmi następująco:"
   ],
   "metadata": {
    "collapsed": false
   }
  },
  {
   "cell_type": "markdown",
   "source": [
    "*Jeżeli funkcja ciągła f(x) ma na końcach przedziału domkniętego wartości różnych znaków, to wewnątrz tego przedziału, istnieje co najmniej jeden pierwiastek równania f(x)=0.*"
   ],
   "metadata": {
    "collapsed": false
   }
  },
  {
   "cell_type": "markdown",
   "source": [
    "Aby można było zastosować metodę bisekcji, muszą być spełnione poniższe założenia:\n",
    "* funkcja f(x) jest ciągła w przedziale domkniętym [a, b]\n",
    "* funkcja przyjmuje różne znaki na końcach przedziału: f(a)f(b) < 0"
   ],
   "metadata": {
    "collapsed": false
   }
  },
  {
   "cell_type": "code",
   "execution_count": null,
   "outputs": [],
   "source": [
    "def bisection(f, domain, eps, precision):\n",
    "    mp.dps = precision\n",
    "    a = mp.mpf(domain[0])\n",
    "    b = mp.mpf(domain[1])\n",
    "\n",
    "    if f(a) * f(b) > 0:\n",
    "        print(\"W podanym przedziale nie ma pierwiastka.\")\n",
    "        return\n",
    "    \n",
    "    if a > b:\n",
    "        a, b = b, a\n",
    "    mid = a\n",
    "    i = 0\n",
    "    \n",
    "    while (b - a) >= eps:\n",
    "        i += 1\n",
    "        mid = (a + b)/2\n",
    "        if f(mid) == 0:\n",
    "            break\n",
    "        if f(mid) * f(b) < 0:\n",
    "            a = mid\n",
    "        else:\n",
    "            b = mid\n",
    "    \n",
    "    return mid, f(mid), i"
   ],
   "metadata": {
    "collapsed": false,
    "pycharm": {
     "name": "#%%\n"
    }
   }
  },
  {
   "cell_type": "code",
   "execution_count": null,
   "outputs": [],
   "source": [
    "def show_bisection_result(f, domain):\n",
    "    for (eps, precision) in [(1e-7, 7), (1e-15, 15), (1e-33, 33)]:\n",
    "        print(\"Dokładność: \", eps, \"       Precyzja: \", precision)\n",
    "        x_0, fx_0, i = bisection(f, domain, eps, precision)\n",
    "        print(\"x_0 = \", x_0, \" f(x_0) = \", fx_0)\n",
    "        print(\"Liczba iteracji: \", i, \"\\n\")"
   ],
   "metadata": {
    "collapsed": false,
    "pycharm": {
     "name": "#%%\n"
    }
   }
  },
  {
   "cell_type": "markdown",
   "source": [
    "#### Dla funkcji  *$$f_1(x) = cos(x)cosh(x) - 1$$*"
   ],
   "metadata": {
    "collapsed": false
   }
  },
  {
   "cell_type": "code",
   "execution_count": null,
   "outputs": [],
   "source": [
    "show_bisection_result(f1, domain_f1)"
   ],
   "metadata": {
    "collapsed": false,
    "pycharm": {
     "name": "#%%\n"
    }
   }
  },
  {
   "cell_type": "markdown",
   "source": [
    "#### Dla funkcji  *$$f_2(x) = \\frac{1}{x} - tan(x)$$*"
   ],
   "metadata": {
    "collapsed": false
   }
  },
  {
   "cell_type": "code",
   "execution_count": null,
   "outputs": [],
   "source": [
    "show_bisection_result(f2, domain_f2)"
   ],
   "metadata": {
    "collapsed": false,
    "pycharm": {
     "name": "#%%\n"
    }
   }
  },
  {
   "cell_type": "markdown",
   "source": [
    "#### Dla funkcji  *$$f_3(x) = 2^{-x} + e^x + 2cos(x)$$*"
   ],
   "metadata": {
    "collapsed": false
   }
  },
  {
   "cell_type": "code",
   "execution_count": null,
   "outputs": [],
   "source": [
    "show_bisection_result(f3, domain_f3)"
   ],
   "metadata": {
    "collapsed": false,
    "pycharm": {
     "name": "#%%\n"
    }
   }
  },
  {
   "cell_type": "markdown",
   "source": [
    "### Wyniki:\n",
    "\n",
    "Liczby iteracji dla poszczególnych funkcji i bezwzględnych dokładności:\n",
    "\n",
    "|           | $f_1$  |  $f_2$ |  $f_3$ |\n",
    "|-----------|--------|--------|--------|\n",
    "| $10^{-7}$ |    25  |    24  |    25  |\n",
    "| $10^{-15}$|    51  |     51 |     51 |\n",
    "| $10^{-33}$|    111 |    111 |    111 |"
   ],
   "metadata": {
    "collapsed": false
   }
  },
  {
   "cell_type": "markdown",
   "source": [
    "### Wnioski:\n",
    "* Dla bezwzględnej dokładności $10^{-7}$ potrzeba 24/25 operacji.\n",
    "* Dla bezwzględnych dokładności $10^{-15}$, $10^{-33}$ potrzeba odpowiednio 51 i 111 operacji.\n",
    "* Najmniej operacji wymaga znalezienie miejsc zerowych z dokładnością $10^{-7}$.\n",
    "* Liczba operacji dla każdej funkcji rośnie wraz ze zwiększaniem dokładności.\n",
    "* Można przypuszczać, że liczba operacji nie zależy od funkcji, a jedynie od dokładności wyniku.\n",
    "* Faktyczne miejsce zerowe (f(x) = 0) udało się osiągnąć tylko w jednym przypadku - dla funkcji $f_3$ i dokładności $10^{-33}$.\n",
    "* Metoda ta pozwala na wyznaczenie miejsca zerowego funkcji w umiarkowanym czasie."
   ],
   "metadata": {
    "collapsed": false
   }
  },
  {
   "cell_type": "markdown",
   "source": [
    "### W jaki sposób możemy obliczyć k pierwszych dodatnich pierwiastków funkcji $f_1(x)$?\n",
    "\n",
    "Powyższy problem można rozwiązać powtarzając k razy poniższe kroki:\n",
    "* wybrać pewne nieduże *s*, które będzie końcem przedziału (w pierwszym kroku: [0, s], x_0 = 0, x_1 = s)\n",
    "* zwiększać wartość s, dopóki nie będzie spełniony warunek, że iloczyn wartości funkcji na krańcach przedziału jest mniejszy od 0, tzn. **f(x_0)f(x_1) < 0** (co jest jednoznaczne z istnieniem pierwiastka w danym przedziale)\n",
    "* używając metody bisekcji znaleźć pierwiastek w zadanym przedziale\n",
    "* jako początek nowego przedziału ustalić koniec poprzedniego\n",
    "\n",
    "Powodzenie tej metody będzie zależało od właściwego dobrania wartości s. Jeżeli wartość ta będzie za mała, to program będzie wolno działał, a jeżeli będzie za duża - niektóre pierwiastki mogą zostać pominięte."
   ],
   "metadata": {
    "collapsed": false
   }
  },
  {
   "cell_type": "markdown",
   "source": [
    "## Zadanie 2 Metoda Newtona"
   ],
   "metadata": {
    "collapsed": false
   }
  },
  {
   "cell_type": "markdown",
   "source": [
    "Metoda Newtona jest również znana metodą Newtona-Raphsona lub metodą stycznych. Pozwala ona obliczyć miejsca zerowe funkcji nieliniowych w przedziałach."
   ],
   "metadata": {
    "collapsed": false
   }
  },
  {
   "cell_type": "markdown",
   "source": [
    "Funkcja ta jednak musi spełniać następujące warunki:\n",
    "* funkcja f oraz jej pierwsza i druga pochodna są ciągłe w badanym przedziale [a,b]\n",
    "* wewnątrz przedziału [a,b] znajduje się dokładnie jeden pierwiastek\n",
    "* f(a) * f(b) < 0\n",
    "* pierwsza i druga pochodna mają stały znak w badanym przedziale [a,b]"
   ],
   "metadata": {
    "collapsed": false
   }
  },
  {
   "cell_type": "markdown",
   "source": [
    "Zaczynając od punktu startowego (wybranego przeze mnie) $$x = \\frac{a+b}{2}$$ metoda Newtona wykorzystuje poniższą formułę do znalezienia następnej wartości: $$ x_{n+1} = x_n - \\frac{f(x_n)}{f'(x_n)}$$"
   ],
   "metadata": {
    "collapsed": false
   }
  },
  {
   "cell_type": "code",
   "execution_count": null,
   "outputs": [],
   "source": [
    "def newton(f, df, domain, eps, precision, iterations):\n",
    "    mp.dps = precision\n",
    "    i = 0\n",
    "    x = mp.mpf((mp.mpf(domain[1]) + mp.mpf(domain[0])) / 2)\n",
    "    h = f(x) / df(x)\n",
    "    \n",
    "    while abs (h) >= eps and i < iterations:\n",
    "        i += 1\n",
    "        h = f(x) / df(x)\n",
    "        x = x - h\n",
    "\n",
    "    return x, f(x), i"
   ],
   "metadata": {
    "collapsed": false,
    "pycharm": {
     "name": "#%%\n"
    }
   }
  },
  {
   "cell_type": "code",
   "execution_count": null,
   "outputs": [],
   "source": [
    "def show_newton_result(f, df, domain):\n",
    "    for (eps, precision) in [(1e-7, 7), (1e-15, 15), (1e-33, 33)]:\n",
    "        print(\"Dokładność: \", eps, \"       Precyzja: \", precision)\n",
    "        x_0, fx_0, i = newton(f, df, domain, eps, precision, 1000)\n",
    "        print(\"x_0 = \", x_0, \" f(x_0) = \", fx_0)\n",
    "        print(\"Liczba iteracji: \", i, \"\\n\")"
   ],
   "metadata": {
    "collapsed": false,
    "pycharm": {
     "name": "#%%\n"
    }
   }
  },
  {
   "cell_type": "markdown",
   "source": [
    "#### Dla funkcji  *$$f_1(x) = cos(x)cosh(x) - 1$$*"
   ],
   "metadata": {
    "collapsed": false
   }
  },
  {
   "cell_type": "code",
   "execution_count": null,
   "outputs": [],
   "source": [
    "show_newton_result(f1, d_f1, domain_f1)"
   ],
   "metadata": {
    "collapsed": false,
    "pycharm": {
     "name": "#%%\n"
    }
   }
  },
  {
   "cell_type": "markdown",
   "source": [
    "#### Dla funkcji  *$$f_2(x) = \\frac{1}{x} - tan(x)$$*"
   ],
   "metadata": {
    "collapsed": false
   }
  },
  {
   "cell_type": "code",
   "execution_count": null,
   "outputs": [],
   "source": [
    "show_newton_result(f2, d_f2, domain_f2)"
   ],
   "metadata": {
    "collapsed": false,
    "pycharm": {
     "name": "#%%\n"
    }
   }
  },
  {
   "cell_type": "markdown",
   "source": [
    "#### Dla funkcji  *$$f_3(x) = 2^{-x} + e^x + 2cos(x)$$*"
   ],
   "metadata": {
    "collapsed": false
   }
  },
  {
   "cell_type": "code",
   "execution_count": null,
   "outputs": [],
   "source": [
    "show_newton_result(f3, d_f3, domain_f3)"
   ],
   "metadata": {
    "collapsed": false,
    "pycharm": {
     "name": "#%%\n"
    }
   }
  },
  {
   "cell_type": "markdown",
   "source": [
    "### Wyniki:\n",
    "\n",
    "Liczby iteracji dla poszczególnych funkcji i bezwzględnych dokładności:\n",
    "\n",
    "Metoda Newtona:\n",
    "\n",
    "|           | $f_1$  |  $f_2$ |  $f_3$ |\n",
    "|-----------|--------|--------|--------|\n",
    "| $10^{-7}$ |    6   |    3   |    5   |\n",
    "| $10^{-15}$|    7   |     5  |     6  |\n",
    "| $10^{-33}$|    8   |    6   |    7   |"
   ],
   "metadata": {
    "collapsed": false
   }
  },
  {
   "cell_type": "markdown",
   "source": [
    "### Wnioski:\n",
    "* Najmniej operacji wymaga znalezienie miejsc zerowych z dokładnością $10^{-7}$.\n",
    "* Liczba operacji dla każdej funkcji rośnie wraz ze zwiększaniem dokładności.\n",
    "* Funkcja $f_2$ w porównaniu z pozostałymi wymaga najmniejszej liczby operacji dla każdej dokładności, a funkcja $f_1$ - największej.\n",
    "* Faktyczne miejsce zerowe (f(x) = 0) udało się osiągnąć w 5 przypadkach: dla funkcji $f_2$ o dokładnościach $10^{-7}$, $10^{-15}$ oraz dla funkcji $f_3$ w każdym przypadku.\n",
    "* Metoda ta pozwala na wyznaczenie miejsca zerowego w szybkim czasie."
   ],
   "metadata": {
    "collapsed": false
   }
  },
  {
   "cell_type": "markdown",
   "source": [
    "### Porównanie dotychczasowych metod:\n",
    "\n",
    "Metoda bisekcji:\n",
    "\n",
    "|           | $f_1$  |  $f_2$ |  $f_3$ |\n",
    "|-----------|--------|--------|--------|\n",
    "| $10^{-7}$ |    25  |    24  |    25  |\n",
    "| $10^{-15}$|    51  |     51 |     51 |\n",
    "| $10^{-33}$|    111 |    111 |    111 |\n",
    "\n",
    "Metoda Newtona:\n",
    "\n",
    "|           | $f_1$  |  $f_2$ |  $f_3$ |\n",
    "|-----------|--------|--------|--------|\n",
    "| $10^{-7}$ |    6   |    3   |    5   |\n",
    "| $10^{-15}$|    7   |     5  |     6  |\n",
    "| $10^{-33}$|    8   |    6   |    7   |\n",
    "\n",
    "\n",
    "* Metoda Newtona w każdym przypadku wymaga znacznie mniejszej liczby iteracji niż metoda bisekcji.\n",
    "* Metoda Newtona wymaga znajomości pochodnej funkcji w przeciwieństwie do metody bisekcji.\n",
    "* Metoda Newtona osiąga różne wartości operacji dla danej dokładności w zależności od funkcji, podczas gdy w metodzie bisekcji liczby operacji dla danej dokładności są niemal identyczne (oprócz jednej dokładności = $10^{-7}$)."
   ],
   "metadata": {
    "collapsed": false
   }
  },
  {
   "cell_type": "markdown",
   "source": [
    "## Zadanie 3 Metoda siecznych"
   ],
   "metadata": {
    "collapsed": false
   }
  },
  {
   "cell_type": "markdown",
   "source": [
    "Metoda ta służy do tego samego celu, co poprzednie. Polega na przyjęciu, że dana funkcja ciągła na dostatecznie małym odcinku w przybliżeniu zmienia się w sposób liniowy. Można wtedy na odcinku [a, b] krzywą y = f(x) zastąpić sieczną. Za przybliżoną wartość pierwiastka przyjmuje się punkt przecięcia siecznej z osią OX.\n",
    "\n",
    "Aby skorzystać z metody siecznych funkcja musi spełniać następujące warunki:\n",
    "* funkcja f oraz jej pierwsza i druga pochodna są ciągłe w badanym przedziale [a, b]\n",
    "* wewnątrz przedziału [a, b] znajduje się dokładnie jeden pierwiastek\n",
    "* pierwsza i druga pochodna mają stały znak w badanym przedziale [a, b]"
   ],
   "metadata": {
    "collapsed": false
   }
  },
  {
   "cell_type": "markdown",
   "source": [
    "Metodę siecznych dla funkcji **f(x)**, mającej pierwiastek w przedziale **[a, b]** można zapisać następującym wzorem rekurencyjnym:\n",
    "$$\\begin{cases}\n",
    "x_0 = a\\\\\n",
    "x_1 = b\\\\\n",
    "x_{n+1} = \\frac{f(x_n) * x_{n-1} - f(x_{n-1}) * x_n} {f(x_n) - f(x_{n-1})} \\end{cases}$$"
   ],
   "metadata": {
    "collapsed": false
   }
  },
  {
   "cell_type": "code",
   "execution_count": null,
   "outputs": [],
   "source": [
    "def secant(f, domain, eps, precision, iterations):\n",
    "    mp.dps = precision\n",
    "    x_0 = mp.mpf(domain[0])\n",
    "    x_1 = mp.mpf(domain[1])\n",
    "    i = 0\n",
    "    \n",
    "    while abs(x_1 - x_0) > eps and i < iterations:\n",
    "        i += 1\n",
    "        x_2 = (x_0 * f(x_1) - x_1 * f(x_0)) / (f(x_1) - f(x_0))\n",
    "        x_0, x_1 = x_1, x_2\n",
    "        \n",
    "    return x_1, f(x_1), i"
   ],
   "metadata": {
    "collapsed": false,
    "pycharm": {
     "name": "#%%\n"
    }
   }
  },
  {
   "cell_type": "code",
   "execution_count": null,
   "outputs": [],
   "source": [
    "def show_secant_result(f, domain):\n",
    "    for (eps, precision) in [(1e-7, 7), (1e-15, 15), (1e-33, 33)]:\n",
    "        print(\"Dokładność: \", eps, \"       Precyzja: \", precision)\n",
    "        x_0, fx_0, i = secant(f, domain, eps, precision, 1000)\n",
    "        print(\"x_0 = \", x_0, \" f(x_0) = \", fx_0)\n",
    "        print(\"Liczba iteracji: \", i, \"\\n\")"
   ],
   "metadata": {
    "collapsed": false,
    "pycharm": {
     "name": "#%%\n"
    }
   }
  },
  {
   "cell_type": "markdown",
   "source": [
    "#### Dla funkcji  *$$f_1(x) = cos(x)cosh(x) - 1$$*"
   ],
   "metadata": {
    "collapsed": false
   }
  },
  {
   "cell_type": "code",
   "execution_count": null,
   "outputs": [],
   "source": [
    "show_secant_result(f1, domain_f1)"
   ],
   "metadata": {
    "collapsed": false,
    "pycharm": {
     "name": "#%%\n"
    }
   }
  },
  {
   "cell_type": "markdown",
   "source": [
    "#### Dla funkcji  *$$f_2(x) = \\frac{1}{x} - tan(x)$$*"
   ],
   "metadata": {
    "collapsed": false
   }
  },
  {
   "cell_type": "code",
   "execution_count": null,
   "outputs": [],
   "source": [
    "show_secant_result(f2, domain_f2)"
   ],
   "metadata": {
    "collapsed": false,
    "pycharm": {
     "name": "#%%\n"
    }
   }
  },
  {
   "cell_type": "markdown",
   "source": [
    "#### Dla funkcji  *$$f_3(x) = 2^{-x} + e^x + 2cos(x)$$*"
   ],
   "metadata": {
    "collapsed": false
   }
  },
  {
   "cell_type": "code",
   "execution_count": null,
   "outputs": [],
   "source": [
    "show_secant_result(f3, domain_f3)"
   ],
   "metadata": {
    "collapsed": false,
    "pycharm": {
     "name": "#%%\n"
    }
   }
  },
  {
   "cell_type": "markdown",
   "source": [
    "### Wyniki:\n",
    "\n",
    "Liczby iteracji dla poszczególnych funkcji i bezwzględnych dokładności:\n",
    "\n",
    "Metoda siecznych:\n",
    "\n",
    "|   Dokładność       | $f_1$  |  $f_2$ |  $f_3$ |\n",
    "|-----------|--------|--------|--------|\n",
    "| $10^{-7}$ |    6   |    15  |   10   |\n",
    "| $10^{-15}$|    7   |    41  |   11   |\n",
    "| $10^{-33}$|    9   |    43  |   13   |"
   ],
   "metadata": {
    "collapsed": false
   }
  },
  {
   "cell_type": "markdown",
   "source": [
    "### Wnioski:\n",
    "* Najmniej operacji wymaga znalezienie miejsc zerowych z dokładnością $10^{-7}$.\n",
    "* Liczba operacji dla każdej funkcji rośnie wraz ze zwiększaniem dokładności.\n",
    "* Funkcja $f_2$ w porównaniu z pozostałymi wymaga największej liczby operacji dla każdej dokładności, a funkcja $f_1$ - najmniejszej (w przeciwieństwie do metody Newtona).\n",
    "* Faktyczne miejsce zerowe (f(x) = 0) udało się osiągnąć w 4 przypadkach: dla funkcji $f_2$ o dokładnościach $10^{-7}$, $10^{-15}$ oraz dla funkcji $f_3$ i dokładnościach $10^{-15}$, $10^{-33}$.\n",
    "* Metoda ta pozwala na wyznaczenie miejsca zerowego funkcji w zadowalającym czasie."
   ],
   "metadata": {
    "collapsed": false
   }
  },
  {
   "cell_type": "markdown",
   "source": [
    "## Podsumowanie wszystkich metod:\n",
    "\n",
    "Dokładność $10^{-7}$:\n",
    "\n",
    "|    Metoda | $f_1$  |  $f_2$ |  $f_3$ |\n",
    "|-----------|--------|--------|--------|\n",
    "| bisekcji  |    25  |    24  |    25  |\n",
    "| Newtona   |    6   |     3  |     5  |\n",
    "| siecznych |    6   |    15  |    10  |\n",
    "\n",
    "Dokładność $10^{-15}$:\n",
    "\n",
    "|    Metoda | $f_1$  |  $f_2$ |  $f_3$ |\n",
    "|-----------|--------|--------|--------|\n",
    "| bisekcji  |    51  |     51 |     51 |\n",
    "| Newtona   |    7   |     5  |     6  |\n",
    "| siecznych |    7   |    41  |   11   |\n",
    "\n",
    "Dokładność $10^{-33}$:\n",
    "\n",
    "|    Metoda | $f_1$  |  $f_2$ |  $f_3$ |\n",
    "|-----------|--------|--------|--------|\n",
    "| bisekcji  |    111 |    111 |    111 |\n",
    "| Newtona   |    8   |    6   |    7   |\n",
    "| siecznych |    9   |    43  |   13   |"
   ],
   "metadata": {
    "collapsed": false
   }
  },
  {
   "cell_type": "markdown",
   "source": [
    "## Wnioski:\n",
    "* Metoda bisekcji jest najprostsza do zrozumienia oraz napisania.\n",
    "* Najszybciej zbieżna jest metoda Newtona, a najwolniej - metoda bisekcji.\n",
    "* Metoda Newtona w przeciwieństwie do innych, wymaga znajomości pochodnej funkcji.\n",
    "* Wadą metody Newtona jest fakt, że zbieżność nie musi zawsze zachodzić. W wielu przypadkach metoda bywa rozbieżna, kiedy punkt startowy jest zbyt daleko od szukanego pierwiastka.\n",
    "* Metoda siecznych ma tę zaletę, że do wykonania interpolacji za jej pomocą niepotrzebna jest znajomość pochodnej funkcji, jednak metoda ta nie zawsze jest zbieżna.\n",
    "* Dla zbieżności metody bisekcji wystarcza jedynie ciągłość funkcji, a długości badanych przedziałów mogą być bardzo duże.\n",
    "* Wszystkie powyższe metody są przydatne przy szukaniu miejsca zerowego w zadanym przedziale. Najlepiej korzystać z metody Newtona lub siecznych, a gdy te zawiodą należy użyć metody bisekcji."
   ],
   "metadata": {
    "collapsed": false
   }
  }
 ],
 "metadata": {
  "kernelspec": {
   "display_name": "Python 3",
   "language": "python",
   "name": "python3"
  },
  "language_info": {
   "codemirror_mode": {
    "name": "ipython",
    "version": 3
   },
   "file_extension": ".py",
   "mimetype": "text/x-python",
   "name": "python",
   "nbconvert_exporter": "python",
   "pygments_lexer": "ipython3",
   "version": "3.7.6"
  },
  "pycharm": {
   "stem_cell": {
    "cell_type": "raw",
    "source": [],
    "metadata": {
     "collapsed": false
    }
   }
  }
 },
 "nbformat": 4,
 "nbformat_minor": 1
}