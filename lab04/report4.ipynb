{
 "cells": [
  {
   "cell_type": "markdown",
   "metadata": {
    "collapsed": true
   },
   "source": [
    "# Laboratorium 4 - Singular Value Decomposition"
   ]
  },
  {
   "cell_type": "markdown",
   "metadata": {},
   "source": [
    "##### Aleksandra Mazur"
   ]
  },
  {
   "cell_type": "markdown",
   "metadata": {},
   "source": [
    "## Zadanie 1 Wyszukiwarka"
   ]
  },
  {
   "cell_type": "markdown",
   "metadata": {},
   "source": [
    "### 1. Przygotuj duży (> 1000 elementów) zbiór dokumentów tekstowych w języku angielskim (np. wybrany korpus tekstów, podzbiór artykułów Wikipedii, zbiór dokumentów HTML uzyskanych za pomoca Web crawlera, zbiór rozdziałów wyciętych z różnych książek)."
   ]
  },
  {
   "cell_type": "markdown",
   "metadata": {},
   "source": [
    "Ze strony https://ebible.org/find/details.php?id=eng-web&all=1 pobrano zbiór dokumentów tekstowych w języku angielskim, liczący 1100 plików."
   ]
  },
  {
   "cell_type": "markdown",
   "metadata": {},
   "source": [
    "Poniżej przedstawiono kilka przykładowych plików."
   ]
  },
  {
   "cell_type": "code",
   "execution_count": 1,
   "metadata": {},
   "outputs": [],
   "source": [
    "import numpy as np\n",
    "import os\n",
    "import io\n",
    "\n",
    "files = os.listdir('documents/')"
   ]
  },
  {
   "cell_type": "code",
   "execution_count": 2,
   "metadata": {},
   "outputs": [],
   "source": [
    "def show_two_files(files):\n",
    "    i = 0\n",
    "    for file in files:\n",
    "        f = io.open('documents/' + file, encoding=\"utf8\")\n",
    "        text_from_file = f.read()\n",
    "        print(\"File number: \", i)\n",
    "        print(text_from_file)\n",
    "        i += 1\n",
    "        if i == 2:\n",
    "            break"
   ]
  },
  {
   "cell_type": "code",
   "execution_count": 3,
   "metadata": {},
   "outputs": [
    {
     "name": "stdout",
     "output_type": "stream",
     "text": [
      "File number:  0\n",
      "﻿This set of files contains a script of canonical text, chapter by chapter,\n",
      "for the purpose of reading to make an audio recording.\n",
      "All footnotes, introductions, and verse numbers have been stripped out.\n",
      "\n",
      "\n",
      "File number:  1\n",
      "﻿The First Book of Moses, Commonly Called Genesis.\n",
      "Chapter 1.\n",
      "In the beginning, God created the heavens and the earth. \n",
      "The earth was formless and empty. Darkness was on the surface of the deep and God’s Spirit was hovering over the surface of the waters. \n",
      "God said, “Let there be light,” and there was light. \n",
      "God saw the light, and saw that it was good. God divided the light from the darkness. \n",
      "God called the light “day”, and the darkness he called “night”. There was evening and there was morning, the first day. \n",
      "God said, “Let there be an expanse in the middle of the waters, and let it divide the waters from the waters.” \n",
      "God made the expanse, and divided the waters which were under the expanse from the waters which were above the expanse; and it was so. \n",
      "God called the expanse “sky”. There was evening and there was morning, a second day. \n",
      "God said, “Let the waters under the sky be gathered together to one place, and let the dry land appear;” and it was so. \n",
      "God called the dry land “earth”, and the gathering together of the waters he called “seas”. God saw that it was good. \n",
      "God said, “Let the earth yield grass, herbs yielding seeds, and fruit trees bearing fruit after their kind, with their seeds in it, on the earth;” and it was so. \n",
      "The earth yielded grass, herbs yielding seed after their kind, and trees bearing fruit, with their seeds in it, after their kind; and God saw that it was good. \n",
      "There was evening and there was morning, a third day. \n",
      "God said, “Let there be lights in the expanse of the sky to divide the day from the night; and let them be for signs to mark seasons, days, and years; \n",
      "and let them be for lights in the expanse of the sky to give light on the earth;” and it was so. \n",
      "God made the two great lights: the greater light to rule the day, and the lesser light to rule the night. He also made the stars. \n",
      "God set them in the expanse of the sky to give light to the earth, \n",
      "and to rule over the day and over the night, and to divide the light from the darkness. God saw that it was good. \n",
      "There was evening and there was morning, a fourth day. \n",
      "God said, “Let the waters abound with living creatures, and let birds fly above the earth in the open expanse of the sky.” \n",
      "God created the large sea creatures and every living creature that moves, with which the waters swarmed, after their kind, and every winged bird after its kind. God saw that it was good. \n",
      "God blessed them, saying, “Be fruitful, and multiply, and fill the waters in the seas, and let birds multiply on the earth.” \n",
      "There was evening and there was morning, a fifth day. \n",
      "God said, “Let the earth produce living creatures after their kind, livestock, creeping things, and animals of the earth after their kind;” and it was so. \n",
      "God made the animals of the earth after their kind, and the livestock after their kind, and everything that creeps on the ground after its kind. God saw that it was good. \n",
      "God said, “Let’s make man in our image, after our likeness. Let them have dominion over the fish of the sea, and over the birds of the sky, and over the livestock, and over all the earth, and over every creeping thing that creeps on the earth.” \n",
      "God created man in his own image. In God’s image he created him; male and female he created them. \n",
      "God blessed them. God said to them, “Be fruitful, multiply, fill the earth, and subdue it. Have dominion over the fish of the sea, over the birds of the sky, and over every living thing that moves on the earth.” \n",
      "God said, “Behold, I have given you every herb yielding seed, which is on the surface of all the earth, and every tree, which bears fruit yielding seed. It will be your food. \n",
      "To every animal of the earth, and to every bird of the sky, and to everything that creeps on the earth, in which there is life, I have given every green herb for food;” and it was so. \n",
      "God saw everything that he had made, and, behold, it was very good. There was evening and there was morning, a sixth day. \n",
      "\n"
     ]
    }
   ],
   "source": [
    "show_two_files(files)"
   ]
  },
  {
   "cell_type": "markdown",
   "metadata": {},
   "source": [
    "### 2. Określ słownik słów kluczowych (termów) potrzebny do wyznaczenia wektorów cech bag-of-words (indeksacja). Przykładowo zbiorem takim może być unia wszystkich słów występujących we wszystkich tekstach."
   ]
  },
  {
   "cell_type": "markdown",
   "metadata": {},
   "source": [
    "W zadaniu wykorzystano bibliotekę **nltk**, każdą literę we wszystkich słowach zamieniono na małą, usunięto znaki specjalne, kropki, przecinki oraz liczby."
   ]
  },
  {
   "cell_type": "code",
   "execution_count": 4,
   "metadata": {},
   "outputs": [],
   "source": [
    "import re\n",
    "import nltk\n",
    "nltk.download('punkt')"
   ]
  },
  {
   "cell_type": "markdown",
   "metadata": {},
   "source": [
    "Słownik słów kluczowych określono jako unię wszystkich słów występujących we wszystkich tekstach."
   ]
  },
  {
   "cell_type": "code",
   "execution_count": 5,
   "metadata": {},
   "outputs": [],
   "source": [
    "def create_dictionary(files):\n",
    "    words_with_quantity = {}\n",
    "    \n",
    "    for file in files:\n",
    "        f = io.open('documents/' + file, encoding=\"utf8\")\n",
    "        text_from_file = f.read()\n",
    "        f.close()\n",
    "        sentences = text_from_file.split('\\n')\n",
    "        \n",
    "        for sentence in sentences:\n",
    "            sentence = sentence.lower()\n",
    "            sentence = re.sub(r'[^\\w\\s]', '', sentence)\n",
    "            sentence = re.sub('[0-9]', '', sentence)\n",
    "            words = nltk.word_tokenize(sentence)\n",
    "            \n",
    "            for word in words:\n",
    "                if word in words_with_quantity.keys():\n",
    "                    words_with_quantity[word] += 1\n",
    "                else:\n",
    "                    words_with_quantity[word] = 1\n",
    "                    \n",
    "    return words_with_quantity"
   ]
  },
  {
   "cell_type": "code",
   "execution_count": 6,
   "metadata": {},
   "outputs": [],
   "source": [
    "words_with_quantity = create_dictionary(files)\n",
    "dictionary = words_with_quantity.keys()"
   ]
  },
  {
   "cell_type": "markdown",
   "metadata": {},
   "source": [
    "W *words_with_quantity* zebrano listę wszystkich słów wraz z liczbą wystąpienia każdego z nich."
   ]
  },
  {
   "cell_type": "markdown",
   "metadata": {},
   "source": [
    "Poniżej przedstawiono 10 słów, które najczęściej pojawiały się w plikach tekstowych wraz z ilością ich występowania."
   ]
  },
  {
   "cell_type": "code",
   "execution_count": 7,
   "metadata": {},
   "outputs": [],
   "source": [
    "def show_most_popular_words(quantity, words_with_quantity):\n",
    "    words_list = sorted(words_with_quantity.items(), key = lambda x: x[1], reverse=True)\n",
    "    print(\"Liczba słów w słowniku: \", len(words_with_quantity))\n",
    "    print(quantity, \" najpopularniejszych słów:\")\n",
    "    for i, element in enumerate(words_list):\n",
    "        print(element[0], \" -> \", element[1])\n",
    "        if i == quantity - 1:\n",
    "            break"
   ]
  },
  {
   "cell_type": "code",
   "execution_count": 8,
   "metadata": {},
   "outputs": [
    {
     "name": "stdout",
     "output_type": "stream",
     "text": [
      "Liczba słów w słowniku:  13675\n",
      "10  najpopularniejszych słów:\n",
      "the  ->  53774\n",
      "of  ->  31534\n",
      "and  ->  30339\n",
      "to  ->  19633\n",
      "you  ->  12157\n",
      "in  ->  12045\n",
      "he  ->  9289\n",
      "will  ->  9088\n",
      "a  ->  8511\n",
      "for  ->  8391\n"
     ]
    }
   ],
   "source": [
    "show_most_popular_words(10, words_with_quantity)"
   ]
  },
  {
   "cell_type": "markdown",
   "metadata": {},
   "source": [
    "### 3. Dla każdego dokumentu j wyznacz wektor cech bag-of-words dj zawierający częstości występowania poszczególnych słów (termów) w tekście."
   ]
  },
  {
   "cell_type": "code",
   "execution_count": 9,
   "metadata": {},
   "outputs": [],
   "source": [
    "def create_vector(file, dictionary):\n",
    "    bow = {}\n",
    "    for word in dictionary:\n",
    "        bow[word] = 0\n",
    "    f = io.open('documents/' + file, encoding=\"utf8\")\n",
    "    text_from_file = f.read()\n",
    "    f.close()\n",
    "    sentences = text_from_file.split('\\n')\n",
    "\n",
    "    for sentence in sentences:\n",
    "        sentence = sentence.lower()\n",
    "        sentence = re.sub(r'[^\\w\\s]', '', sentence)\n",
    "        sentence = re.sub('[0-9]', '', sentence)\n",
    "        words = nltk.word_tokenize(sentence)\n",
    "\n",
    "        for word in words:\n",
    "            bow[word] += 1\n",
    "    return bow"
   ]
  },
  {
   "cell_type": "code",
   "execution_count": 10,
   "metadata": {},
   "outputs": [],
   "source": [
    "def show_words (dictionary, without_zero = True):\n",
    "    sorted_dictionary = sorted(dictionary.items(), key = lambda x: x[1], reverse=True)\n",
    "    \n",
    "    for element in sorted_dictionary:\n",
    "        if (element[1] == 0 and without_zero):\n",
    "            break\n",
    "        print(element[0], \" -> \", element[1])"
   ]
  },
  {
   "cell_type": "code",
   "execution_count": 11,
   "metadata": {},
   "outputs": [],
   "source": [
    "def bag_of_words(quantity, files, dictionary):\n",
    "    for i, file in enumerate(files):\n",
    "        print (\"\\nFile number: \", i)\n",
    "        bow = create_vector(file, dictionary)\n",
    "        show_words(bow)\n",
    "\n",
    "        if i == quantity -1:\n",
    "            break"
   ]
  },
  {
   "cell_type": "markdown",
   "metadata": {},
   "source": [
    "Poniżej znajduje się wektor cech bag-of-words dla pierwszego pliku. Przy wyświetlaniu pominięto słowa, które nie występowały w danym tekście."
   ]
  },
  {
   "cell_type": "code",
   "execution_count": 12,
   "metadata": {},
   "outputs": [
    {
     "name": "stdout",
     "output_type": "stream",
     "text": [
      "\n",
      "File number:  0\n",
      "of  ->  3\n",
      "chapter  ->  2\n",
      "this  ->  1\n",
      "set  ->  1\n",
      "files  ->  1\n",
      "contains  ->  1\n",
      "a  ->  1\n",
      "script  ->  1\n",
      "canonical  ->  1\n",
      "text  ->  1\n",
      "by  ->  1\n",
      "for  ->  1\n",
      "the  ->  1\n",
      "purpose  ->  1\n",
      "reading  ->  1\n",
      "to  ->  1\n",
      "make  ->  1\n",
      "an  ->  1\n",
      "audio  ->  1\n",
      "recording  ->  1\n",
      "all  ->  1\n",
      "footnotes  ->  1\n",
      "introductions  ->  1\n",
      "and  ->  1\n",
      "verse  ->  1\n",
      "numbers  ->  1\n",
      "have  ->  1\n",
      "been  ->  1\n",
      "stripped  ->  1\n",
      "out  ->  1\n"
     ]
    }
   ],
   "source": [
    "bag_of_words(1, files, dictionary)"
   ]
  },
  {
   "cell_type": "markdown",
   "metadata": {},
   "source": [
    "### 4. Zbuduj rzadką macierz wektorów cech term-by-document matrix w której wektory cech ułożone są kolumnowo A m×n = [d1|d2| . . . |dn] (m jest liczbą termów w słowniku, a n liczbą dokumentów)"
   ]
  },
  {
   "cell_type": "code",
   "execution_count": 13,
   "metadata": {},
   "outputs": [],
   "source": [
    "def create_matrix(files, dictionary):\n",
    "    matrix = []\n",
    "    for file in files:\n",
    "        vector = create_vector(file, dictionary)\n",
    "        matrix.append(vector)\n",
    "    return matrix"
   ]
  },
  {
   "cell_type": "code",
   "execution_count": 14,
   "metadata": {},
   "outputs": [],
   "source": [
    "matrix = create_matrix(files, dictionary)"
   ]
  },
  {
   "cell_type": "code",
   "execution_count": 15,
   "metadata": {},
   "outputs": [
    {
     "name": "stdout",
     "output_type": "stream",
     "text": [
      "Liczba wierszy:  1100\n",
      "Liczba kolumn:  13675\n"
     ]
    }
   ],
   "source": [
    "print(\"Liczba wierszy: \", len(matrix))\n",
    "print(\"Liczba kolumn: \", len(matrix[0]))"
   ]
  },
  {
   "cell_type": "markdown",
   "metadata": {},
   "source": [
    "Jak widać liczba wierszy macierzy odpowiada liczbie plików tekstowych, a liczba kolumn zgadza się z ilością słów znajdujących się w zdefiniowanym wcześniej słowniku."
   ]
  },
  {
   "cell_type": "markdown",
   "metadata": {},
   "source": [
    "### 5. Przetwórz wstępnie otrzymany zbiór danych mnożąc elementy bag-of-words przez inverse document frequency. Operacja ta pozwoli na redukcje znaczenia często występujących słów. $$IDF(w) = log\\frac{N}{n_{w}}$$\n",
    "#### gdzie $n_{w}$ jest liczbą dokumentów, w których występuje słowo w, a N jest całkowitą liczbą dokumentów."
   ]
  },
  {
   "cell_type": "markdown",
   "metadata": {},
   "source": [
    "Poniższa funkcja służy do obliczenia ilości dokumentów, w których występuje dane słowo."
   ]
  },
  {
   "cell_type": "code",
   "execution_count": 16,
   "metadata": {
    "pycharm": {
     "name": "#%%\n"
    }
   },
   "outputs": [],
   "source": [
    "def count_documents_with_word(word):\n",
    "    counter = 0\n",
    "    for row in matrix:\n",
    "        if row.get(word) != 0:\n",
    "            counter += 1\n",
    "    return counter"
   ]
  },
  {
   "cell_type": "code",
   "execution_count": 17,
   "metadata": {},
   "outputs": [],
   "source": [
    "import math\n",
    "\n",
    "def tf_idf(dictionary):\n",
    "    for word in dictionary:\n",
    "        documents_with_word = count_documents_with_word(word)\n",
    "        if documents_with_word == 0:\n",
    "            idf = 0\n",
    "            print(word)\n",
    "        else:\n",
    "            idf = float(math.log(len(matrix)/documents_with_word))\n",
    "        for row in matrix:\n",
    "            row[word] = row.get(word) * idf"
   ]
  },
  {
   "cell_type": "code",
   "execution_count": 18,
   "metadata": {},
   "outputs": [
    {
     "name": "stdout",
     "output_type": "stream",
     "text": [
      "1100\n",
      "1100\n"
     ]
    }
   ],
   "source": [
    "print(count_documents_with_word('chapter'))\n",
    "print(len(matrix))"
   ]
  },
  {
   "cell_type": "markdown",
   "metadata": {},
   "source": [
    "Słowo *chapter* występuje w każdym pliku tekstowym, więc po wykonaniu funkcji **tf_idf** jego waga powinna zostać ustawiona na 0."
   ]
  },
  {
   "cell_type": "code",
   "execution_count": 19,
   "metadata": {},
   "outputs": [
    {
     "name": "stdout",
     "output_type": "stream",
     "text": [
      "of  ->  3\n",
      "chapter  ->  2\n",
      "this  ->  1\n",
      "set  ->  1\n",
      "files  ->  1\n",
      "contains  ->  1\n",
      "a  ->  1\n",
      "script  ->  1\n",
      "canonical  ->  1\n",
      "text  ->  1\n",
      "by  ->  1\n",
      "for  ->  1\n",
      "the  ->  1\n",
      "purpose  ->  1\n",
      "reading  ->  1\n",
      "to  ->  1\n",
      "make  ->  1\n",
      "an  ->  1\n",
      "audio  ->  1\n",
      "recording  ->  1\n",
      "all  ->  1\n",
      "footnotes  ->  1\n",
      "introductions  ->  1\n",
      "and  ->  1\n",
      "verse  ->  1\n",
      "numbers  ->  1\n",
      "have  ->  1\n",
      "been  ->  1\n",
      "stripped  ->  1\n",
      "out  ->  1\n"
     ]
    },
    {
     "data": {
      "text/plain": [
       "2"
      ]
     },
     "execution_count": 19,
     "metadata": {},
     "output_type": "execute_result"
    }
   ],
   "source": [
    "show_words(matrix[0])\n",
    "matrix[0].get('chapter')"
   ]
  },
  {
   "cell_type": "code",
   "execution_count": 20,
   "metadata": {},
   "outputs": [],
   "source": [
    "tf_idf(dictionary)"
   ]
  },
  {
   "cell_type": "code",
   "execution_count": 21,
   "metadata": {},
   "outputs": [
    {
     "name": "stdout",
     "output_type": "stream",
     "text": [
      "files  ->  7.003065458786462\n",
      "script  ->  7.003065458786462\n",
      "canonical  ->  7.003065458786462\n",
      "text  ->  7.003065458786462\n",
      "audio  ->  7.003065458786462\n",
      "recording  ->  7.003065458786462\n",
      "footnotes  ->  7.003065458786462\n",
      "introductions  ->  7.003065458786462\n",
      "verse  ->  7.003065458786462\n",
      "contains  ->  5.9044531701183525\n",
      "reading  ->  5.616771097666572\n",
      "stripped  ->  4.112693700890297\n",
      "purpose  ->  3.6018680771243066\n",
      "numbers  ->  3.2188758248682006\n",
      "been  ->  1.3366387706740297\n",
      "set  ->  0.8982722263714767\n",
      "make  ->  0.8418581370913855\n",
      "an  ->  0.7301884522402944\n",
      "this  ->  0.4378004887511008\n",
      "by  ->  0.2649129641905048\n",
      "out  ->  0.23227603487748236\n",
      "have  ->  0.2208734027796706\n",
      "all  ->  0.12370965432602289\n",
      "a  ->  0.04938124791592503\n",
      "for  ->  0.028586547761416694\n",
      "to  ->  0.015575211785471372\n",
      "of  ->  0.0081929955336952\n",
      "and  ->  0.004555816535860661\n",
      "the  ->  0.0018198367169858993\n"
     ]
    },
    {
     "data": {
      "text/plain": [
       "0.0"
      ]
     },
     "execution_count": 21,
     "metadata": {},
     "output_type": "execute_result"
    }
   ],
   "source": [
    "show_words(matrix[0])\n",
    "matrix[0].get('chapter')"
   ]
  },
  {
   "cell_type": "markdown",
   "metadata": {},
   "source": [
    "Zgodnie z oczekiwaniami zredukowano do 0 znaczenie słowa, które występowało w każdym tekście. Zatem słowo *chapter* nie jest istotne."
   ]
  },
  {
   "cell_type": "markdown",
   "metadata": {},
   "source": [
    "Każda wartość macierzy *matrix* została przemnożona przez *IDF*."
   ]
  },
  {
   "cell_type": "markdown",
   "metadata": {},
   "source": [
    "### 6. Napisz program pozwalający na wprowadzenie zapytania (w postaci sekwencji słów) przekształcanego nastpnie do reprezentacji wektorowej q (bag-of-words). Program ma zwrócić k dokumentów najbardziej zbliżonych do podanego zapytania q. Użyj korelacji między wektorami jako miary podobieństwa\n",
    "$$\\cos{\\theta_{j}} = \\frac{q^{T}d_{j}}{||q|| ||d_{}j||}$$"
   ]
  },
  {
   "cell_type": "code",
   "execution_count": 22,
   "metadata": {},
   "outputs": [],
   "source": [
    "def create_vector_from_text(text):\n",
    "    bow = {}\n",
    "    for word in dictionary:\n",
    "        bow[word] = 0\n",
    "        \n",
    "    text = text.lower()\n",
    "    text = re.sub(r'[^\\w\\s]', '', text)\n",
    "    text = re.sub('[0-9]', '', text)\n",
    "    words = nltk.word_tokenize(text)\n",
    "\n",
    "    for word in words:\n",
    "        if word in bow:\n",
    "            bow[word] += 1\n",
    "    return list(bow.values())"
   ]
  },
  {
   "cell_type": "code",
   "execution_count": 23,
   "metadata": {},
   "outputs": [],
   "source": [
    "def get_similar_documents(text, k):\n",
    "    text_vector = create_vector_from_text(text)\n",
    "    result = []\n",
    "    for i, row in enumerate(matrix):\n",
    "        cos = np.matmul(np.array(text_vector).T, np.array(list(row.values()))) / (np.linalg.norm(text_vector) * np.linalg.norm(list(row.values())))\n",
    "        \n",
    "        if (len(result) >= k):\n",
    "            if cos > result[0][1] or math.isnan(result[0][1]):\n",
    "                result[0] = (i, cos)\n",
    "        else:\n",
    "            result.append((i, cos))\n",
    "            \n",
    "        result = sorted(result, key=lambda x: x[1])\n",
    "    return result"
   ]
  },
  {
   "cell_type": "code",
   "execution_count": 24,
   "metadata": {},
   "outputs": [],
   "source": [
    "def write_files_at_index(result):\n",
    "    result = sorted(result, key=lambda x: x[0])\n",
    "    index = 0\n",
    "    for i, file in enumerate(files):\n",
    "        if len(result) == index:\n",
    "            break\n",
    "        if i == result[index][0]:\n",
    "            f = io.open('documents/' + file, encoding=\"utf8\")\n",
    "            print(\"\\nFile number: \", i)\n",
    "            print(f.read())\n",
    "            index += 1  "
   ]
  },
  {
   "cell_type": "code",
   "execution_count": 25,
   "metadata": {},
   "outputs": [],
   "source": [
    "text = \"When Abram was ninety-nine years old, Yahweh appeared to Abram and said to him, “I am God Almighty. Walk before me and be blameless. I will make my covenant between me and you, and will multiply you exceedingly.” Abram fell on his face. God talked with him, saying, .\"\n",
    "result = get_similar_documents(text, 3)"
   ]
  },
  {
   "cell_type": "code",
   "execution_count": 26,
   "metadata": {},
   "outputs": [
    {
     "name": "stdout",
     "output_type": "stream",
     "text": [
      "[(17, 0.28634335213682716), (12, 0.31396209612601805), (15, 0.3461022720388943)]\n",
      "\n",
      "File number:  12\n",
      "﻿Genesis.\n",
      "Chapter 12.\n",
      "Now Yahweh said to Abram, “Leave your country, and your relatives, and your father’s house, and go to the land that I will show you. \n",
      "I will make of you a great nation. I will bless you and make your name great. You will be a blessing. \n",
      "I will bless those who bless you, and I will curse him who treats you with contempt. All the families of the earth will be blessed through you.” \n",
      "So Abram went, as Yahweh had told him. Lot went with him. Abram was seventy-five years old when he departed from Haran. \n",
      "Abram took Sarai his wife, Lot his brother’s son, all their possessions that they had gathered, and the people whom they had acquired in Haran, and they went to go into the land of Canaan. They entered into the land of Canaan. \n",
      "Abram passed through the land to the place of Shechem, to the oak of Moreh. At that time, Canaanites were in the land. \n",
      "Yahweh appeared to Abram and said, “I will give this land to your offspring.” He built an altar there to Yahweh, who had appeared to him. \n",
      "He left from there to go to the mountain on the east of Bethel and pitched his tent, having Bethel on the west, and Ai on the east. There he built an altar to Yahweh and called on Yahweh’s name. \n",
      "Abram traveled, still going on toward the South. \n",
      "There was a famine in the land. Abram went down into Egypt to live as a foreigner there, for the famine was severe in the land. \n",
      "When he had come near to enter Egypt, he said to Sarai his wife, “See now, I know that you are a beautiful woman to look at. \n",
      "It will happen that when the Egyptians see you, they will say, ‘This is his wife.’ They will kill me, but they will save you alive. \n",
      "Please say that you are my sister, that it may be well with me for your sake, and that my soul may live because of you.” \n",
      "When Abram had come into Egypt, Egyptians saw that the woman was very beautiful. \n",
      "The princes of Pharaoh saw her, and praised her to Pharaoh; and the woman was taken into Pharaoh’s house. \n",
      "He dealt well with Abram for her sake. He had sheep, cattle, male donkeys, male servants, female servants, female donkeys, and camels. \n",
      "Yahweh afflicted Pharaoh and his house with great plagues because of Sarai, Abram’s wife. \n",
      "Pharaoh called Abram and said, “What is this that you have done to me? Why didn’t you tell me that she was your wife? \n",
      "Why did you say, ‘She is my sister,’ so that I took her to be my wife? Now therefore, see your wife, take her, and go your way.” \n",
      "Pharaoh commanded men concerning him, and they escorted him away with his wife and all that he had. \n",
      "\n",
      "\n",
      "File number:  15\n",
      "﻿Genesis.\n",
      "Chapter 15.\n",
      "After these things Yahweh’s word came to Abram in a vision, saying, “Don’t be afraid, Abram. I am your shield, your exceedingly great reward.” \n",
      "Abram said, “Lord Yahweh, what will you give me, since I go childless, and he who will inherit my estate is Eliezer of Damascus?” \n",
      "Abram said, “Behold, you have given no children to me: and, behold, one born in my house is my heir.” \n",
      "Behold, Yahweh’s word came to him, saying, “This man will not be your heir, but he who will come out of your own body will be your heir.” \n",
      "Yahweh brought him outside, and said, “Look now toward the sky, and count the stars, if you are able to count them.” He said to Abram, “So your offspring will be.” \n",
      "He believed in Yahweh, who credited it to him for righteousness. \n",
      "He said to Abram, “I am Yahweh who brought you out of Ur of the Chaldees, to give you this land to inherit it.” \n",
      "He said, “Lord Yahweh, how will I know that I will inherit it?” \n",
      "He said to him, “Bring me a heifer three years old, a female goat three years old, a ram three years old, a turtledove, and a young pigeon.” \n",
      "He brought him all these, and divided them in the middle, and laid each half opposite the other; but he didn’t divide the birds. \n",
      "The birds of prey came down on the carcasses, and Abram drove them away. \n",
      "When the sun was going down, a deep sleep fell on Abram. Now terror and great darkness fell on him. \n",
      "He said to Abram, “Know for sure that your offspring will live as foreigners in a land that is not theirs, and will serve them. They will afflict them four hundred years. \n",
      "I will also judge that nation, whom they will serve. Afterward they will come out with great wealth; \n",
      "but you will go to your fathers in peace. You will be buried at a good old age. \n",
      "In the fourth generation they will come here again, for the iniquity of the Amorite is not yet full.” \n",
      "It came to pass that, when the sun went down, and it was dark, behold, a smoking furnace and a flaming torch passed between these pieces. \n",
      "In that day Yahweh made a covenant with Abram, saying, “I have given this land to your offspring, from the river of Egypt to the great river, the river Euphrates: \n",
      "the land of the Kenites, the Kenizzites, the Kadmonites, \n",
      "the Hittites, the Perizzites, the Rephaim, \n",
      "the Amorites, the Canaanites, the Girgashites, and the Jebusites.” \n",
      "\n",
      "\n",
      "File number:  17\n",
      "﻿Genesis.\n",
      "Chapter 17.\n",
      "When Abram was ninety-nine years old, Yahweh appeared to Abram and said to him, “I am God Almighty. Walk before me and be blameless. \n",
      "I will make my covenant between me and you, and will multiply you exceedingly.” \n",
      "Abram fell on his face. God talked with him, saying, \n",
      "“As for me, behold, my covenant is with you. You will be the father of a multitude of nations. \n",
      "Your name will no more be called Abram, but your name will be Abraham; for I have made you the father of a multitude of nations. \n",
      "I will make you exceedingly fruitful, and I will make nations of you. Kings will come out of you. \n",
      "I will establish my covenant between me and you and your offspring after you throughout their generations for an everlasting covenant, to be a God to you and to your offspring after you. \n",
      "I will give to you, and to your offspring after you, the land where you are traveling, all the land of Canaan, for an everlasting possession. I will be their God.” \n",
      "God said to Abraham, “As for you, you shall keep my covenant, you and your offspring after you throughout their generations. \n",
      "This is my covenant, which you shall keep, between me and you and your offspring after you. Every male among you shall be circumcised. \n",
      "You shall be circumcised in the flesh of your foreskin. It will be a token of the covenant between me and you. \n",
      "He who is eight days old shall be circumcised among you, every male throughout your generations, he who is born in the house, or bought with money from any foreigner who is not of your offspring. \n",
      "He who is born in your house, and he who is bought with your money, must be circumcised. My covenant shall be in your flesh for an everlasting covenant. \n",
      "The uncircumcised male who is not circumcised in the flesh of his foreskin, that soul shall be cut off from his people. He has broken my covenant.” \n",
      "God said to Abraham, “As for Sarai your wife, you shall not call her name Sarai, but her name shall be Sarah. \n",
      "I will bless her, and moreover I will give you a son by her. Yes, I will bless her, and she will be a mother of nations. Kings of peoples will come from her.” \n",
      "Then Abraham fell on his face, and laughed, and said in his heart, “Will a child be born to him who is one hundred years old? Will Sarah, who is ninety years old, give birth?” \n",
      "Abraham said to God, “Oh that Ishmael might live before you!” \n",
      "God said, “No, but Sarah, your wife, will bear you a son. You shall call his name Isaac. I will establish my covenant with him for an everlasting covenant for his offspring after him. \n",
      "As for Ishmael, I have heard you. Behold, I have blessed him, and will make him fruitful, and will multiply him exceedingly. He will become the father of twelve princes, and I will make him a great nation. \n",
      "But I will establish my covenant with Isaac, whom Sarah will bear to you at this set time next year.” \n",
      "When he finished talking with him, God went up from Abraham. \n",
      "Abraham took Ishmael his son, all who were born in his house, and all who were bought with his money: every male among the men of Abraham’s house, and circumcised the flesh of their foreskin in the same day, as God had said to him. \n",
      "Abraham was ninety-nine years old when he was circumcised in the flesh of his foreskin. \n",
      "Ishmael, his son, was thirteen years old when he was circumcised in the flesh of his foreskin. \n",
      "In the same day both Abraham and Ishmael, his son, were circumcised. \n",
      "All the men of his house, those born in the house, and those bought with money from a foreigner, were circumcised with him. \n",
      "\n"
     ]
    }
   ],
   "source": [
    "print(result)\n",
    "write_files_at_index(result)"
   ]
  },
  {
   "cell_type": "markdown",
   "metadata": {},
   "source": [
    "Znalezione pliki zawierają według mnie większość słów z wprowadzonego tekstu. Wyszukiwanie zatem działa poprawnie."
   ]
  },
  {
   "cell_type": "markdown",
   "metadata": {},
   "source": [
    "### 7. Zastosuj normalizację wektorów cech dj i wektora q, tak aby miały one długość 1. Użyj zmodyfikowanej miary podobieństwa otrzymując\n",
    "$$ |q^{T}A| = [|\\cos{\\theta_{1}}|,|\\cos{\\theta_{2}}|,...,|\\cos{\\theta_{n}}|]$$"
   ]
  },
  {
   "cell_type": "code",
   "execution_count": 27,
   "metadata": {},
   "outputs": [],
   "source": [
    "from sklearn.preprocessing import normalize"
   ]
  },
  {
   "cell_type": "code",
   "execution_count": 28,
   "metadata": {},
   "outputs": [],
   "source": [
    "def normalize_matrix(matrix):\n",
    "    result = []\n",
    "    for i, row in enumerate(matrix):\n",
    "        result.append(normalize([list(row.values())], norm=\"l1\"))\n",
    "    return result"
   ]
  },
  {
   "cell_type": "code",
   "execution_count": 29,
   "metadata": {},
   "outputs": [],
   "source": [
    "normalized_matrix = normalize_matrix(matrix)"
   ]
  },
  {
   "cell_type": "code",
   "execution_count": 30,
   "metadata": {},
   "outputs": [],
   "source": [
    "def get_normalize_vectors(text):\n",
    "    text_vector_normalized = normalize([create_vector_from_text(text)],norm=\"l1\")\n",
    "    result = []\n",
    "    for i, row in enumerate(normalized_matrix):\n",
    "        cos = np.matmul(np.array(text_vector_normalized[0]).T,np.array(row[0]))/(np.linalg.norm(text_vector_normalized)*np.linalg.norm(row))\n",
    "        result.append((i, cos))\n",
    "    return result"
   ]
  },
  {
   "cell_type": "code",
   "execution_count": 31,
   "metadata": {},
   "outputs": [],
   "source": [
    "def get_similar_documents_normalized(text, k):\n",
    "    vectors = get_normalize_vectors(text)\n",
    "    vectors = sorted(vectors, key=lambda x: x[1], reverse=True)\n",
    "    return vectors[:k]"
   ]
  },
  {
   "cell_type": "code",
   "execution_count": 32,
   "metadata": {},
   "outputs": [],
   "source": [
    "normalized_result = get_similar_documents_normalized(text, 3)"
   ]
  },
  {
   "cell_type": "code",
   "execution_count": 33,
   "metadata": {},
   "outputs": [
    {
     "name": "stdout",
     "output_type": "stream",
     "text": [
      "[(15, 0.3461022720388944), (12, 0.31396209612601805), (17, 0.28634335213682716)]\n",
      "\n",
      "File number:  12\n",
      "﻿Genesis.\n",
      "Chapter 12.\n",
      "Now Yahweh said to Abram, “Leave your country, and your relatives, and your father’s house, and go to the land that I will show you. \n",
      "I will make of you a great nation. I will bless you and make your name great. You will be a blessing. \n",
      "I will bless those who bless you, and I will curse him who treats you with contempt. All the families of the earth will be blessed through you.” \n",
      "So Abram went, as Yahweh had told him. Lot went with him. Abram was seventy-five years old when he departed from Haran. \n",
      "Abram took Sarai his wife, Lot his brother’s son, all their possessions that they had gathered, and the people whom they had acquired in Haran, and they went to go into the land of Canaan. They entered into the land of Canaan. \n",
      "Abram passed through the land to the place of Shechem, to the oak of Moreh. At that time, Canaanites were in the land. \n",
      "Yahweh appeared to Abram and said, “I will give this land to your offspring.” He built an altar there to Yahweh, who had appeared to him. \n",
      "He left from there to go to the mountain on the east of Bethel and pitched his tent, having Bethel on the west, and Ai on the east. There he built an altar to Yahweh and called on Yahweh’s name. \n",
      "Abram traveled, still going on toward the South. \n",
      "There was a famine in the land. Abram went down into Egypt to live as a foreigner there, for the famine was severe in the land. \n",
      "When he had come near to enter Egypt, he said to Sarai his wife, “See now, I know that you are a beautiful woman to look at. \n",
      "It will happen that when the Egyptians see you, they will say, ‘This is his wife.’ They will kill me, but they will save you alive. \n",
      "Please say that you are my sister, that it may be well with me for your sake, and that my soul may live because of you.” \n",
      "When Abram had come into Egypt, Egyptians saw that the woman was very beautiful. \n",
      "The princes of Pharaoh saw her, and praised her to Pharaoh; and the woman was taken into Pharaoh’s house. \n",
      "He dealt well with Abram for her sake. He had sheep, cattle, male donkeys, male servants, female servants, female donkeys, and camels. \n",
      "Yahweh afflicted Pharaoh and his house with great plagues because of Sarai, Abram’s wife. \n",
      "Pharaoh called Abram and said, “What is this that you have done to me? Why didn’t you tell me that she was your wife? \n",
      "Why did you say, ‘She is my sister,’ so that I took her to be my wife? Now therefore, see your wife, take her, and go your way.” \n",
      "Pharaoh commanded men concerning him, and they escorted him away with his wife and all that he had. \n",
      "\n",
      "\n",
      "File number:  15\n",
      "﻿Genesis.\n",
      "Chapter 15.\n",
      "After these things Yahweh’s word came to Abram in a vision, saying, “Don’t be afraid, Abram. I am your shield, your exceedingly great reward.” \n",
      "Abram said, “Lord Yahweh, what will you give me, since I go childless, and he who will inherit my estate is Eliezer of Damascus?” \n",
      "Abram said, “Behold, you have given no children to me: and, behold, one born in my house is my heir.” \n",
      "Behold, Yahweh’s word came to him, saying, “This man will not be your heir, but he who will come out of your own body will be your heir.” \n",
      "Yahweh brought him outside, and said, “Look now toward the sky, and count the stars, if you are able to count them.” He said to Abram, “So your offspring will be.” \n",
      "He believed in Yahweh, who credited it to him for righteousness. \n",
      "He said to Abram, “I am Yahweh who brought you out of Ur of the Chaldees, to give you this land to inherit it.” \n",
      "He said, “Lord Yahweh, how will I know that I will inherit it?” \n",
      "He said to him, “Bring me a heifer three years old, a female goat three years old, a ram three years old, a turtledove, and a young pigeon.” \n",
      "He brought him all these, and divided them in the middle, and laid each half opposite the other; but he didn’t divide the birds. \n",
      "The birds of prey came down on the carcasses, and Abram drove them away. \n",
      "When the sun was going down, a deep sleep fell on Abram. Now terror and great darkness fell on him. \n",
      "He said to Abram, “Know for sure that your offspring will live as foreigners in a land that is not theirs, and will serve them. They will afflict them four hundred years. \n",
      "I will also judge that nation, whom they will serve. Afterward they will come out with great wealth; \n",
      "but you will go to your fathers in peace. You will be buried at a good old age. \n",
      "In the fourth generation they will come here again, for the iniquity of the Amorite is not yet full.” \n",
      "It came to pass that, when the sun went down, and it was dark, behold, a smoking furnace and a flaming torch passed between these pieces. \n",
      "In that day Yahweh made a covenant with Abram, saying, “I have given this land to your offspring, from the river of Egypt to the great river, the river Euphrates: \n",
      "the land of the Kenites, the Kenizzites, the Kadmonites, \n",
      "the Hittites, the Perizzites, the Rephaim, \n",
      "the Amorites, the Canaanites, the Girgashites, and the Jebusites.” \n",
      "\n",
      "\n",
      "File number:  17\n",
      "﻿Genesis.\n",
      "Chapter 17.\n",
      "When Abram was ninety-nine years old, Yahweh appeared to Abram and said to him, “I am God Almighty. Walk before me and be blameless. \n",
      "I will make my covenant between me and you, and will multiply you exceedingly.” \n",
      "Abram fell on his face. God talked with him, saying, \n",
      "“As for me, behold, my covenant is with you. You will be the father of a multitude of nations. \n",
      "Your name will no more be called Abram, but your name will be Abraham; for I have made you the father of a multitude of nations. \n",
      "I will make you exceedingly fruitful, and I will make nations of you. Kings will come out of you. \n",
      "I will establish my covenant between me and you and your offspring after you throughout their generations for an everlasting covenant, to be a God to you and to your offspring after you. \n",
      "I will give to you, and to your offspring after you, the land where you are traveling, all the land of Canaan, for an everlasting possession. I will be their God.” \n",
      "God said to Abraham, “As for you, you shall keep my covenant, you and your offspring after you throughout their generations. \n",
      "This is my covenant, which you shall keep, between me and you and your offspring after you. Every male among you shall be circumcised. \n",
      "You shall be circumcised in the flesh of your foreskin. It will be a token of the covenant between me and you. \n",
      "He who is eight days old shall be circumcised among you, every male throughout your generations, he who is born in the house, or bought with money from any foreigner who is not of your offspring. \n",
      "He who is born in your house, and he who is bought with your money, must be circumcised. My covenant shall be in your flesh for an everlasting covenant. \n",
      "The uncircumcised male who is not circumcised in the flesh of his foreskin, that soul shall be cut off from his people. He has broken my covenant.” \n",
      "God said to Abraham, “As for Sarai your wife, you shall not call her name Sarai, but her name shall be Sarah. \n",
      "I will bless her, and moreover I will give you a son by her. Yes, I will bless her, and she will be a mother of nations. Kings of peoples will come from her.” \n",
      "Then Abraham fell on his face, and laughed, and said in his heart, “Will a child be born to him who is one hundred years old? Will Sarah, who is ninety years old, give birth?” \n",
      "Abraham said to God, “Oh that Ishmael might live before you!” \n",
      "God said, “No, but Sarah, your wife, will bear you a son. You shall call his name Isaac. I will establish my covenant with him for an everlasting covenant for his offspring after him. \n",
      "As for Ishmael, I have heard you. Behold, I have blessed him, and will make him fruitful, and will multiply him exceedingly. He will become the father of twelve princes, and I will make him a great nation. \n",
      "But I will establish my covenant with Isaac, whom Sarah will bear to you at this set time next year.” \n",
      "When he finished talking with him, God went up from Abraham. \n",
      "Abraham took Ishmael his son, all who were born in his house, and all who were bought with his money: every male among the men of Abraham’s house, and circumcised the flesh of their foreskin in the same day, as God had said to him. \n",
      "Abraham was ninety-nine years old when he was circumcised in the flesh of his foreskin. \n",
      "Ishmael, his son, was thirteen years old when he was circumcised in the flesh of his foreskin. \n",
      "In the same day both Abraham and Ishmael, his son, were circumcised. \n",
      "All the men of his house, those born in the house, and those bought with money from a foreigner, were circumcised with him. \n",
      "\n"
     ]
    }
   ],
   "source": [
    "print(normalized_result)\n",
    "write_files_at_index(normalized_result)"
   ]
  },
  {
   "cell_type": "markdown",
   "metadata": {},
   "source": [
    "Jak widać powyżej znalezione pliki są takie same w obu przypadkach (z normalizacją i bez)."
   ]
  },
  {
   "cell_type": "markdown",
   "metadata": {},
   "source": [
    "### 8. W celu usunięcia szumu z macierzy A (normalized_matrix) zastosuj SVD i low rank approximation."
   ]
  },
  {
   "cell_type": "markdown",
   "metadata": {},
   "source": [
    "Do wykonania tego zadania użyto biblioteki **scipy**."
   ]
  },
  {
   "cell_type": "code",
   "execution_count": 34,
   "metadata": {},
   "outputs": [],
   "source": [
    "import scipy"
   ]
  },
  {
   "cell_type": "markdown",
   "metadata": {},
   "source": [
    "Poniższa funkcja wykorzystuje SVD i low rank approximation."
   ]
  },
  {
   "cell_type": "code",
   "execution_count": 35,
   "metadata": {},
   "outputs": [],
   "source": [
    "def svd_and_lra(k):\n",
    "    A = []\n",
    "    for row in normalized_matrix:\n",
    "        A.append(row[0])\n",
    "    u, s, vt = scipy.sparse.linalg.svds(np.array(A), k=k)\n",
    "    return u @ np.diag(s) @ vt"
   ]
  },
  {
   "cell_type": "markdown",
   "metadata": {},
   "source": [
    "Poniższa funkcja zwraca wektor podobieństw danych wejściowych do kolejnych dokumentów."
   ]
  },
  {
   "cell_type": "code",
   "execution_count": 36,
   "metadata": {},
   "outputs": [],
   "source": [
    "def get_normalize_vectors_approx(text, k):\n",
    "    res = svd_and_lra(k)\n",
    "    text_vector_normalized = normalize([create_vector_from_text(text)],norm=\"l1\")\n",
    "    result = []\n",
    "    for i, row in enumerate(res):\n",
    "        cos = np.matmul(np.array(text_vector_normalized[0]).T,np.array(row))/(np.linalg.norm(text_vector_normalized)*np.linalg.norm(row))\n",
    "        result.append((i, cos))\n",
    "    return result"
   ]
  },
  {
   "cell_type": "code",
   "execution_count": 37,
   "metadata": {},
   "outputs": [],
   "source": [
    "def get_similar_documents_approx(text, k, approx_k):\n",
    "    vectors = get_normalize_vectors_approx(text, approx_k)\n",
    "    vectors = sorted(vectors, key=lambda x: x[1], reverse=True)\n",
    "    return vectors[:k]"
   ]
  },
  {
   "cell_type": "code",
   "execution_count": 38,
   "metadata": {},
   "outputs": [],
   "source": [
    "approx_result = get_similar_documents_approx(text, 3, 150)"
   ]
  },
  {
   "cell_type": "code",
   "execution_count": 39,
   "metadata": {},
   "outputs": [
    {
     "name": "stdout",
     "output_type": "stream",
     "text": [
      "[(15, 0.3784906427640007), (12, 0.34370772172919767), (13, 0.3315585816066525)]\n",
      "\n",
      "File number:  12\n",
      "﻿Genesis.\n",
      "Chapter 12.\n",
      "Now Yahweh said to Abram, “Leave your country, and your relatives, and your father’s house, and go to the land that I will show you. \n",
      "I will make of you a great nation. I will bless you and make your name great. You will be a blessing. \n",
      "I will bless those who bless you, and I will curse him who treats you with contempt. All the families of the earth will be blessed through you.” \n",
      "So Abram went, as Yahweh had told him. Lot went with him. Abram was seventy-five years old when he departed from Haran. \n",
      "Abram took Sarai his wife, Lot his brother’s son, all their possessions that they had gathered, and the people whom they had acquired in Haran, and they went to go into the land of Canaan. They entered into the land of Canaan. \n",
      "Abram passed through the land to the place of Shechem, to the oak of Moreh. At that time, Canaanites were in the land. \n",
      "Yahweh appeared to Abram and said, “I will give this land to your offspring.” He built an altar there to Yahweh, who had appeared to him. \n",
      "He left from there to go to the mountain on the east of Bethel and pitched his tent, having Bethel on the west, and Ai on the east. There he built an altar to Yahweh and called on Yahweh’s name. \n",
      "Abram traveled, still going on toward the South. \n",
      "There was a famine in the land. Abram went down into Egypt to live as a foreigner there, for the famine was severe in the land. \n",
      "When he had come near to enter Egypt, he said to Sarai his wife, “See now, I know that you are a beautiful woman to look at. \n",
      "It will happen that when the Egyptians see you, they will say, ‘This is his wife.’ They will kill me, but they will save you alive. \n",
      "Please say that you are my sister, that it may be well with me for your sake, and that my soul may live because of you.” \n",
      "When Abram had come into Egypt, Egyptians saw that the woman was very beautiful. \n",
      "The princes of Pharaoh saw her, and praised her to Pharaoh; and the woman was taken into Pharaoh’s house. \n",
      "He dealt well with Abram for her sake. He had sheep, cattle, male donkeys, male servants, female servants, female donkeys, and camels. \n",
      "Yahweh afflicted Pharaoh and his house with great plagues because of Sarai, Abram’s wife. \n",
      "Pharaoh called Abram and said, “What is this that you have done to me? Why didn’t you tell me that she was your wife? \n",
      "Why did you say, ‘She is my sister,’ so that I took her to be my wife? Now therefore, see your wife, take her, and go your way.” \n",
      "Pharaoh commanded men concerning him, and they escorted him away with his wife and all that he had. \n",
      "\n",
      "\n",
      "File number:  13\n",
      "﻿Genesis.\n",
      "Chapter 13.\n",
      "Abram went up out of Egypt—he, his wife, all that he had, and Lot with him—into the South. \n",
      "Abram was very rich in livestock, in silver, and in gold. \n",
      "He went on his journeys from the South as far as Bethel, to the place where his tent had been at the beginning, between Bethel and Ai, \n",
      "to the place of the altar, which he had made there at the first. There Abram called on Yahweh’s name. \n",
      "Lot also, who went with Abram, had flocks, herds, and tents. \n",
      "The land was not able to bear them, that they might live together; for their possessions were so great that they couldn’t live together. \n",
      "There was strife between the herdsmen of Abram’s livestock and the herdsmen of Lot’s livestock. The Canaanites and the Perizzites lived in the land at that time. \n",
      "Abram said to Lot, “Please, let there be no strife between you and me, and between your herdsmen and my herdsmen; for we are relatives. \n",
      "Isn’t the whole land before you? Please separate yourself from me. If you go to the left hand, then I will go to the right. Or if you go to the right hand, then I will go to the left.” \n",
      "Lot lifted up his eyes, and saw all the plain of the Jordan, that it was well-watered everywhere, before Yahweh destroyed Sodom and Gomorrah, like the garden of Yahweh, like the land of Egypt, as you go to Zoar. \n",
      "So Lot chose the Plain of the Jordan for himself. Lot traveled east, and they separated themselves from one other. \n",
      "Abram lived in the land of Canaan, and Lot lived in the cities of the plain, and moved his tent as far as Sodom. \n",
      "Now the men of Sodom were exceedingly wicked and sinners against Yahweh. \n",
      "Yahweh said to Abram, after Lot was separated from him, “Now, lift up your eyes, and look from the place where you are, northward and southward and eastward and westward, \n",
      "for I will give all the land which you see to you and to your offspring forever. \n",
      "I will make your offspring as the dust of the earth, so that if a man can count the dust of the earth, then your offspring may also be counted. \n",
      "Arise, walk through the land in its length and in its width; for I will give it to you.” \n",
      "Abram moved his tent, and came and lived by the oaks of Mamre, which are in Hebron, and built an altar there to Yahweh. \n",
      "\n",
      "\n",
      "File number:  15\n",
      "﻿Genesis.\n",
      "Chapter 15.\n",
      "After these things Yahweh’s word came to Abram in a vision, saying, “Don’t be afraid, Abram. I am your shield, your exceedingly great reward.” \n",
      "Abram said, “Lord Yahweh, what will you give me, since I go childless, and he who will inherit my estate is Eliezer of Damascus?” \n",
      "Abram said, “Behold, you have given no children to me: and, behold, one born in my house is my heir.” \n",
      "Behold, Yahweh’s word came to him, saying, “This man will not be your heir, but he who will come out of your own body will be your heir.” \n",
      "Yahweh brought him outside, and said, “Look now toward the sky, and count the stars, if you are able to count them.” He said to Abram, “So your offspring will be.” \n",
      "He believed in Yahweh, who credited it to him for righteousness. \n",
      "He said to Abram, “I am Yahweh who brought you out of Ur of the Chaldees, to give you this land to inherit it.” \n",
      "He said, “Lord Yahweh, how will I know that I will inherit it?” \n",
      "He said to him, “Bring me a heifer three years old, a female goat three years old, a ram three years old, a turtledove, and a young pigeon.” \n",
      "He brought him all these, and divided them in the middle, and laid each half opposite the other; but he didn’t divide the birds. \n",
      "The birds of prey came down on the carcasses, and Abram drove them away. \n",
      "When the sun was going down, a deep sleep fell on Abram. Now terror and great darkness fell on him. \n",
      "He said to Abram, “Know for sure that your offspring will live as foreigners in a land that is not theirs, and will serve them. They will afflict them four hundred years. \n",
      "I will also judge that nation, whom they will serve. Afterward they will come out with great wealth; \n",
      "but you will go to your fathers in peace. You will be buried at a good old age. \n",
      "In the fourth generation they will come here again, for the iniquity of the Amorite is not yet full.” \n",
      "It came to pass that, when the sun went down, and it was dark, behold, a smoking furnace and a flaming torch passed between these pieces. \n",
      "In that day Yahweh made a covenant with Abram, saying, “I have given this land to your offspring, from the river of Egypt to the great river, the river Euphrates: \n",
      "the land of the Kenites, the Kenizzites, the Kadmonites, \n",
      "the Hittites, the Perizzites, the Rephaim, \n",
      "the Amorites, the Canaanites, the Girgashites, and the Jebusites.” \n",
      "\n"
     ]
    }
   ],
   "source": [
    "print(approx_result)\n",
    "write_files_at_index(approx_result)"
   ]
  },
  {
   "cell_type": "markdown",
   "metadata": {},
   "source": [
    "Po usunięciu szumu z macierzy i zastosowaniu SVD oraz low rank approximation dla k = 150 otrzymano dwa takie same pliki jak w dwóch wcześniejszych zadaniach, jednak jeden się różnił."
   ]
  },
  {
   "cell_type": "markdown",
   "metadata": {},
   "source": [
    "### 9. Porównaj działanie programu bez usuwania szumu i z usuwaniem szumu. Dla jakiej wartości k wyniki wyszukiwania są najlepsze (subiektywnie). Zbadaj wpływ przekształcenia IDF na wyniki wyszukiwania."
   ]
  },
  {
   "cell_type": "code",
   "execution_count": 40,
   "metadata": {},
   "outputs": [
    {
     "name": "stdout",
     "output_type": "stream",
     "text": [
      "Bez usuwania szumu:\n",
      "[(15, 0.3461022720388944), (12, 0.31396209612601805), (17, 0.28634335213682716)]\n"
     ]
    }
   ],
   "source": [
    "print(\"Bez usuwania szumu:\")\n",
    "print(normalized_result)"
   ]
  },
  {
   "cell_type": "code",
   "execution_count": 41,
   "metadata": {},
   "outputs": [
    {
     "name": "stdout",
     "output_type": "stream",
     "text": [
      "Dla k =  5\n",
      "[(836, 0.2960144295143441), (700, 0.2959517503907884), (689, 0.2958445305848699)] \n",
      "\n",
      "Dla k =  10\n",
      "[(700, 0.2972279932137946), (805, 0.295732646363496), (835, 0.29524475026637315)] \n",
      "\n",
      "Dla k =  15\n",
      "[(18, 0.35255787216545026), (891, 0.34634267514283196), (465, 0.3448670466918809)] \n",
      "\n",
      "Dla k =  20\n",
      "[(18, 0.3430897301716176), (722, 0.3411985947798077), (891, 0.33639252068421316)] \n",
      "\n",
      "Dla k =  25\n",
      "[(727, 0.33727809802978564), (722, 0.3335588823105624), (32, 0.3324717323729581)] \n",
      "\n",
      "Dla k =  30\n",
      "[(17, 0.3723578775235692), (15, 0.3657706544410162), (12, 0.348726326995261)] \n",
      "\n",
      "Dla k =  50\n",
      "[(15, 0.3746398588314883), (12, 0.3594304697495081), (13, 0.35186952877661737)] \n",
      "\n",
      "Dla k =  100\n",
      "[(15, 0.37924486169317423), (12, 0.3504441641338397), (13, 0.34450194344269547)] \n",
      "\n",
      "Dla k =  150\n",
      "[(15, 0.3784906427640009), (12, 0.3437077217291979), (13, 0.33155858160665247)] \n",
      "\n",
      "Dla k =  200\n",
      "[(15, 0.38100695392818756), (12, 0.3368981937000188), (13, 0.3215925862419339)] \n",
      "\n",
      "Dla k =  300\n",
      "[(15, 0.3761793511682318), (12, 0.33452808187643707), (13, 0.3009472436585927)] \n",
      "\n",
      "Dla k =  400\n",
      "[(15, 0.3672243856604416), (12, 0.3298651375981385), (17, 0.28313708673924026)] \n",
      "\n",
      "Dla k =  500\n",
      "[(15, 0.3598654447599638), (12, 0.32787461006491914), (17, 0.2823229657017181)] \n",
      "\n"
     ]
    }
   ],
   "source": [
    "for k in [5,10,15,20,25,30,50,100,150,200,300,400,500]:\n",
    "    print(\"Dla k = \", k)\n",
    "    print(get_similar_documents_approx(text, 3, k), \"\\n\")"
   ]
  },
  {
   "cell_type": "markdown",
   "metadata": {},
   "source": [
    "Dla **k < 30** program z usuwaniem szumu zwraca pliki wydające się losowymi. Jednak dla k odpowiednio większego **(k >= 30)** wyniki z usuwaniem szumu wydają się być dokładniejsze niż bez jego usuwania. Optymalną wartością według mnie jest **k = 125 (+/- 25)**."
   ]
  },
  {
   "cell_type": "markdown",
   "metadata": {},
   "source": [
    "Według mnie **IDF** ma duży wpływ na wyniki wyszukiwania, ponieważ słowa, które występują w większości plików (tak jak wspomniane wcześniej *chapter* lub *a*, *the*, *of*, *and*) nie wpływają aż tak na wynik. Można zatem zwrócić większą uwagę na słowa rzadkie i porównywać pliki pod tym kryterium."
   ]
  }
 ],
 "metadata": {
  "kernelspec": {
   "display_name": "Python 3",
   "language": "python",
   "name": "python3"
  },
  "language_info": {
   "codemirror_mode": {
    "name": "ipython",
    "version": 3
   },
   "file_extension": ".py",
   "mimetype": "text/x-python",
   "name": "python",
   "nbconvert_exporter": "python",
   "pygments_lexer": "ipython3",
   "version": "3.7.6"
  },
  "pycharm": {
   "stem_cell": {
    "cell_type": "raw",
    "metadata": {
     "collapsed": false
    },
    "source": []
   }
  }
 },
 "nbformat": 4,
 "nbformat_minor": 1
}
