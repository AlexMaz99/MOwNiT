{
 "cells": [
  {
   "cell_type": "code",
   "execution_count": null,
   "metadata": {},
   "outputs": [],
   "source": [
    "from numpy import float32\n",
    "from matplotlib import pyplot as plt\n",
    "import time \n",
    "\n",
    "val = float32(0.53125)\n",
    "numbers = [val] * 10 ** 7"
   ]
  },
  {
   "cell_type": "code",
   "execution_count": null,
   "metadata": {
    "pycharm": {
     "name": "#%%\n"
    }
   },
   "outputs": [],
   "source": [
    "def absolute_error(number, approximation):\n",
    "    return abs(number - approximation)\n",
    "\n",
    "\n",
    "def relative_error(number, approximation):\n",
    "    return abs(number - approximation) / number\n",
    "\n",
    "\n",
    "def iterative_sum(tab):\n",
    "    sum = float32(0)\n",
    "    for i in tab:\n",
    "        sum += i\n",
    "    return sum\n",
    "\n",
    "\n",
    "def recursive_sum(xs):\n",
    "    length = len(xs)\n",
    "    if length == 0:\n",
    "        return 0\n",
    "    if length == 1:\n",
    "        return xs[0]\n",
    "    else:\n",
    "        return recursive_sum(xs[:length//2]) + recursive_sum(xs[length//2:])\n",
    "\n",
    "\n",
    "def relative_error_plot(numbers):\n",
    "    sum = float32(0)\n",
    "    sum2 = 0\n",
    "    x = 0\n",
    "    tab = []\n",
    "    for i in numbers:\n",
    "        sum += i\n",
    "        sum2 += i\n",
    "        if x % 25000 == 0:\n",
    "            tab.append(relative_error(sum2, sum) * 100)\n",
    "        x += 1\n",
    "    plt.plot(tab)\n",
    "    plt.show()\n",
    "\n",
    "\n",
    "def compare_time_iterative_recursive():\n",
    "    start = time.time() * 1000\n",
    "    iterative_sum(numbers)\n",
    "    end = time.time() * 1000\n",
    "    time_sum1 = (end - start).__round__(2)\n",
    "    print(f\"Czas dla sumy obliczonej iteracyjnie: {time_sum1} milisekund\")\n",
    "    start = time.time() * 1000\n",
    "    recursive_sum(numbers)\n",
    "    end = time.time() * 1000\n",
    "    time_recursive_sum = (end - start).__round__(2)\n",
    "    print(f\"Czas dla sumy obliczonej rekurencyjnie: {time_recursive_sum} milisekund\")\n",
    "\n",
    "\n",
    "def not_zero_error():\n",
    "    x = float32(0.0001)\n",
    "    y = float32(10000)\n",
    "    numbers2 = []\n",
    "    sum64 = float(0)\n",
    "    for i in range(10 ** 7 + 1):\n",
    "        if i % 2 == 0:\n",
    "            numbers2.append(x)\n",
    "            sum64 += x\n",
    "        else:\n",
    "            numbers2.append(y)\n",
    "            sum64 += y\n",
    "    sum3 = recursive_sum(numbers2)\n",
    "    return relative_error(sum64, sum3) * 100\n",
    "\n",
    "\n",
    "def Kahan_sum (tab, function):\n",
    "    sum = function(0.0)\n",
    "    err = function(0.0)\n",
    "    for i in tab:\n",
    "        y = function(i - err)\n",
    "        tmp = function(sum + y)\n",
    "        err = function((tmp - sum) - y)\n",
    "        sum = tmp\n",
    "    return sum\n",
    "# (tmp - sum) odzyskuje wyższe bity y; odjęcie y odzyskuje niższe bity y; zatem err zawiera utracone niskie bity\n",
    "\n",
    "\n",
    "def compare_time_kahan_recursive():\n",
    "    start = time.time() * 1000\n",
    "    Kahan_sum(numbers, float32)\n",
    "    end = time.time() * 1000\n",
    "    time_sum1 = (end - start).__round__(2)\n",
    "    print(f\"Czas dla sumy obliczonej algorytmem Kahana: {time_sum1} milisekund\")\n",
    "    start = time.time() * 1000\n",
    "    recursive_sum(numbers)\n",
    "    end = time.time() * 1000\n",
    "    time_recursive_sum = (end - start).__round__(2)\n",
    "    print(f\"Czas dla sumy obliczonej rekurencyjnie: {time_recursive_sum} milisekund\")"
   ]
  },
  {
   "cell_type": "code",
   "execution_count": null,
   "metadata": {},
   "outputs": [],
   "source": [
    "sum32 = iterative_sum(numbers)\n",
    "original_sum = val * 10 ** 7\n",
    "print('Wartość dla 32 bitów:', sum32)\n",
    "print('Wartość dla 64 bitów: ', original_sum)\n",
    "\n",
    "print('Błąd bezwzględny:', absolute_error(original_sum, sum32))\n",
    "print('Błąd względny:', relative_error(original_sum, sum32) * 100, '%')"
   ]
  },
  {
   "cell_type": "code",
   "execution_count": null,
   "metadata": {},
   "outputs": [],
   "source": [
    "sum3 = recursive_sum(numbers)\n",
    "print('Suma obliczona rekurencyjnie: ', sum3)\n",
    "print('Błąd bezwzględny: ', absolute_error(original_sum, sum3))\n",
    "print('Błąd względny: ', relative_error(original_sum, sum3) * 100, '%')"
   ]
  },
  {
   "cell_type": "code",
   "execution_count": null,
   "metadata": {},
   "outputs": [],
   "source": [
    "relative_error_plot(numbers)\n",
    "compare_time_iterative_recursive()\n",
    "print('Niezerowy błąd: ', not_zero_error(), '%')"
   ]
  },
  {
   "cell_type": "code",
   "execution_count": null,
   "metadata": {},
   "outputs": [],
   "source": [
    "kahan_sum = Kahan_sum(numbers, float32)\n",
    "original_sum = val * 10 ** 7\n",
    "print('Błąd bezwzględny: ', absolute_error(original_sum, kahan_sum))\n",
    "print('Błąd względny: ', relative_error(original_sum, kahan_sum) * 100, '%')"
   ]
  },
  {
   "cell_type": "code",
   "execution_count": null,
   "metadata": {},
   "outputs": [],
   "source": [
    "compare_time_kahan_recursive()"
   ]
  }
 ],
 "metadata": {
  "kernelspec": {
   "display_name": "Python 3.8.1 64-bit",
   "language": "python",
   "name": "python38164bitb33f7c05030a40caaabe1e902ffa99c1"
  },
  "language_info": {
   "codemirror_mode": {
    "name": "ipython",
    "version": 2
   },
   "file_extension": ".py",
   "mimetype": "text/x-python",
   "name": "python",
   "nbconvert_exporter": "python",
   "pygments_lexer": "ipython2",
   "version": "2.7.6"
  },
  "pycharm": {
   "stem_cell": {
    "cell_type": "raw",
    "metadata": {
     "collapsed": false
    },
    "source": []
   }
  }
 },
 "nbformat": 4,
 "nbformat_minor": 1
}
