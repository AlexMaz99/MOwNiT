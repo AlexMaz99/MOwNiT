{
 "cells": [
  {
   "cell_type": "markdown",
   "metadata": {},
   "source": [
    "# Sumowanie liczb pojedynczej precyzji"
   ]
  },
  {
   "cell_type": "code",
   "execution_count": 3,
   "metadata": {},
   "outputs": [],
   "source": [
    "from numpy import float32\n",
    "from matplotlib import pyplot as plt\n",
    "import time"
   ]
  },
  {
   "cell_type": "code",
   "execution_count": 4,
   "metadata": {
    "pycharm": {
     "name": "#%%\n"
    }
   },
   "outputs": [],
   "source": [
    "def absolute_error(number, approximation):\n",
    "    return abs(number - approximation)\n",
    "\n",
    "\n",
    "def relative_error(number, approximation):\n",
    "    return abs(number - approximation) / number\n",
    "\n",
    "\n",
    "def iterative_sum(tab):\n",
    "    sum = float32(0)\n",
    "    for i in tab:\n",
    "        sum += i\n",
    "    return sum"
   ]
  },
  {
   "cell_type": "code",
   "execution_count": 6,
   "metadata": {
    "pycharm": {
     "name": "#%%\n"
    }
   },
   "outputs": [
    {
     "name": "stdout",
     "output_type": "stream",
     "text": [
      "Wartość prawidłowa:  5312500.0\n",
      "Wartość uzyskana po zsumowaniu: 5030840.5\n",
      "Błąd bezwzględny: 281659.5\n",
      "Błąd względny: 5.301825882352941 %\n"
     ]
    }
   ],
   "source": [
    "val = float32(0.53125)\n",
    "numbers = [val] * 10 ** 7\n",
    "sum32 = iterative_sum(numbers)\n",
    "original_sum = val * 10 ** 7\n",
    "\n",
    "print('Wartość prawidłowa: ', original_sum)\n",
    "print('Wartość uzyskana po zsumowaniu:', sum32)\n",
    "print('Błąd bezwzględny:', absolute_error(original_sum, sum32))\n",
    "print('Błąd względny:', relative_error(original_sum, sum32) * 100, '%')"
   ]
  },
  {
   "cell_type": "markdown",
   "metadata": {},
   "source": [
    "Błąd względny jest tak duży, ponieważ dodajemy bardzo małą liczbę do coraz większej sumy."
   ]
  },
  {
   "cell_type": "code",
   "execution_count": 19,
   "metadata": {},
   "outputs": [
    {
     "data": {
      "image/png": "[encoded data removed]",
      "text/plain": [
       "<Figure size 432x288 with 1 Axes>"
      ]
     },
     "metadata": {
      "needs_background": "light"
     },
     "output_type": "display_data"
    }
   ],
   "source": [
    "def relative_error_plot(numbers):\n",
    "    sum = float32(0)\n",
    "    sum2 = 0\n",
    "    x = 0\n",
    "    tab = []\n",
    "    for i in numbers:\n",
    "        sum += i\n",
    "        sum2 += i\n",
    "        if x % 25000 == 0:\n",
    "            tab.append(relative_error(sum2, sum) * 100)\n",
    "        x += 1\n",
    "    plt.plot(tab)\n",
    "    plt.show()\n",
    "relative_error_plot(numbers)"
   ]
  },
  {
   "cell_type": "code",
   "execution_count": 9,
   "metadata": {},
   "outputs": [],
   "source": [
    "def recursive_sum(xs):\n",
    "    length = len(xs)\n",
    "    if length == 0:\n",
    "        return 0\n",
    "    if length == 1:\n",
    "        return xs[0]\n",
    "    else:\n",
    "        return recursive_sum(xs[:length//2]) + recursive_sum(xs[length//2:])\n",
    "sum3 = recursive_sum(numbers)"
   ]
  },
  {
   "cell_type": "code",
   "execution_count": 18,
   "metadata": {},
   "outputs": [
    {
     "name": "stdout",
     "output_type": "stream",
     "text": [
      "Wartość prawidłowa:  5312500.0\n",
      "Suma obliczona rekurencyjnie:  5312500.0\n",
      "Błąd bezwzględny:  0.0\n",
      "Błąd względny:  0.0 %\n"
     ]
    }
   ],
   "source": [
    "print('Wartość prawidłowa: ', original_sum)\n",
    "print('Suma obliczona rekurencyjnie: ', sum3)\n",
    "print('Błąd bezwzględny: ', absolute_error(original_sum, sum3))\n",
    "print('Błąd względny: ', relative_error(original_sum, sum3) * 100, '%')"
   ]
  },
  {
   "cell_type": "markdown",
   "metadata": {},
   "source": [
    "Błąd względny jest równy 0 %, ponieważ rekurencyjnie dodajemy do siebie bardzo podobne liczby. Bity mantysy nie są tracone."
   ]
  },
  {
   "cell_type": "markdown",
   "metadata": {},
   "source": [
    "Jednak jeżeli w tablicy będą obok siebie liczby bardzo duże i bardzo małe to błąd wzrośnie."
   ]
  },
  {
   "cell_type": "code",
   "execution_count": 23,
   "metadata": {},
   "outputs": [
    {
     "name": "stdout",
     "output_type": "stream",
     "text": [
      "Suma obliczona rekurencyjnie:  50000003000.0\n",
      "Wartość prawidłowa:  50000000496.69094\n",
      "Błąd bezwzględny:  2575.3090591430664\n",
      "Błąd względny:  5.150618067120826e-06 %\n"
     ]
    }
   ],
   "source": [
    "def not_zero_error():\n",
    "    x = float32(0.0001)\n",
    "    y = float32(10000)\n",
    "    numbers2 = []\n",
    "    sum64 = float(0)\n",
    "    for i in range(10 ** 7 + 1):\n",
    "        if i % 2 == 0:\n",
    "            numbers2.append(x)\n",
    "            sum64 += x\n",
    "        else:\n",
    "            numbers2.append(y)\n",
    "            sum64 += y\n",
    "    sum4 = recursive_sum(numbers2)\n",
    "    print('Suma obliczona rekurencyjnie: ', sum4)\n",
    "    print('Wartość prawidłowa: ', sum64)\n",
    "    print('Błąd bezwzględny: ', absolute_error(sum64, sum4))\n",
    "    print('Błąd względny: ', relative_error(sum64, sum4) * 100, '%')\n",
    "not_zero_error()"
   ]
  },
  {
   "cell_type": "code",
   "execution_count": 14,
   "metadata": {},
   "outputs": [],
   "source": [
    "def Kahan_sum (tab, function):\n",
    "    sum = function(0.0)\n",
    "    err = function(0.0)\n",
    "    for i in tab:\n",
    "        y = function(i - err)\n",
    "        tmp = function(sum + y)\n",
    "        err = function((tmp - sum) - y)\n",
    "        sum = tmp\n",
    "    return sum\n",
    "# (tmp - sum) odzyskuje wyższe bity y; \n",
    "#odjęcie y odzyskuje niższe bity y; zatem err zawiera utracone niskie bity\n",
    "kahan_sum = Kahan_sum(numbers, float32)\n",
    "original_sum = val * 10 ** 7"
   ]
  },
  {
   "cell_type": "code",
   "execution_count": 15,
   "metadata": {},
   "outputs": [
    {
     "name": "stdout",
     "output_type": "stream",
     "text": [
      "Błąd bezwzględny:  0.0\n",
      "Błąd względny:  0.0 %\n"
     ]
    }
   ],
   "source": [
    "print('Błąd bezwzględny: ', absolute_error(original_sum, kahan_sum))\n",
    "print('Błąd względny: ', relative_error(original_sum, kahan_sum) * 100, '%')"
   ]
  },
  {
   "cell_type": "code",
   "execution_count": 17,
   "metadata": {},
   "outputs": [
    {
     "name": "stdout",
     "output_type": "stream",
     "text": [
      "Czas dla sumy obliczonej iteracyjnie: 1253.96 milisekund\n",
      "Czas dla sumy obliczonej algorytmem Kahana: 20165.82 milisekund\n",
      "Czas dla sumy obliczonej rekurencyjnie: 10895.82 milisekund\n"
     ]
    }
   ],
   "source": [
    "def compare_time():\n",
    "    start = time.time() * 1000\n",
    "    iterative_sum(numbers)\n",
    "    end = time.time() * 1000\n",
    "    time_sum1 = (end - start).__round__(2)\n",
    "    print(f\"Czas dla sumy obliczonej iteracyjnie: {time_sum1} milisekund\")\n",
    "    start = time.time() * 1000\n",
    "    Kahan_sum(numbers, float32)\n",
    "    end = time.time() * 1000\n",
    "    time_sum1 = (end - start).__round__(2)\n",
    "    print(f\"Czas dla sumy obliczonej algorytmem Kahana: {time_sum1} milisekund\")\n",
    "    start = time.time() * 1000\n",
    "    recursive_sum(numbers)\n",
    "    end = time.time() * 1000\n",
    "    time_recursive_sum = (end - start).__round__(2)\n",
    "    print(f\"Czas dla sumy obliczonej rekurencyjnie: {time_recursive_sum} milisekund\")\n",
    "compare_time()"
   ]
  },
  {
   "cell_type": "code",
   "execution_count": null,
   "metadata": {},
   "outputs": [],
   "source": []
  }
 ],
 "metadata": {
  "kernelspec": {
   "display_name": "Python 3",
   "language": "python",
   "name": "python3"
  },
  "language_info": {
   "codemirror_mode": {
    "name": "ipython",
    "version": 3
   },
   "file_extension": ".py",
   "mimetype": "text/x-python",
   "name": "python",
   "nbconvert_exporter": "python",
   "pygments_lexer": "ipython3",
   "version": "3.7.6"
  },
  "pycharm": {
   "stem_cell": {
    "cell_type": "raw",
    "metadata": {
     "collapsed": false
    },
    "source": []
   }
  }
 },
 "nbformat": 4,
 "nbformat_minor": 1
}
